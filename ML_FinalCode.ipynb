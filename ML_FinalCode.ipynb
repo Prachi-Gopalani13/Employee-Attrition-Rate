{
 "cells": [
  {
   "cell_type": "markdown",
   "metadata": {},
   "source": [
    "# Logistic Regression with Python\n",
    "## Import Libraries"
   ]
  },
  {
   "cell_type": "code",
   "execution_count": 77,
   "metadata": {},
   "outputs": [],
   "source": [
    "import numpy as np                        ## Main Library\n",
    "import pandas as pd                       ## Main Library\n",
    "import matplotlib.pyplot as plt           ## Plotting Graphs\n",
    "%matplotlib inline\n",
    "from patsy import dmatrices                \n",
    "import sklearn                            ## Used for Building model\n",
    "import seaborn as sns                     ## Statistical plotting\n",
    "import statsmodels.api as sm              ##Statistical Features\n",
    "from scipy import stats\n",
    "import warnings                           ## Remove warnings\n",
    "warnings.filterwarnings(\"ignore\")\n",
    "from scipy.special import factorial"
   ]
  },
  {
   "cell_type": "markdown",
   "metadata": {},
   "source": [
    "# The Data\n",
    "\n",
    "Let's start by reading in the Attrition.csv file into a pandas dataframe."
   ]
  },
  {
   "cell_type": "code",
   "execution_count": 78,
   "metadata": {},
   "outputs": [],
   "source": [
    "## Importing Data\n",
    "dataframe=pd.read_csv(r\"C://Users//Prachi Gopalani//Desktop//Phyton programming course//IBM Attrition Data.csv\")"
   ]
  },
  {
   "cell_type": "code",
   "execution_count": 79,
   "metadata": {},
   "outputs": [
    {
     "data": {
      "text/html": [
       "<div>\n",
       "<style scoped>\n",
       "    .dataframe tbody tr th:only-of-type {\n",
       "        vertical-align: middle;\n",
       "    }\n",
       "\n",
       "    .dataframe tbody tr th {\n",
       "        vertical-align: top;\n",
       "    }\n",
       "\n",
       "    .dataframe thead th {\n",
       "        text-align: right;\n",
       "    }\n",
       "</style>\n",
       "<table border=\"1\" class=\"dataframe\">\n",
       "  <thead>\n",
       "    <tr style=\"text-align: right;\">\n",
       "      <th></th>\n",
       "      <th>Age</th>\n",
       "      <th>Attrition</th>\n",
       "      <th>Department</th>\n",
       "      <th>DistanceFromHome</th>\n",
       "      <th>Education</th>\n",
       "      <th>EducationField</th>\n",
       "      <th>EnvironmentSatisfaction</th>\n",
       "      <th>JobSatisfaction</th>\n",
       "      <th>MaritalStatus</th>\n",
       "      <th>MonthlyIncome</th>\n",
       "      <th>NumCompaniesWorked</th>\n",
       "      <th>WorkLifeBalance</th>\n",
       "      <th>YearsAtCompany</th>\n",
       "    </tr>\n",
       "  </thead>\n",
       "  <tbody>\n",
       "    <tr>\n",
       "      <th>0</th>\n",
       "      <td>41</td>\n",
       "      <td>Yes</td>\n",
       "      <td>Sales</td>\n",
       "      <td>1</td>\n",
       "      <td>2</td>\n",
       "      <td>Life Sciences</td>\n",
       "      <td>2</td>\n",
       "      <td>4</td>\n",
       "      <td>Single</td>\n",
       "      <td>5993</td>\n",
       "      <td>8</td>\n",
       "      <td>1</td>\n",
       "      <td>6</td>\n",
       "    </tr>\n",
       "    <tr>\n",
       "      <th>1</th>\n",
       "      <td>49</td>\n",
       "      <td>No</td>\n",
       "      <td>Research &amp; Development</td>\n",
       "      <td>8</td>\n",
       "      <td>1</td>\n",
       "      <td>Life Sciences</td>\n",
       "      <td>3</td>\n",
       "      <td>2</td>\n",
       "      <td>Married</td>\n",
       "      <td>5130</td>\n",
       "      <td>1</td>\n",
       "      <td>3</td>\n",
       "      <td>10</td>\n",
       "    </tr>\n",
       "    <tr>\n",
       "      <th>2</th>\n",
       "      <td>37</td>\n",
       "      <td>Yes</td>\n",
       "      <td>Research &amp; Development</td>\n",
       "      <td>2</td>\n",
       "      <td>2</td>\n",
       "      <td>Other</td>\n",
       "      <td>4</td>\n",
       "      <td>3</td>\n",
       "      <td>Single</td>\n",
       "      <td>2090</td>\n",
       "      <td>6</td>\n",
       "      <td>3</td>\n",
       "      <td>0</td>\n",
       "    </tr>\n",
       "    <tr>\n",
       "      <th>3</th>\n",
       "      <td>33</td>\n",
       "      <td>No</td>\n",
       "      <td>Research &amp; Development</td>\n",
       "      <td>3</td>\n",
       "      <td>4</td>\n",
       "      <td>Life Sciences</td>\n",
       "      <td>4</td>\n",
       "      <td>3</td>\n",
       "      <td>Married</td>\n",
       "      <td>2909</td>\n",
       "      <td>1</td>\n",
       "      <td>3</td>\n",
       "      <td>8</td>\n",
       "    </tr>\n",
       "    <tr>\n",
       "      <th>4</th>\n",
       "      <td>27</td>\n",
       "      <td>No</td>\n",
       "      <td>Research &amp; Development</td>\n",
       "      <td>2</td>\n",
       "      <td>1</td>\n",
       "      <td>Medical</td>\n",
       "      <td>1</td>\n",
       "      <td>2</td>\n",
       "      <td>Married</td>\n",
       "      <td>3468</td>\n",
       "      <td>9</td>\n",
       "      <td>3</td>\n",
       "      <td>2</td>\n",
       "    </tr>\n",
       "  </tbody>\n",
       "</table>\n",
       "</div>"
      ],
      "text/plain": [
       "   Age Attrition              Department  DistanceFromHome  Education  \\\n",
       "0   41       Yes                   Sales                 1          2   \n",
       "1   49        No  Research & Development                 8          1   \n",
       "2   37       Yes  Research & Development                 2          2   \n",
       "3   33        No  Research & Development                 3          4   \n",
       "4   27        No  Research & Development                 2          1   \n",
       "\n",
       "  EducationField  EnvironmentSatisfaction  JobSatisfaction MaritalStatus  \\\n",
       "0  Life Sciences                        2                4        Single   \n",
       "1  Life Sciences                        3                2       Married   \n",
       "2          Other                        4                3        Single   \n",
       "3  Life Sciences                        4                3       Married   \n",
       "4        Medical                        1                2       Married   \n",
       "\n",
       "   MonthlyIncome  NumCompaniesWorked  WorkLifeBalance  YearsAtCompany  \n",
       "0           5993                   8                1               6  \n",
       "1           5130                   1                3              10  \n",
       "2           2090                   6                3               0  \n",
       "3           2909                   1                3               8  \n",
       "4           3468                   9                3               2  "
      ]
     },
     "execution_count": 79,
     "metadata": {},
     "output_type": "execute_result"
    }
   ],
   "source": [
    "## Top 5 Rows\n",
    "dataframe.head()"
   ]
  },
  {
   "cell_type": "code",
   "execution_count": 80,
   "metadata": {},
   "outputs": [
    {
     "name": "stdout",
     "output_type": "stream",
     "text": [
      "['Age' 'Attrition' 'Department' 'DistanceFromHome' 'Education'\n",
      " 'EducationField' 'EnvironmentSatisfaction' 'JobSatisfaction'\n",
      " 'MaritalStatus' 'MonthlyIncome' 'NumCompaniesWorked' 'WorkLifeBalance'\n",
      " 'YearsAtCompany']\n"
     ]
    }
   ],
   "source": [
    "## Display all column names\n",
    "names = dataframe.columns.values \n",
    "print(names)"
   ]
  },
  {
   "cell_type": "markdown",
   "metadata": {},
   "source": [
    "# Exploratory Data Analysis\n",
    "\n",
    "Let's begin some exploratory data analysis!"
   ]
  },
  {
   "cell_type": "markdown",
   "metadata": {},
   "source": [
    "## Find the age distribution of employees in IBM"
   ]
  },
  {
   "cell_type": "code",
   "execution_count": 86,
   "metadata": {},
   "outputs": [
    {
     "data": {
      "image/png": "[encoded data removed]",
      "text/plain": [
       "<Figure size 720x576 with 1 Axes>"
      ]
     },
     "metadata": {
      "needs_background": "light"
     },
     "output_type": "display_data"
    }
   ],
   "source": [
    "# histogram for age\n",
    "plt.figure(figsize=(10,8))\n",
    "dataframe['Age'].hist(bins=70)\n",
    "plt.title(\"Age distribution of Employees\")\n",
    "plt.xlabel(\"Age\")\n",
    "plt.ylabel(\"No. of Employees\")\n",
    "plt.show()"
   ]
  },
  {
   "cell_type": "markdown",
   "metadata": {},
   "source": [
    "## Explore attrition by age"
   ]
  },
  {
   "cell_type": "code",
   "execution_count": 82,
   "metadata": {},
   "outputs": [
    {
     "data": {
      "image/png": "[encoded data removed]",
      "text/plain": [
       "<Figure size 1008x720 with 1 Axes>"
      ]
     },
     "metadata": {
      "needs_background": "light"
     },
     "output_type": "display_data"
    }
   ],
   "source": [
    "plt.figure(figsize=(14,10))\n",
    "plt.scatter(dataframe.Attrition,dataframe.Age, alpha=.55)\n",
    "plt.title(\"Attrition by Age \")\n",
    "plt.ylabel(\"Age\")\n",
    "plt.xlabel(\"Nature of Attrition\")\n",
    "plt.grid(b=True, which='major',axis='y')\n",
    "plt.show()"
   ]
  },
  {
   "cell_type": "markdown",
   "metadata": {},
   "source": [
    "## Explore data for Left employees breakdown"
   ]
  },
  {
   "cell_type": "code",
   "execution_count": 83,
   "metadata": {},
   "outputs": [
    {
     "data": {
      "image/png": "[encoded data removed]",
      "text/plain": [
       "<Figure size 576x432 with 1 Axes>"
      ]
     },
     "metadata": {
      "needs_background": "light"
     },
     "output_type": "display_data"
    }
   ],
   "source": [
    "plt.figure(figsize=(8,6))\n",
    "dataframe.Attrition.value_counts().plot(kind='barh',color='blue',alpha=.65)\n",
    "plt.title(\"Attrition breakdown \")\n",
    "plt.ylabel(\"Nature of Attrition\")\n",
    "plt.xlabel(\"Attrition Count\")\n",
    "plt.show()"
   ]
  },
  {
   "cell_type": "markdown",
   "metadata": {},
   "source": [
    "## Explore data for Education Field distribution\n"
   ]
  },
  {
   "cell_type": "code",
   "execution_count": 84,
   "metadata": {},
   "outputs": [
    {
     "data": {
      "image/png": "[encoded data removed]",
      "text/plain": [
       "<Figure size 720x576 with 1 Axes>"
      ]
     },
     "metadata": {
      "needs_background": "light"
     },
     "output_type": "display_data"
    }
   ],
   "source": [
    "plt.figure(figsize=(10,8))\n",
    "dataframe.EducationField.value_counts().plot(kind='barh',color='g',alpha=.65)\n",
    "plt.title(\"Education Field Distribution\")\n",
    "plt.ylabel(\"Education Field\")\n",
    "plt.xlabel(\"Attrition Count\")\n",
    "plt.show()"
   ]
  },
  {
   "cell_type": "markdown",
   "metadata": {},
   "source": [
    "## Explore data for Marital Status"
   ]
  },
  {
   "cell_type": "code",
   "execution_count": 85,
   "metadata": {},
   "outputs": [
    {
     "data": {
      "image/png": "[encoded data removed]",
      "text/plain": [
       "<Figure size 576x432 with 1 Axes>"
      ]
     },
     "metadata": {
      "needs_background": "light"
     },
     "output_type": "display_data"
    }
   ],
   "source": [
    "plt.figure(figsize=(8,6))\n",
    "dataframe.MaritalStatus.value_counts().plot(kind='bar',alpha=.5)\n",
    "plt.title(\"Marital Status Distribution\")\n",
    "plt.ylabel(\"Attrition Count\")\n",
    "plt.xlabel(\"Marital Status\")\n",
    "plt.show()"
   ]
  },
  {
   "cell_type": "code",
   "execution_count": 144,
   "metadata": {},
   "outputs": [
    {
     "data": {
      "text/html": [
       "<div>\n",
       "<style scoped>\n",
       "    .dataframe tbody tr th:only-of-type {\n",
       "        vertical-align: middle;\n",
       "    }\n",
       "\n",
       "    .dataframe tbody tr th {\n",
       "        vertical-align: top;\n",
       "    }\n",
       "\n",
       "    .dataframe thead th {\n",
       "        text-align: right;\n",
       "    }\n",
       "</style>\n",
       "<table border=\"1\" class=\"dataframe\">\n",
       "  <thead>\n",
       "    <tr style=\"text-align: right;\">\n",
       "      <th></th>\n",
       "      <th>Age</th>\n",
       "      <th>DistanceFromHome</th>\n",
       "      <th>Education</th>\n",
       "      <th>EnvironmentSatisfaction</th>\n",
       "      <th>JobSatisfaction</th>\n",
       "      <th>MonthlyIncome</th>\n",
       "      <th>NumCompaniesWorked</th>\n",
       "      <th>WorkLifeBalance</th>\n",
       "      <th>YearsAtCompany</th>\n",
       "    </tr>\n",
       "  </thead>\n",
       "  <tbody>\n",
       "    <tr>\n",
       "      <th>count</th>\n",
       "      <td>1470.000000</td>\n",
       "      <td>1470.000000</td>\n",
       "      <td>1470.000000</td>\n",
       "      <td>1470.000000</td>\n",
       "      <td>1470.000000</td>\n",
       "      <td>1470.000000</td>\n",
       "      <td>1470.000000</td>\n",
       "      <td>1470.000000</td>\n",
       "      <td>1470.000000</td>\n",
       "    </tr>\n",
       "    <tr>\n",
       "      <th>mean</th>\n",
       "      <td>36.923810</td>\n",
       "      <td>9.192517</td>\n",
       "      <td>2.912925</td>\n",
       "      <td>2.721769</td>\n",
       "      <td>2.728571</td>\n",
       "      <td>6502.931293</td>\n",
       "      <td>2.693197</td>\n",
       "      <td>2.761224</td>\n",
       "      <td>7.008163</td>\n",
       "    </tr>\n",
       "    <tr>\n",
       "      <th>std</th>\n",
       "      <td>9.135373</td>\n",
       "      <td>8.106864</td>\n",
       "      <td>1.024165</td>\n",
       "      <td>1.093082</td>\n",
       "      <td>1.102846</td>\n",
       "      <td>4707.956783</td>\n",
       "      <td>2.498009</td>\n",
       "      <td>0.706476</td>\n",
       "      <td>6.126525</td>\n",
       "    </tr>\n",
       "    <tr>\n",
       "      <th>min</th>\n",
       "      <td>18.000000</td>\n",
       "      <td>1.000000</td>\n",
       "      <td>1.000000</td>\n",
       "      <td>1.000000</td>\n",
       "      <td>1.000000</td>\n",
       "      <td>1009.000000</td>\n",
       "      <td>0.000000</td>\n",
       "      <td>1.000000</td>\n",
       "      <td>0.000000</td>\n",
       "    </tr>\n",
       "    <tr>\n",
       "      <th>25%</th>\n",
       "      <td>30.000000</td>\n",
       "      <td>2.000000</td>\n",
       "      <td>2.000000</td>\n",
       "      <td>2.000000</td>\n",
       "      <td>2.000000</td>\n",
       "      <td>2911.000000</td>\n",
       "      <td>1.000000</td>\n",
       "      <td>2.000000</td>\n",
       "      <td>3.000000</td>\n",
       "    </tr>\n",
       "    <tr>\n",
       "      <th>50%</th>\n",
       "      <td>36.000000</td>\n",
       "      <td>7.000000</td>\n",
       "      <td>3.000000</td>\n",
       "      <td>3.000000</td>\n",
       "      <td>3.000000</td>\n",
       "      <td>4919.000000</td>\n",
       "      <td>2.000000</td>\n",
       "      <td>3.000000</td>\n",
       "      <td>5.000000</td>\n",
       "    </tr>\n",
       "    <tr>\n",
       "      <th>75%</th>\n",
       "      <td>43.000000</td>\n",
       "      <td>14.000000</td>\n",
       "      <td>4.000000</td>\n",
       "      <td>4.000000</td>\n",
       "      <td>4.000000</td>\n",
       "      <td>8379.000000</td>\n",
       "      <td>4.000000</td>\n",
       "      <td>3.000000</td>\n",
       "      <td>9.000000</td>\n",
       "    </tr>\n",
       "    <tr>\n",
       "      <th>max</th>\n",
       "      <td>60.000000</td>\n",
       "      <td>29.000000</td>\n",
       "      <td>5.000000</td>\n",
       "      <td>4.000000</td>\n",
       "      <td>4.000000</td>\n",
       "      <td>19999.000000</td>\n",
       "      <td>9.000000</td>\n",
       "      <td>4.000000</td>\n",
       "      <td>40.000000</td>\n",
       "    </tr>\n",
       "  </tbody>\n",
       "</table>\n",
       "</div>"
      ],
      "text/plain": [
       "               Age  DistanceFromHome    Education  EnvironmentSatisfaction  \\\n",
       "count  1470.000000       1470.000000  1470.000000              1470.000000   \n",
       "mean     36.923810          9.192517     2.912925                 2.721769   \n",
       "std       9.135373          8.106864     1.024165                 1.093082   \n",
       "min      18.000000          1.000000     1.000000                 1.000000   \n",
       "25%      30.000000          2.000000     2.000000                 2.000000   \n",
       "50%      36.000000          7.000000     3.000000                 3.000000   \n",
       "75%      43.000000         14.000000     4.000000                 4.000000   \n",
       "max      60.000000         29.000000     5.000000                 4.000000   \n",
       "\n",
       "       JobSatisfaction  MonthlyIncome  NumCompaniesWorked  WorkLifeBalance  \\\n",
       "count      1470.000000    1470.000000         1470.000000      1470.000000   \n",
       "mean          2.728571    6502.931293            2.693197         2.761224   \n",
       "std           1.102846    4707.956783            2.498009         0.706476   \n",
       "min           1.000000    1009.000000            0.000000         1.000000   \n",
       "25%           2.000000    2911.000000            1.000000         2.000000   \n",
       "50%           3.000000    4919.000000            2.000000         3.000000   \n",
       "75%           4.000000    8379.000000            4.000000         3.000000   \n",
       "max           4.000000   19999.000000            9.000000         4.000000   \n",
       "\n",
       "       YearsAtCompany  \n",
       "count     1470.000000  \n",
       "mean         7.008163  \n",
       "std          6.126525  \n",
       "min          0.000000  \n",
       "25%          3.000000  \n",
       "50%          5.000000  \n",
       "75%          9.000000  \n",
       "max         40.000000  "
      ]
     },
     "execution_count": 144,
     "metadata": {},
     "output_type": "execute_result"
    }
   ],
   "source": [
    "## Descrition\n",
    "dataframe.describe()"
   ]
  },
  {
   "cell_type": "code",
   "execution_count": 145,
   "metadata": {},
   "outputs": [
    {
     "name": "stdout",
     "output_type": "stream",
     "text": [
      "<class 'pandas.core.frame.DataFrame'>\n",
      "RangeIndex: 1470 entries, 0 to 1469\n",
      "Data columns (total 13 columns):\n",
      "Age                        1470 non-null int64\n",
      "Attrition                  1470 non-null object\n",
      "Department                 1470 non-null object\n",
      "DistanceFromHome           1470 non-null int64\n",
      "Education                  1470 non-null int64\n",
      "EducationField             1470 non-null object\n",
      "EnvironmentSatisfaction    1470 non-null int64\n",
      "JobSatisfaction            1470 non-null int64\n",
      "MaritalStatus              1470 non-null object\n",
      "MonthlyIncome              1470 non-null int64\n",
      "NumCompaniesWorked         1470 non-null int64\n",
      "WorkLifeBalance            1470 non-null int64\n",
      "YearsAtCompany             1470 non-null int64\n",
      "dtypes: int64(9), object(4)\n",
      "memory usage: 149.4+ KB\n"
     ]
    }
   ],
   "source": [
    "## Data Information\n",
    "dataframe.info()"
   ]
  },
  {
   "cell_type": "code",
   "execution_count": 146,
   "metadata": {},
   "outputs": [
    {
     "data": {
      "text/plain": [
       "Age                           9.135373\n",
       "DistanceFromHome              8.106864\n",
       "Education                     1.024165\n",
       "EnvironmentSatisfaction       1.093082\n",
       "JobSatisfaction               1.102846\n",
       "MonthlyIncome              4707.956783\n",
       "NumCompaniesWorked            2.498009\n",
       "WorkLifeBalance               0.706476\n",
       "YearsAtCompany                6.126525\n",
       "dtype: float64"
      ]
     },
     "execution_count": 146,
     "metadata": {},
     "output_type": "execute_result"
    }
   ],
   "source": [
    "## Standard Deviation of all attributes\n",
    "dataframe.std()"
   ]
  },
  {
   "cell_type": "markdown",
   "metadata": {},
   "source": [
    "# Converting Categorical Features \n",
    "\n",
    "We'll need to convert categorical features to dummy variables using pandas! Otherwise our machine learning algorithm won't be able to directly take in those features as inputs."
   ]
  },
  {
   "cell_type": "code",
   "execution_count": 147,
   "metadata": {},
   "outputs": [
    {
     "data": {
      "text/html": [
       "<div>\n",
       "<style scoped>\n",
       "    .dataframe tbody tr th:only-of-type {\n",
       "        vertical-align: middle;\n",
       "    }\n",
       "\n",
       "    .dataframe tbody tr th {\n",
       "        vertical-align: top;\n",
       "    }\n",
       "\n",
       "    .dataframe thead th {\n",
       "        text-align: right;\n",
       "    }\n",
       "</style>\n",
       "<table border=\"1\" class=\"dataframe\">\n",
       "  <thead>\n",
       "    <tr style=\"text-align: right;\">\n",
       "      <th></th>\n",
       "      <th>Age</th>\n",
       "      <th>DistanceFromHome</th>\n",
       "      <th>Education</th>\n",
       "      <th>EnvironmentSatisfaction</th>\n",
       "      <th>JobSatisfaction</th>\n",
       "      <th>MonthlyIncome</th>\n",
       "      <th>NumCompaniesWorked</th>\n",
       "      <th>WorkLifeBalance</th>\n",
       "      <th>YearsAtCompany</th>\n",
       "      <th>Attrition_Yes</th>\n",
       "      <th>EducationField_Life Sciences</th>\n",
       "      <th>EducationField_Marketing</th>\n",
       "      <th>EducationField_Medical</th>\n",
       "      <th>EducationField_Other</th>\n",
       "      <th>EducationField_Technical Degree</th>\n",
       "      <th>Department_Research &amp; Development</th>\n",
       "      <th>Department_Sales</th>\n",
       "      <th>MaritalStatus_Married</th>\n",
       "      <th>MaritalStatus_Single</th>\n",
       "    </tr>\n",
       "  </thead>\n",
       "  <tbody>\n",
       "    <tr>\n",
       "      <th>0</th>\n",
       "      <td>41</td>\n",
       "      <td>1</td>\n",
       "      <td>2</td>\n",
       "      <td>2</td>\n",
       "      <td>4</td>\n",
       "      <td>5993</td>\n",
       "      <td>8</td>\n",
       "      <td>1</td>\n",
       "      <td>6</td>\n",
       "      <td>1</td>\n",
       "      <td>1</td>\n",
       "      <td>0</td>\n",
       "      <td>0</td>\n",
       "      <td>0</td>\n",
       "      <td>0</td>\n",
       "      <td>0</td>\n",
       "      <td>1</td>\n",
       "      <td>0</td>\n",
       "      <td>1</td>\n",
       "    </tr>\n",
       "    <tr>\n",
       "      <th>1</th>\n",
       "      <td>49</td>\n",
       "      <td>8</td>\n",
       "      <td>1</td>\n",
       "      <td>3</td>\n",
       "      <td>2</td>\n",
       "      <td>5130</td>\n",
       "      <td>1</td>\n",
       "      <td>3</td>\n",
       "      <td>10</td>\n",
       "      <td>0</td>\n",
       "      <td>1</td>\n",
       "      <td>0</td>\n",
       "      <td>0</td>\n",
       "      <td>0</td>\n",
       "      <td>0</td>\n",
       "      <td>1</td>\n",
       "      <td>0</td>\n",
       "      <td>1</td>\n",
       "      <td>0</td>\n",
       "    </tr>\n",
       "    <tr>\n",
       "      <th>2</th>\n",
       "      <td>37</td>\n",
       "      <td>2</td>\n",
       "      <td>2</td>\n",
       "      <td>4</td>\n",
       "      <td>3</td>\n",
       "      <td>2090</td>\n",
       "      <td>6</td>\n",
       "      <td>3</td>\n",
       "      <td>0</td>\n",
       "      <td>1</td>\n",
       "      <td>0</td>\n",
       "      <td>0</td>\n",
       "      <td>0</td>\n",
       "      <td>1</td>\n",
       "      <td>0</td>\n",
       "      <td>1</td>\n",
       "      <td>0</td>\n",
       "      <td>0</td>\n",
       "      <td>1</td>\n",
       "    </tr>\n",
       "    <tr>\n",
       "      <th>3</th>\n",
       "      <td>33</td>\n",
       "      <td>3</td>\n",
       "      <td>4</td>\n",
       "      <td>4</td>\n",
       "      <td>3</td>\n",
       "      <td>2909</td>\n",
       "      <td>1</td>\n",
       "      <td>3</td>\n",
       "      <td>8</td>\n",
       "      <td>0</td>\n",
       "      <td>1</td>\n",
       "      <td>0</td>\n",
       "      <td>0</td>\n",
       "      <td>0</td>\n",
       "      <td>0</td>\n",
       "      <td>1</td>\n",
       "      <td>0</td>\n",
       "      <td>1</td>\n",
       "      <td>0</td>\n",
       "    </tr>\n",
       "    <tr>\n",
       "      <th>4</th>\n",
       "      <td>27</td>\n",
       "      <td>2</td>\n",
       "      <td>1</td>\n",
       "      <td>1</td>\n",
       "      <td>2</td>\n",
       "      <td>3468</td>\n",
       "      <td>9</td>\n",
       "      <td>3</td>\n",
       "      <td>2</td>\n",
       "      <td>0</td>\n",
       "      <td>0</td>\n",
       "      <td>0</td>\n",
       "      <td>1</td>\n",
       "      <td>0</td>\n",
       "      <td>0</td>\n",
       "      <td>1</td>\n",
       "      <td>0</td>\n",
       "      <td>1</td>\n",
       "      <td>0</td>\n",
       "    </tr>\n",
       "  </tbody>\n",
       "</table>\n",
       "</div>"
      ],
      "text/plain": [
       "   Age  DistanceFromHome  Education  EnvironmentSatisfaction  JobSatisfaction  \\\n",
       "0   41                 1          2                        2                4   \n",
       "1   49                 8          1                        3                2   \n",
       "2   37                 2          2                        4                3   \n",
       "3   33                 3          4                        4                3   \n",
       "4   27                 2          1                        1                2   \n",
       "\n",
       "   MonthlyIncome  NumCompaniesWorked  WorkLifeBalance  YearsAtCompany  \\\n",
       "0           5993                   8                1               6   \n",
       "1           5130                   1                3              10   \n",
       "2           2090                   6                3               0   \n",
       "3           2909                   1                3               8   \n",
       "4           3468                   9                3               2   \n",
       "\n",
       "   Attrition_Yes  EducationField_Life Sciences  EducationField_Marketing  \\\n",
       "0              1                             1                         0   \n",
       "1              0                             1                         0   \n",
       "2              1                             0                         0   \n",
       "3              0                             1                         0   \n",
       "4              0                             0                         0   \n",
       "\n",
       "   EducationField_Medical  EducationField_Other  \\\n",
       "0                       0                     0   \n",
       "1                       0                     0   \n",
       "2                       0                     1   \n",
       "3                       0                     0   \n",
       "4                       1                     0   \n",
       "\n",
       "   EducationField_Technical Degree  Department_Research & Development  \\\n",
       "0                                0                                  0   \n",
       "1                                0                                  1   \n",
       "2                                0                                  1   \n",
       "3                                0                                  1   \n",
       "4                                0                                  1   \n",
       "\n",
       "   Department_Sales  MaritalStatus_Married  MaritalStatus_Single  \n",
       "0                 1                      0                     1  \n",
       "1                 0                      1                     0  \n",
       "2                 0                      0                     1  \n",
       "3                 0                      1                     0  \n",
       "4                 0                      1                     0  "
      ]
     },
     "execution_count": 147,
     "metadata": {},
     "output_type": "execute_result"
    }
   ],
   "source": [
    "dataframe = pd.get_dummies(dataframe, columns=['Attrition','EducationField','Department','MaritalStatus'], drop_first=True)\n",
    "dataframe.head()"
   ]
  },
  {
   "cell_type": "markdown",
   "metadata": {},
   "source": [
    "## Correalation Plot"
   ]
  },
  {
   "cell_type": "code",
   "execution_count": 148,
   "metadata": {},
   "outputs": [
    {
     "data": {
      "text/html": [
       "<div>\n",
       "<style scoped>\n",
       "    .dataframe tbody tr th:only-of-type {\n",
       "        vertical-align: middle;\n",
       "    }\n",
       "\n",
       "    .dataframe tbody tr th {\n",
       "        vertical-align: top;\n",
       "    }\n",
       "\n",
       "    .dataframe thead th {\n",
       "        text-align: right;\n",
       "    }\n",
       "</style>\n",
       "<table border=\"1\" class=\"dataframe\">\n",
       "  <thead>\n",
       "    <tr style=\"text-align: right;\">\n",
       "      <th></th>\n",
       "      <th>Age</th>\n",
       "      <th>DistanceFromHome</th>\n",
       "      <th>Education</th>\n",
       "      <th>EnvironmentSatisfaction</th>\n",
       "      <th>JobSatisfaction</th>\n",
       "      <th>MonthlyIncome</th>\n",
       "      <th>NumCompaniesWorked</th>\n",
       "      <th>WorkLifeBalance</th>\n",
       "      <th>YearsAtCompany</th>\n",
       "      <th>Attrition_Yes</th>\n",
       "      <th>EducationField_Life Sciences</th>\n",
       "      <th>EducationField_Marketing</th>\n",
       "      <th>EducationField_Medical</th>\n",
       "      <th>EducationField_Other</th>\n",
       "      <th>EducationField_Technical Degree</th>\n",
       "      <th>Department_Research &amp; Development</th>\n",
       "      <th>Department_Sales</th>\n",
       "      <th>MaritalStatus_Married</th>\n",
       "      <th>MaritalStatus_Single</th>\n",
       "    </tr>\n",
       "  </thead>\n",
       "  <tbody>\n",
       "    <tr>\n",
       "      <th>Age</th>\n",
       "      <td>1.000000</td>\n",
       "      <td>-0.001686</td>\n",
       "      <td>0.208034</td>\n",
       "      <td>0.010146</td>\n",
       "      <td>-0.004892</td>\n",
       "      <td>0.497855</td>\n",
       "      <td>0.299635</td>\n",
       "      <td>-0.021490</td>\n",
       "      <td>0.311309</td>\n",
       "      <td>-0.159205</td>\n",
       "      <td>0.016824</td>\n",
       "      <td>0.038162</td>\n",
       "      <td>-0.006354</td>\n",
       "      <td>-0.041466</td>\n",
       "      <td>-0.027604</td>\n",
       "      <td>0.017883</td>\n",
       "      <td>-0.027549</td>\n",
       "      <td>0.083919</td>\n",
       "      <td>-0.119185</td>\n",
       "    </tr>\n",
       "    <tr>\n",
       "      <th>DistanceFromHome</th>\n",
       "      <td>-0.001686</td>\n",
       "      <td>1.000000</td>\n",
       "      <td>0.021042</td>\n",
       "      <td>-0.016075</td>\n",
       "      <td>-0.003669</td>\n",
       "      <td>-0.017014</td>\n",
       "      <td>-0.029251</td>\n",
       "      <td>-0.026556</td>\n",
       "      <td>0.009508</td>\n",
       "      <td>0.077924</td>\n",
       "      <td>-0.024499</td>\n",
       "      <td>0.039294</td>\n",
       "      <td>0.013486</td>\n",
       "      <td>-0.007969</td>\n",
       "      <td>-0.014802</td>\n",
       "      <td>-0.008117</td>\n",
       "      <td>0.014085</td>\n",
       "      <td>0.030232</td>\n",
       "      <td>-0.027445</td>\n",
       "    </tr>\n",
       "    <tr>\n",
       "      <th>Education</th>\n",
       "      <td>0.208034</td>\n",
       "      <td>0.021042</td>\n",
       "      <td>1.000000</td>\n",
       "      <td>-0.027128</td>\n",
       "      <td>-0.011296</td>\n",
       "      <td>0.094961</td>\n",
       "      <td>0.126317</td>\n",
       "      <td>0.009819</td>\n",
       "      <td>0.069114</td>\n",
       "      <td>-0.031373</td>\n",
       "      <td>0.013184</td>\n",
       "      <td>0.072405</td>\n",
       "      <td>-0.072335</td>\n",
       "      <td>0.038043</td>\n",
       "      <td>-0.026742</td>\n",
       "      <td>-0.018604</td>\n",
       "      <td>0.014215</td>\n",
       "      <td>-0.001865</td>\n",
       "      <td>0.004168</td>\n",
       "    </tr>\n",
       "    <tr>\n",
       "      <th>EnvironmentSatisfaction</th>\n",
       "      <td>0.010146</td>\n",
       "      <td>-0.016075</td>\n",
       "      <td>-0.027128</td>\n",
       "      <td>1.000000</td>\n",
       "      <td>-0.006784</td>\n",
       "      <td>-0.006259</td>\n",
       "      <td>0.012594</td>\n",
       "      <td>0.027627</td>\n",
       "      <td>0.001458</td>\n",
       "      <td>-0.103369</td>\n",
       "      <td>-0.024526</td>\n",
       "      <td>0.000479</td>\n",
       "      <td>-0.021299</td>\n",
       "      <td>0.064602</td>\n",
       "      <td>0.027713</td>\n",
       "      <td>0.027976</td>\n",
       "      <td>-0.025606</td>\n",
       "      <td>-0.022180</td>\n",
       "      <td>0.009035</td>\n",
       "    </tr>\n",
       "    <tr>\n",
       "      <th>JobSatisfaction</th>\n",
       "      <td>-0.004892</td>\n",
       "      <td>-0.003669</td>\n",
       "      <td>-0.011296</td>\n",
       "      <td>-0.006784</td>\n",
       "      <td>1.000000</td>\n",
       "      <td>-0.007157</td>\n",
       "      <td>-0.055699</td>\n",
       "      <td>-0.019459</td>\n",
       "      <td>-0.003803</td>\n",
       "      <td>-0.103481</td>\n",
       "      <td>0.052004</td>\n",
       "      <td>-0.023528</td>\n",
       "      <td>-0.022645</td>\n",
       "      <td>0.003380</td>\n",
       "      <td>-0.019795</td>\n",
       "      <td>-0.002798</td>\n",
       "      <td>0.013499</td>\n",
       "      <td>-0.010315</td>\n",
       "      <td>0.024571</td>\n",
       "    </tr>\n",
       "    <tr>\n",
       "      <th>MonthlyIncome</th>\n",
       "      <td>0.497855</td>\n",
       "      <td>-0.017014</td>\n",
       "      <td>0.094961</td>\n",
       "      <td>-0.006259</td>\n",
       "      <td>-0.007157</td>\n",
       "      <td>1.000000</td>\n",
       "      <td>0.149515</td>\n",
       "      <td>0.030683</td>\n",
       "      <td>0.514285</td>\n",
       "      <td>-0.159840</td>\n",
       "      <td>-0.007054</td>\n",
       "      <td>0.062576</td>\n",
       "      <td>0.001025</td>\n",
       "      <td>-0.022279</td>\n",
       "      <td>-0.049695</td>\n",
       "      <td>-0.064720</td>\n",
       "      <td>0.063978</td>\n",
       "      <td>0.056767</td>\n",
       "      <td>-0.089361</td>\n",
       "    </tr>\n",
       "    <tr>\n",
       "      <th>NumCompaniesWorked</th>\n",
       "      <td>0.299635</td>\n",
       "      <td>-0.029251</td>\n",
       "      <td>0.126317</td>\n",
       "      <td>0.012594</td>\n",
       "      <td>-0.055699</td>\n",
       "      <td>0.149515</td>\n",
       "      <td>1.000000</td>\n",
       "      <td>-0.008366</td>\n",
       "      <td>-0.118421</td>\n",
       "      <td>0.043494</td>\n",
       "      <td>-0.006131</td>\n",
       "      <td>-0.018611</td>\n",
       "      <td>0.024826</td>\n",
       "      <td>-0.012870</td>\n",
       "      <td>-0.013819</td>\n",
       "      <td>0.022237</td>\n",
       "      <td>-0.032097</td>\n",
       "      <td>-0.016142</td>\n",
       "      <td>-0.019161</td>\n",
       "    </tr>\n",
       "    <tr>\n",
       "      <th>WorkLifeBalance</th>\n",
       "      <td>-0.021490</td>\n",
       "      <td>-0.026556</td>\n",
       "      <td>0.009819</td>\n",
       "      <td>0.027627</td>\n",
       "      <td>-0.019459</td>\n",
       "      <td>0.030683</td>\n",
       "      <td>-0.008366</td>\n",
       "      <td>1.000000</td>\n",
       "      <td>0.012089</td>\n",
       "      <td>-0.063939</td>\n",
       "      <td>-0.039728</td>\n",
       "      <td>0.018500</td>\n",
       "      <td>0.001641</td>\n",
       "      <td>0.031812</td>\n",
       "      <td>0.021962</td>\n",
       "      <td>-0.069922</td>\n",
       "      <td>0.051320</td>\n",
       "      <td>-0.006388</td>\n",
       "      <td>0.014921</td>\n",
       "    </tr>\n",
       "    <tr>\n",
       "      <th>YearsAtCompany</th>\n",
       "      <td>0.311309</td>\n",
       "      <td>0.009508</td>\n",
       "      <td>0.069114</td>\n",
       "      <td>0.001458</td>\n",
       "      <td>-0.003803</td>\n",
       "      <td>0.514285</td>\n",
       "      <td>-0.118421</td>\n",
       "      <td>0.012089</td>\n",
       "      <td>1.000000</td>\n",
       "      <td>-0.134392</td>\n",
       "      <td>-0.002019</td>\n",
       "      <td>0.031365</td>\n",
       "      <td>0.010805</td>\n",
       "      <td>-0.030331</td>\n",
       "      <td>-0.021399</td>\n",
       "      <td>-0.032181</td>\n",
       "      <td>0.029805</td>\n",
       "      <td>0.044925</td>\n",
       "      <td>-0.070935</td>\n",
       "    </tr>\n",
       "    <tr>\n",
       "      <th>Attrition_Yes</th>\n",
       "      <td>-0.159205</td>\n",
       "      <td>0.077924</td>\n",
       "      <td>-0.031373</td>\n",
       "      <td>-0.103369</td>\n",
       "      <td>-0.103481</td>\n",
       "      <td>-0.159840</td>\n",
       "      <td>0.043494</td>\n",
       "      <td>-0.063939</td>\n",
       "      <td>-0.134392</td>\n",
       "      <td>1.000000</td>\n",
       "      <td>-0.032703</td>\n",
       "      <td>0.055781</td>\n",
       "      <td>-0.046999</td>\n",
       "      <td>-0.017898</td>\n",
       "      <td>0.069355</td>\n",
       "      <td>-0.085293</td>\n",
       "      <td>0.080855</td>\n",
       "      <td>-0.090984</td>\n",
       "      <td>0.175419</td>\n",
       "    </tr>\n",
       "    <tr>\n",
       "      <th>EducationField_Life Sciences</th>\n",
       "      <td>0.016824</td>\n",
       "      <td>-0.024499</td>\n",
       "      <td>0.013184</td>\n",
       "      <td>-0.024526</td>\n",
       "      <td>0.052004</td>\n",
       "      <td>-0.007054</td>\n",
       "      <td>-0.006131</td>\n",
       "      <td>-0.039728</td>\n",
       "      <td>-0.002019</td>\n",
       "      <td>-0.032703</td>\n",
       "      <td>1.000000</td>\n",
       "      <td>-0.291660</td>\n",
       "      <td>-0.568774</td>\n",
       "      <td>-0.203560</td>\n",
       "      <td>-0.263050</td>\n",
       "      <td>0.127321</td>\n",
       "      <td>-0.101791</td>\n",
       "      <td>-0.017866</td>\n",
       "      <td>0.021469</td>\n",
       "    </tr>\n",
       "    <tr>\n",
       "      <th>EducationField_Marketing</th>\n",
       "      <td>0.038162</td>\n",
       "      <td>0.039294</td>\n",
       "      <td>0.072405</td>\n",
       "      <td>0.000479</td>\n",
       "      <td>-0.023528</td>\n",
       "      <td>0.062576</td>\n",
       "      <td>-0.018611</td>\n",
       "      <td>0.018500</td>\n",
       "      <td>0.031365</td>\n",
       "      <td>0.055781</td>\n",
       "      <td>-0.291660</td>\n",
       "      <td>1.000000</td>\n",
       "      <td>-0.236514</td>\n",
       "      <td>-0.084647</td>\n",
       "      <td>-0.109385</td>\n",
       "      <td>-0.478520</td>\n",
       "      <td>0.527691</td>\n",
       "      <td>0.018491</td>\n",
       "      <td>-0.013323</td>\n",
       "    </tr>\n",
       "    <tr>\n",
       "      <th>EducationField_Medical</th>\n",
       "      <td>-0.006354</td>\n",
       "      <td>0.013486</td>\n",
       "      <td>-0.072335</td>\n",
       "      <td>-0.021299</td>\n",
       "      <td>-0.022645</td>\n",
       "      <td>0.001025</td>\n",
       "      <td>0.024826</td>\n",
       "      <td>0.001641</td>\n",
       "      <td>0.010805</td>\n",
       "      <td>-0.046999</td>\n",
       "      <td>-0.568774</td>\n",
       "      <td>-0.236514</td>\n",
       "      <td>1.000000</td>\n",
       "      <td>-0.165072</td>\n",
       "      <td>-0.213314</td>\n",
       "      <td>0.183548</td>\n",
       "      <td>-0.168034</td>\n",
       "      <td>-0.007139</td>\n",
       "      <td>-0.004249</td>\n",
       "    </tr>\n",
       "    <tr>\n",
       "      <th>EducationField_Other</th>\n",
       "      <td>-0.041466</td>\n",
       "      <td>-0.007969</td>\n",
       "      <td>0.038043</td>\n",
       "      <td>0.064602</td>\n",
       "      <td>0.003380</td>\n",
       "      <td>-0.022279</td>\n",
       "      <td>-0.012870</td>\n",
       "      <td>0.031812</td>\n",
       "      <td>-0.030331</td>\n",
       "      <td>-0.017898</td>\n",
       "      <td>-0.203560</td>\n",
       "      <td>-0.084647</td>\n",
       "      <td>-0.165072</td>\n",
       "      <td>1.000000</td>\n",
       "      <td>-0.076343</td>\n",
       "      <td>0.064751</td>\n",
       "      <td>-0.063695</td>\n",
       "      <td>-0.009171</td>\n",
       "      <td>0.004972</td>\n",
       "    </tr>\n",
       "    <tr>\n",
       "      <th>EducationField_Technical Degree</th>\n",
       "      <td>-0.027604</td>\n",
       "      <td>-0.014802</td>\n",
       "      <td>-0.026742</td>\n",
       "      <td>0.027713</td>\n",
       "      <td>-0.019795</td>\n",
       "      <td>-0.049695</td>\n",
       "      <td>-0.013819</td>\n",
       "      <td>0.021962</td>\n",
       "      <td>-0.021399</td>\n",
       "      <td>0.069355</td>\n",
       "      <td>-0.263050</td>\n",
       "      <td>-0.109385</td>\n",
       "      <td>-0.213314</td>\n",
       "      <td>-0.076343</td>\n",
       "      <td>1.000000</td>\n",
       "      <td>0.038541</td>\n",
       "      <td>-0.031309</td>\n",
       "      <td>0.002710</td>\n",
       "      <td>0.014265</td>\n",
       "    </tr>\n",
       "    <tr>\n",
       "      <th>Department_Research &amp; Development</th>\n",
       "      <td>0.017883</td>\n",
       "      <td>-0.008117</td>\n",
       "      <td>-0.018604</td>\n",
       "      <td>0.027976</td>\n",
       "      <td>-0.002798</td>\n",
       "      <td>-0.064720</td>\n",
       "      <td>0.022237</td>\n",
       "      <td>-0.069922</td>\n",
       "      <td>-0.032181</td>\n",
       "      <td>-0.085293</td>\n",
       "      <td>0.127321</td>\n",
       "      <td>-0.478520</td>\n",
       "      <td>0.183548</td>\n",
       "      <td>0.064751</td>\n",
       "      <td>0.038541</td>\n",
       "      <td>1.000000</td>\n",
       "      <td>-0.906818</td>\n",
       "      <td>-0.019997</td>\n",
       "      <td>-0.009990</td>\n",
       "    </tr>\n",
       "    <tr>\n",
       "      <th>Department_Sales</th>\n",
       "      <td>-0.027549</td>\n",
       "      <td>0.014085</td>\n",
       "      <td>0.014215</td>\n",
       "      <td>-0.025606</td>\n",
       "      <td>0.013499</td>\n",
       "      <td>0.063978</td>\n",
       "      <td>-0.032097</td>\n",
       "      <td>0.051320</td>\n",
       "      <td>0.029805</td>\n",
       "      <td>0.080855</td>\n",
       "      <td>-0.101791</td>\n",
       "      <td>0.527691</td>\n",
       "      <td>-0.168034</td>\n",
       "      <td>-0.063695</td>\n",
       "      <td>-0.031309</td>\n",
       "      <td>-0.906818</td>\n",
       "      <td>1.000000</td>\n",
       "      <td>0.005378</td>\n",
       "      <td>0.033002</td>\n",
       "    </tr>\n",
       "    <tr>\n",
       "      <th>MaritalStatus_Married</th>\n",
       "      <td>0.083919</td>\n",
       "      <td>0.030232</td>\n",
       "      <td>-0.001865</td>\n",
       "      <td>-0.022180</td>\n",
       "      <td>-0.010315</td>\n",
       "      <td>0.056767</td>\n",
       "      <td>-0.016142</td>\n",
       "      <td>-0.006388</td>\n",
       "      <td>0.044925</td>\n",
       "      <td>-0.090984</td>\n",
       "      <td>-0.017866</td>\n",
       "      <td>0.018491</td>\n",
       "      <td>-0.007139</td>\n",
       "      <td>-0.009171</td>\n",
       "      <td>0.002710</td>\n",
       "      <td>-0.019997</td>\n",
       "      <td>0.005378</td>\n",
       "      <td>1.000000</td>\n",
       "      <td>-0.629981</td>\n",
       "    </tr>\n",
       "    <tr>\n",
       "      <th>MaritalStatus_Single</th>\n",
       "      <td>-0.119185</td>\n",
       "      <td>-0.027445</td>\n",
       "      <td>0.004168</td>\n",
       "      <td>0.009035</td>\n",
       "      <td>0.024571</td>\n",
       "      <td>-0.089361</td>\n",
       "      <td>-0.019161</td>\n",
       "      <td>0.014921</td>\n",
       "      <td>-0.070935</td>\n",
       "      <td>0.175419</td>\n",
       "      <td>0.021469</td>\n",
       "      <td>-0.013323</td>\n",
       "      <td>-0.004249</td>\n",
       "      <td>0.004972</td>\n",
       "      <td>0.014265</td>\n",
       "      <td>-0.009990</td>\n",
       "      <td>0.033002</td>\n",
       "      <td>-0.629981</td>\n",
       "      <td>1.000000</td>\n",
       "    </tr>\n",
       "  </tbody>\n",
       "</table>\n",
       "</div>"
      ],
      "text/plain": [
       "                                        Age  DistanceFromHome  Education  \\\n",
       "Age                                1.000000         -0.001686   0.208034   \n",
       "DistanceFromHome                  -0.001686          1.000000   0.021042   \n",
       "Education                          0.208034          0.021042   1.000000   \n",
       "EnvironmentSatisfaction            0.010146         -0.016075  -0.027128   \n",
       "JobSatisfaction                   -0.004892         -0.003669  -0.011296   \n",
       "MonthlyIncome                      0.497855         -0.017014   0.094961   \n",
       "NumCompaniesWorked                 0.299635         -0.029251   0.126317   \n",
       "WorkLifeBalance                   -0.021490         -0.026556   0.009819   \n",
       "YearsAtCompany                     0.311309          0.009508   0.069114   \n",
       "Attrition_Yes                     -0.159205          0.077924  -0.031373   \n",
       "EducationField_Life Sciences       0.016824         -0.024499   0.013184   \n",
       "EducationField_Marketing           0.038162          0.039294   0.072405   \n",
       "EducationField_Medical            -0.006354          0.013486  -0.072335   \n",
       "EducationField_Other              -0.041466         -0.007969   0.038043   \n",
       "EducationField_Technical Degree   -0.027604         -0.014802  -0.026742   \n",
       "Department_Research & Development  0.017883         -0.008117  -0.018604   \n",
       "Department_Sales                  -0.027549          0.014085   0.014215   \n",
       "MaritalStatus_Married              0.083919          0.030232  -0.001865   \n",
       "MaritalStatus_Single              -0.119185         -0.027445   0.004168   \n",
       "\n",
       "                                   EnvironmentSatisfaction  JobSatisfaction  \\\n",
       "Age                                               0.010146        -0.004892   \n",
       "DistanceFromHome                                 -0.016075        -0.003669   \n",
       "Education                                        -0.027128        -0.011296   \n",
       "EnvironmentSatisfaction                           1.000000        -0.006784   \n",
       "JobSatisfaction                                  -0.006784         1.000000   \n",
       "MonthlyIncome                                    -0.006259        -0.007157   \n",
       "NumCompaniesWorked                                0.012594        -0.055699   \n",
       "WorkLifeBalance                                   0.027627        -0.019459   \n",
       "YearsAtCompany                                    0.001458        -0.003803   \n",
       "Attrition_Yes                                    -0.103369        -0.103481   \n",
       "EducationField_Life Sciences                     -0.024526         0.052004   \n",
       "EducationField_Marketing                          0.000479        -0.023528   \n",
       "EducationField_Medical                           -0.021299        -0.022645   \n",
       "EducationField_Other                              0.064602         0.003380   \n",
       "EducationField_Technical Degree                   0.027713        -0.019795   \n",
       "Department_Research & Development                 0.027976        -0.002798   \n",
       "Department_Sales                                 -0.025606         0.013499   \n",
       "MaritalStatus_Married                            -0.022180        -0.010315   \n",
       "MaritalStatus_Single                              0.009035         0.024571   \n",
       "\n",
       "                                   MonthlyIncome  NumCompaniesWorked  \\\n",
       "Age                                     0.497855            0.299635   \n",
       "DistanceFromHome                       -0.017014           -0.029251   \n",
       "Education                               0.094961            0.126317   \n",
       "EnvironmentSatisfaction                -0.006259            0.012594   \n",
       "JobSatisfaction                        -0.007157           -0.055699   \n",
       "MonthlyIncome                           1.000000            0.149515   \n",
       "NumCompaniesWorked                      0.149515            1.000000   \n",
       "WorkLifeBalance                         0.030683           -0.008366   \n",
       "YearsAtCompany                          0.514285           -0.118421   \n",
       "Attrition_Yes                          -0.159840            0.043494   \n",
       "EducationField_Life Sciences           -0.007054           -0.006131   \n",
       "EducationField_Marketing                0.062576           -0.018611   \n",
       "EducationField_Medical                  0.001025            0.024826   \n",
       "EducationField_Other                   -0.022279           -0.012870   \n",
       "EducationField_Technical Degree        -0.049695           -0.013819   \n",
       "Department_Research & Development      -0.064720            0.022237   \n",
       "Department_Sales                        0.063978           -0.032097   \n",
       "MaritalStatus_Married                   0.056767           -0.016142   \n",
       "MaritalStatus_Single                   -0.089361           -0.019161   \n",
       "\n",
       "                                   WorkLifeBalance  YearsAtCompany  \\\n",
       "Age                                      -0.021490        0.311309   \n",
       "DistanceFromHome                         -0.026556        0.009508   \n",
       "Education                                 0.009819        0.069114   \n",
       "EnvironmentSatisfaction                   0.027627        0.001458   \n",
       "JobSatisfaction                          -0.019459       -0.003803   \n",
       "MonthlyIncome                             0.030683        0.514285   \n",
       "NumCompaniesWorked                       -0.008366       -0.118421   \n",
       "WorkLifeBalance                           1.000000        0.012089   \n",
       "YearsAtCompany                            0.012089        1.000000   \n",
       "Attrition_Yes                            -0.063939       -0.134392   \n",
       "EducationField_Life Sciences             -0.039728       -0.002019   \n",
       "EducationField_Marketing                  0.018500        0.031365   \n",
       "EducationField_Medical                    0.001641        0.010805   \n",
       "EducationField_Other                      0.031812       -0.030331   \n",
       "EducationField_Technical Degree           0.021962       -0.021399   \n",
       "Department_Research & Development        -0.069922       -0.032181   \n",
       "Department_Sales                          0.051320        0.029805   \n",
       "MaritalStatus_Married                    -0.006388        0.044925   \n",
       "MaritalStatus_Single                      0.014921       -0.070935   \n",
       "\n",
       "                                   Attrition_Yes  \\\n",
       "Age                                    -0.159205   \n",
       "DistanceFromHome                        0.077924   \n",
       "Education                              -0.031373   \n",
       "EnvironmentSatisfaction                -0.103369   \n",
       "JobSatisfaction                        -0.103481   \n",
       "MonthlyIncome                          -0.159840   \n",
       "NumCompaniesWorked                      0.043494   \n",
       "WorkLifeBalance                        -0.063939   \n",
       "YearsAtCompany                         -0.134392   \n",
       "Attrition_Yes                           1.000000   \n",
       "EducationField_Life Sciences           -0.032703   \n",
       "EducationField_Marketing                0.055781   \n",
       "EducationField_Medical                 -0.046999   \n",
       "EducationField_Other                   -0.017898   \n",
       "EducationField_Technical Degree         0.069355   \n",
       "Department_Research & Development      -0.085293   \n",
       "Department_Sales                        0.080855   \n",
       "MaritalStatus_Married                  -0.090984   \n",
       "MaritalStatus_Single                    0.175419   \n",
       "\n",
       "                                   EducationField_Life Sciences  \\\n",
       "Age                                                    0.016824   \n",
       "DistanceFromHome                                      -0.024499   \n",
       "Education                                              0.013184   \n",
       "EnvironmentSatisfaction                               -0.024526   \n",
       "JobSatisfaction                                        0.052004   \n",
       "MonthlyIncome                                         -0.007054   \n",
       "NumCompaniesWorked                                    -0.006131   \n",
       "WorkLifeBalance                                       -0.039728   \n",
       "YearsAtCompany                                        -0.002019   \n",
       "Attrition_Yes                                         -0.032703   \n",
       "EducationField_Life Sciences                           1.000000   \n",
       "EducationField_Marketing                              -0.291660   \n",
       "EducationField_Medical                                -0.568774   \n",
       "EducationField_Other                                  -0.203560   \n",
       "EducationField_Technical Degree                       -0.263050   \n",
       "Department_Research & Development                      0.127321   \n",
       "Department_Sales                                      -0.101791   \n",
       "MaritalStatus_Married                                 -0.017866   \n",
       "MaritalStatus_Single                                   0.021469   \n",
       "\n",
       "                                   EducationField_Marketing  \\\n",
       "Age                                                0.038162   \n",
       "DistanceFromHome                                   0.039294   \n",
       "Education                                          0.072405   \n",
       "EnvironmentSatisfaction                            0.000479   \n",
       "JobSatisfaction                                   -0.023528   \n",
       "MonthlyIncome                                      0.062576   \n",
       "NumCompaniesWorked                                -0.018611   \n",
       "WorkLifeBalance                                    0.018500   \n",
       "YearsAtCompany                                     0.031365   \n",
       "Attrition_Yes                                      0.055781   \n",
       "EducationField_Life Sciences                      -0.291660   \n",
       "EducationField_Marketing                           1.000000   \n",
       "EducationField_Medical                            -0.236514   \n",
       "EducationField_Other                              -0.084647   \n",
       "EducationField_Technical Degree                   -0.109385   \n",
       "Department_Research & Development                 -0.478520   \n",
       "Department_Sales                                   0.527691   \n",
       "MaritalStatus_Married                              0.018491   \n",
       "MaritalStatus_Single                              -0.013323   \n",
       "\n",
       "                                   EducationField_Medical  \\\n",
       "Age                                             -0.006354   \n",
       "DistanceFromHome                                 0.013486   \n",
       "Education                                       -0.072335   \n",
       "EnvironmentSatisfaction                         -0.021299   \n",
       "JobSatisfaction                                 -0.022645   \n",
       "MonthlyIncome                                    0.001025   \n",
       "NumCompaniesWorked                               0.024826   \n",
       "WorkLifeBalance                                  0.001641   \n",
       "YearsAtCompany                                   0.010805   \n",
       "Attrition_Yes                                   -0.046999   \n",
       "EducationField_Life Sciences                    -0.568774   \n",
       "EducationField_Marketing                        -0.236514   \n",
       "EducationField_Medical                           1.000000   \n",
       "EducationField_Other                            -0.165072   \n",
       "EducationField_Technical Degree                 -0.213314   \n",
       "Department_Research & Development                0.183548   \n",
       "Department_Sales                                -0.168034   \n",
       "MaritalStatus_Married                           -0.007139   \n",
       "MaritalStatus_Single                            -0.004249   \n",
       "\n",
       "                                   EducationField_Other  \\\n",
       "Age                                           -0.041466   \n",
       "DistanceFromHome                              -0.007969   \n",
       "Education                                      0.038043   \n",
       "EnvironmentSatisfaction                        0.064602   \n",
       "JobSatisfaction                                0.003380   \n",
       "MonthlyIncome                                 -0.022279   \n",
       "NumCompaniesWorked                            -0.012870   \n",
       "WorkLifeBalance                                0.031812   \n",
       "YearsAtCompany                                -0.030331   \n",
       "Attrition_Yes                                 -0.017898   \n",
       "EducationField_Life Sciences                  -0.203560   \n",
       "EducationField_Marketing                      -0.084647   \n",
       "EducationField_Medical                        -0.165072   \n",
       "EducationField_Other                           1.000000   \n",
       "EducationField_Technical Degree               -0.076343   \n",
       "Department_Research & Development              0.064751   \n",
       "Department_Sales                              -0.063695   \n",
       "MaritalStatus_Married                         -0.009171   \n",
       "MaritalStatus_Single                           0.004972   \n",
       "\n",
       "                                   EducationField_Technical Degree  \\\n",
       "Age                                                      -0.027604   \n",
       "DistanceFromHome                                         -0.014802   \n",
       "Education                                                -0.026742   \n",
       "EnvironmentSatisfaction                                   0.027713   \n",
       "JobSatisfaction                                          -0.019795   \n",
       "MonthlyIncome                                            -0.049695   \n",
       "NumCompaniesWorked                                       -0.013819   \n",
       "WorkLifeBalance                                           0.021962   \n",
       "YearsAtCompany                                           -0.021399   \n",
       "Attrition_Yes                                             0.069355   \n",
       "EducationField_Life Sciences                             -0.263050   \n",
       "EducationField_Marketing                                 -0.109385   \n",
       "EducationField_Medical                                   -0.213314   \n",
       "EducationField_Other                                     -0.076343   \n",
       "EducationField_Technical Degree                           1.000000   \n",
       "Department_Research & Development                         0.038541   \n",
       "Department_Sales                                         -0.031309   \n",
       "MaritalStatus_Married                                     0.002710   \n",
       "MaritalStatus_Single                                      0.014265   \n",
       "\n",
       "                                   Department_Research & Development  \\\n",
       "Age                                                         0.017883   \n",
       "DistanceFromHome                                           -0.008117   \n",
       "Education                                                  -0.018604   \n",
       "EnvironmentSatisfaction                                     0.027976   \n",
       "JobSatisfaction                                            -0.002798   \n",
       "MonthlyIncome                                              -0.064720   \n",
       "NumCompaniesWorked                                          0.022237   \n",
       "WorkLifeBalance                                            -0.069922   \n",
       "YearsAtCompany                                             -0.032181   \n",
       "Attrition_Yes                                              -0.085293   \n",
       "EducationField_Life Sciences                                0.127321   \n",
       "EducationField_Marketing                                   -0.478520   \n",
       "EducationField_Medical                                      0.183548   \n",
       "EducationField_Other                                        0.064751   \n",
       "EducationField_Technical Degree                             0.038541   \n",
       "Department_Research & Development                           1.000000   \n",
       "Department_Sales                                           -0.906818   \n",
       "MaritalStatus_Married                                      -0.019997   \n",
       "MaritalStatus_Single                                       -0.009990   \n",
       "\n",
       "                                   Department_Sales  MaritalStatus_Married  \\\n",
       "Age                                       -0.027549               0.083919   \n",
       "DistanceFromHome                           0.014085               0.030232   \n",
       "Education                                  0.014215              -0.001865   \n",
       "EnvironmentSatisfaction                   -0.025606              -0.022180   \n",
       "JobSatisfaction                            0.013499              -0.010315   \n",
       "MonthlyIncome                              0.063978               0.056767   \n",
       "NumCompaniesWorked                        -0.032097              -0.016142   \n",
       "WorkLifeBalance                            0.051320              -0.006388   \n",
       "YearsAtCompany                             0.029805               0.044925   \n",
       "Attrition_Yes                              0.080855              -0.090984   \n",
       "EducationField_Life Sciences              -0.101791              -0.017866   \n",
       "EducationField_Marketing                   0.527691               0.018491   \n",
       "EducationField_Medical                    -0.168034              -0.007139   \n",
       "EducationField_Other                      -0.063695              -0.009171   \n",
       "EducationField_Technical Degree           -0.031309               0.002710   \n",
       "Department_Research & Development         -0.906818              -0.019997   \n",
       "Department_Sales                           1.000000               0.005378   \n",
       "MaritalStatus_Married                      0.005378               1.000000   \n",
       "MaritalStatus_Single                       0.033002              -0.629981   \n",
       "\n",
       "                                   MaritalStatus_Single  \n",
       "Age                                           -0.119185  \n",
       "DistanceFromHome                              -0.027445  \n",
       "Education                                      0.004168  \n",
       "EnvironmentSatisfaction                        0.009035  \n",
       "JobSatisfaction                                0.024571  \n",
       "MonthlyIncome                                 -0.089361  \n",
       "NumCompaniesWorked                            -0.019161  \n",
       "WorkLifeBalance                                0.014921  \n",
       "YearsAtCompany                                -0.070935  \n",
       "Attrition_Yes                                  0.175419  \n",
       "EducationField_Life Sciences                   0.021469  \n",
       "EducationField_Marketing                      -0.013323  \n",
       "EducationField_Medical                        -0.004249  \n",
       "EducationField_Other                           0.004972  \n",
       "EducationField_Technical Degree                0.014265  \n",
       "Department_Research & Development             -0.009990  \n",
       "Department_Sales                               0.033002  \n",
       "MaritalStatus_Married                         -0.629981  \n",
       "MaritalStatus_Single                           1.000000  "
      ]
     },
     "execution_count": 148,
     "metadata": {},
     "output_type": "execute_result"
    }
   ],
   "source": [
    "dataframe.corr()"
   ]
  },
  {
   "cell_type": "code",
   "execution_count": 149,
   "metadata": {},
   "outputs": [
    {
     "data": {
      "text/plain": [
       "0    1\n",
       "1    0\n",
       "2    1\n",
       "3    0\n",
       "4    0\n",
       "Name: Attrition_Yes, dtype: uint8"
      ]
     },
     "execution_count": 149,
     "metadata": {},
     "output_type": "execute_result"
    }
   ],
   "source": [
    "y=dataframe['Attrition_Yes']\n",
    "y.head()"
   ]
  },
  {
   "cell_type": "code",
   "execution_count": 150,
   "metadata": {},
   "outputs": [
    {
     "data": {
      "text/html": [
       "<div>\n",
       "<style scoped>\n",
       "    .dataframe tbody tr th:only-of-type {\n",
       "        vertical-align: middle;\n",
       "    }\n",
       "\n",
       "    .dataframe tbody tr th {\n",
       "        vertical-align: top;\n",
       "    }\n",
       "\n",
       "    .dataframe thead th {\n",
       "        text-align: right;\n",
       "    }\n",
       "</style>\n",
       "<table border=\"1\" class=\"dataframe\">\n",
       "  <thead>\n",
       "    <tr style=\"text-align: right;\">\n",
       "      <th></th>\n",
       "      <th>Age</th>\n",
       "      <th>DistanceFromHome</th>\n",
       "      <th>Education</th>\n",
       "      <th>EnvironmentSatisfaction</th>\n",
       "      <th>JobSatisfaction</th>\n",
       "      <th>MonthlyIncome</th>\n",
       "      <th>NumCompaniesWorked</th>\n",
       "      <th>WorkLifeBalance</th>\n",
       "      <th>YearsAtCompany</th>\n",
       "      <th>EducationField_Life Sciences</th>\n",
       "      <th>EducationField_Marketing</th>\n",
       "      <th>EducationField_Medical</th>\n",
       "      <th>EducationField_Other</th>\n",
       "      <th>EducationField_Technical Degree</th>\n",
       "      <th>Department_Research &amp; Development</th>\n",
       "      <th>Department_Sales</th>\n",
       "      <th>MaritalStatus_Married</th>\n",
       "      <th>MaritalStatus_Single</th>\n",
       "    </tr>\n",
       "  </thead>\n",
       "  <tbody>\n",
       "    <tr>\n",
       "      <th>0</th>\n",
       "      <td>41</td>\n",
       "      <td>1</td>\n",
       "      <td>2</td>\n",
       "      <td>2</td>\n",
       "      <td>4</td>\n",
       "      <td>5993</td>\n",
       "      <td>8</td>\n",
       "      <td>1</td>\n",
       "      <td>6</td>\n",
       "      <td>1</td>\n",
       "      <td>0</td>\n",
       "      <td>0</td>\n",
       "      <td>0</td>\n",
       "      <td>0</td>\n",
       "      <td>0</td>\n",
       "      <td>1</td>\n",
       "      <td>0</td>\n",
       "      <td>1</td>\n",
       "    </tr>\n",
       "    <tr>\n",
       "      <th>1</th>\n",
       "      <td>49</td>\n",
       "      <td>8</td>\n",
       "      <td>1</td>\n",
       "      <td>3</td>\n",
       "      <td>2</td>\n",
       "      <td>5130</td>\n",
       "      <td>1</td>\n",
       "      <td>3</td>\n",
       "      <td>10</td>\n",
       "      <td>1</td>\n",
       "      <td>0</td>\n",
       "      <td>0</td>\n",
       "      <td>0</td>\n",
       "      <td>0</td>\n",
       "      <td>1</td>\n",
       "      <td>0</td>\n",
       "      <td>1</td>\n",
       "      <td>0</td>\n",
       "    </tr>\n",
       "    <tr>\n",
       "      <th>2</th>\n",
       "      <td>37</td>\n",
       "      <td>2</td>\n",
       "      <td>2</td>\n",
       "      <td>4</td>\n",
       "      <td>3</td>\n",
       "      <td>2090</td>\n",
       "      <td>6</td>\n",
       "      <td>3</td>\n",
       "      <td>0</td>\n",
       "      <td>0</td>\n",
       "      <td>0</td>\n",
       "      <td>0</td>\n",
       "      <td>1</td>\n",
       "      <td>0</td>\n",
       "      <td>1</td>\n",
       "      <td>0</td>\n",
       "      <td>0</td>\n",
       "      <td>1</td>\n",
       "    </tr>\n",
       "    <tr>\n",
       "      <th>3</th>\n",
       "      <td>33</td>\n",
       "      <td>3</td>\n",
       "      <td>4</td>\n",
       "      <td>4</td>\n",
       "      <td>3</td>\n",
       "      <td>2909</td>\n",
       "      <td>1</td>\n",
       "      <td>3</td>\n",
       "      <td>8</td>\n",
       "      <td>1</td>\n",
       "      <td>0</td>\n",
       "      <td>0</td>\n",
       "      <td>0</td>\n",
       "      <td>0</td>\n",
       "      <td>1</td>\n",
       "      <td>0</td>\n",
       "      <td>1</td>\n",
       "      <td>0</td>\n",
       "    </tr>\n",
       "    <tr>\n",
       "      <th>4</th>\n",
       "      <td>27</td>\n",
       "      <td>2</td>\n",
       "      <td>1</td>\n",
       "      <td>1</td>\n",
       "      <td>2</td>\n",
       "      <td>3468</td>\n",
       "      <td>9</td>\n",
       "      <td>3</td>\n",
       "      <td>2</td>\n",
       "      <td>0</td>\n",
       "      <td>0</td>\n",
       "      <td>1</td>\n",
       "      <td>0</td>\n",
       "      <td>0</td>\n",
       "      <td>1</td>\n",
       "      <td>0</td>\n",
       "      <td>1</td>\n",
       "      <td>0</td>\n",
       "    </tr>\n",
       "  </tbody>\n",
       "</table>\n",
       "</div>"
      ],
      "text/plain": [
       "   Age  DistanceFromHome  Education  EnvironmentSatisfaction  JobSatisfaction  \\\n",
       "0   41                 1          2                        2                4   \n",
       "1   49                 8          1                        3                2   \n",
       "2   37                 2          2                        4                3   \n",
       "3   33                 3          4                        4                3   \n",
       "4   27                 2          1                        1                2   \n",
       "\n",
       "   MonthlyIncome  NumCompaniesWorked  WorkLifeBalance  YearsAtCompany  \\\n",
       "0           5993                   8                1               6   \n",
       "1           5130                   1                3              10   \n",
       "2           2090                   6                3               0   \n",
       "3           2909                   1                3               8   \n",
       "4           3468                   9                3               2   \n",
       "\n",
       "   EducationField_Life Sciences  EducationField_Marketing  \\\n",
       "0                             1                         0   \n",
       "1                             1                         0   \n",
       "2                             0                         0   \n",
       "3                             1                         0   \n",
       "4                             0                         0   \n",
       "\n",
       "   EducationField_Medical  EducationField_Other  \\\n",
       "0                       0                     0   \n",
       "1                       0                     0   \n",
       "2                       0                     1   \n",
       "3                       0                     0   \n",
       "4                       1                     0   \n",
       "\n",
       "   EducationField_Technical Degree  Department_Research & Development  \\\n",
       "0                                0                                  0   \n",
       "1                                0                                  1   \n",
       "2                                0                                  1   \n",
       "3                                0                                  1   \n",
       "4                                0                                  1   \n",
       "\n",
       "   Department_Sales  MaritalStatus_Married  MaritalStatus_Single  \n",
       "0                 1                      0                     1  \n",
       "1                 0                      1                     0  \n",
       "2                 0                      0                     1  \n",
       "3                 0                      1                     0  \n",
       "4                 0                      1                     0  "
      ]
     },
     "execution_count": 150,
     "metadata": {},
     "output_type": "execute_result"
    }
   ],
   "source": [
    "## Features for training and testing purpose(Indepedndent variable)\n",
    "x = dataframe.loc[:, dataframe.columns != 'Attrition_Yes']\n",
    "x.head()"
   ]
  },
  {
   "cell_type": "markdown",
   "metadata": {},
   "source": [
    "## Building a Logistic Regression model\n",
    "\n",
    "Let's start by splitting our data into a training set and test set (there is another test.csv file that you can play around with in case you want to use all this data for training)."
   ]
  },
  {
   "cell_type": "code",
   "execution_count": 151,
   "metadata": {},
   "outputs": [
    {
     "name": "stdout",
     "output_type": "stream",
     "text": [
      "                            OLS Regression Results                            \n",
      "==============================================================================\n",
      "Dep. Variable:          Attrition_Yes   R-squared:                       0.116\n",
      "Model:                            OLS   Adj. R-squared:                  0.105\n",
      "Method:                 Least Squares   F-statistic:                     10.60\n",
      "Date:                Fri, 28 Feb 2020   Prob (F-statistic):           8.80e-29\n",
      "Time:                        18:48:33   Log-Likelihood:                -524.50\n",
      "No. Observations:                1470   AIC:                             1087.\n",
      "Df Residuals:                    1451   BIC:                             1188.\n",
      "Df Model:                          18                                         \n",
      "Covariance Type:            nonrobust                                         \n",
      "=====================================================================================================\n",
      "                                        coef    std err          t      P>|t|      [0.025      0.975]\n",
      "-----------------------------------------------------------------------------------------------------\n",
      "const                                 0.6821      0.095      7.208      0.000       0.496       0.868\n",
      "Age                                  -0.0043      0.001     -3.539      0.000      -0.007      -0.002\n",
      "DistanceFromHome                      0.0036      0.001      3.186      0.001       0.001       0.006\n",
      "Education                            -0.0071      0.009     -0.774      0.439      -0.025       0.011\n",
      "EnvironmentSatisfaction              -0.0346      0.008     -4.152      0.000      -0.051      -0.018\n",
      "JobSatisfaction                      -0.0345      0.008     -4.178      0.000      -0.051      -0.018\n",
      "MonthlyIncome                     -6.944e-06    2.5e-06     -2.772      0.006   -1.19e-05   -2.03e-06\n",
      "NumCompaniesWorked                    0.0135      0.004      3.386      0.001       0.006       0.021\n",
      "WorkLifeBalance                      -0.0352      0.013     -2.717      0.007      -0.061      -0.010\n",
      "YearsAtCompany                       -0.0020      0.002     -1.106      0.269      -0.006       0.002\n",
      "EducationField_Life Sciences         -0.1300      0.090     -1.450      0.147      -0.306       0.046\n",
      "EducationField_Marketing             -0.0851      0.095     -0.892      0.372      -0.272       0.102\n",
      "EducationField_Medical               -0.1428      0.090     -1.588      0.112      -0.319       0.034\n",
      "EducationField_Other                 -0.1342      0.096     -1.395      0.163      -0.323       0.054\n",
      "EducationField_Technical Degree      -0.0430      0.094     -0.460      0.646      -0.226       0.140\n",
      "Department_Research & Development    -0.0173      0.059     -0.292      0.770      -0.134       0.099\n",
      "Department_Sales                      0.0368      0.062      0.596      0.552      -0.084       0.158\n",
      "MaritalStatus_Married                 0.0213      0.024      0.907      0.364      -0.025       0.067\n",
      "MaritalStatus_Single                  0.1420      0.025      5.625      0.000       0.092       0.192\n",
      "==============================================================================\n",
      "Omnibus:                      364.250   Durbin-Watson:                   1.924\n",
      "Prob(Omnibus):                  0.000   Jarque-Bera (JB):              681.635\n",
      "Skew:                           1.562   Prob(JB):                    9.66e-149\n",
      "Kurtosis:                       4.173   Cond. No.                     1.89e+05\n",
      "==============================================================================\n",
      "\n",
      "Warnings:\n",
      "[1] Standard Errors assume that the covariance matrix of the errors is correctly specified.\n",
      "[2] The condition number is large, 1.89e+05. This might indicate that there are\n",
      "strong multicollinearity or other numerical problems.\n"
     ]
    }
   ],
   "source": [
    "## Satistical Analysis\n",
    "X2 = sm.add_constant(x)\n",
    "est = sm.OLS(y, X2)\n",
    "est2 = est.fit()\n",
    "print(est2.summary())"
   ]
  },
  {
   "cell_type": "code",
   "execution_count": 152,
   "metadata": {},
   "outputs": [
    {
     "data": {
      "text/html": [
       "<div>\n",
       "<style scoped>\n",
       "    .dataframe tbody tr th:only-of-type {\n",
       "        vertical-align: middle;\n",
       "    }\n",
       "\n",
       "    .dataframe tbody tr th {\n",
       "        vertical-align: top;\n",
       "    }\n",
       "\n",
       "    .dataframe thead th {\n",
       "        text-align: right;\n",
       "    }\n",
       "</style>\n",
       "<table border=\"1\" class=\"dataframe\">\n",
       "  <thead>\n",
       "    <tr style=\"text-align: right;\">\n",
       "      <th></th>\n",
       "      <th>Age</th>\n",
       "      <th>EnvironmentSatisfaction</th>\n",
       "      <th>MonthlyIncome</th>\n",
       "      <th>DistanceFromHome</th>\n",
       "      <th>NumCompaniesWorked</th>\n",
       "      <th>JobSatisfaction</th>\n",
       "      <th>MaritalStatus_Single</th>\n",
       "      <th>WorkLifeBalance</th>\n",
       "    </tr>\n",
       "  </thead>\n",
       "  <tbody>\n",
       "    <tr>\n",
       "      <th>0</th>\n",
       "      <td>41</td>\n",
       "      <td>2</td>\n",
       "      <td>5993</td>\n",
       "      <td>1</td>\n",
       "      <td>8</td>\n",
       "      <td>4</td>\n",
       "      <td>1</td>\n",
       "      <td>1</td>\n",
       "    </tr>\n",
       "    <tr>\n",
       "      <th>1</th>\n",
       "      <td>49</td>\n",
       "      <td>3</td>\n",
       "      <td>5130</td>\n",
       "      <td>8</td>\n",
       "      <td>1</td>\n",
       "      <td>2</td>\n",
       "      <td>0</td>\n",
       "      <td>3</td>\n",
       "    </tr>\n",
       "    <tr>\n",
       "      <th>2</th>\n",
       "      <td>37</td>\n",
       "      <td>4</td>\n",
       "      <td>2090</td>\n",
       "      <td>2</td>\n",
       "      <td>6</td>\n",
       "      <td>3</td>\n",
       "      <td>1</td>\n",
       "      <td>3</td>\n",
       "    </tr>\n",
       "    <tr>\n",
       "      <th>3</th>\n",
       "      <td>33</td>\n",
       "      <td>4</td>\n",
       "      <td>2909</td>\n",
       "      <td>3</td>\n",
       "      <td>1</td>\n",
       "      <td>3</td>\n",
       "      <td>0</td>\n",
       "      <td>3</td>\n",
       "    </tr>\n",
       "    <tr>\n",
       "      <th>4</th>\n",
       "      <td>27</td>\n",
       "      <td>1</td>\n",
       "      <td>3468</td>\n",
       "      <td>2</td>\n",
       "      <td>9</td>\n",
       "      <td>2</td>\n",
       "      <td>0</td>\n",
       "      <td>3</td>\n",
       "    </tr>\n",
       "  </tbody>\n",
       "</table>\n",
       "</div>"
      ],
      "text/plain": [
       "   Age  EnvironmentSatisfaction  MonthlyIncome  DistanceFromHome  \\\n",
       "0   41                        2           5993                 1   \n",
       "1   49                        3           5130                 8   \n",
       "2   37                        4           2090                 2   \n",
       "3   33                        4           2909                 3   \n",
       "4   27                        1           3468                 2   \n",
       "\n",
       "   NumCompaniesWorked  JobSatisfaction  MaritalStatus_Single  WorkLifeBalance  \n",
       "0                   8                4                     1                1  \n",
       "1                   1                2                     0                3  \n",
       "2                   6                3                     1                3  \n",
       "3                   1                3                     0                3  \n",
       "4                   9                2                     0                3  "
      ]
     },
     "execution_count": 152,
     "metadata": {},
     "output_type": "execute_result"
    }
   ],
   "source": [
    "X = dataframe[['Age','EnvironmentSatisfaction','MonthlyIncome','DistanceFromHome','NumCompaniesWorked','JobSatisfaction',\n",
    "               'MaritalStatus_Single','WorkLifeBalance']]\n",
    "X.head()"
   ]
  },
  {
   "cell_type": "code",
   "execution_count": 153,
   "metadata": {},
   "outputs": [
    {
     "data": {
      "text/plain": [
       "0    1\n",
       "1    0\n",
       "2    1\n",
       "3    0\n",
       "4    0\n",
       "Name: Attrition_Yes, dtype: uint8"
      ]
     },
     "execution_count": 153,
     "metadata": {},
     "output_type": "execute_result"
    }
   ],
   "source": [
    "Y = dataframe['Attrition_Yes']\n",
    "Y.head()"
   ]
  },
  {
   "cell_type": "code",
   "execution_count": 154,
   "metadata": {},
   "outputs": [
    {
     "data": {
      "text/html": [
       "<div>\n",
       "<style scoped>\n",
       "    .dataframe tbody tr th:only-of-type {\n",
       "        vertical-align: middle;\n",
       "    }\n",
       "\n",
       "    .dataframe tbody tr th {\n",
       "        vertical-align: top;\n",
       "    }\n",
       "\n",
       "    .dataframe thead th {\n",
       "        text-align: right;\n",
       "    }\n",
       "</style>\n",
       "<table border=\"1\" class=\"dataframe\">\n",
       "  <thead>\n",
       "    <tr style=\"text-align: right;\">\n",
       "      <th></th>\n",
       "      <th>Age</th>\n",
       "      <th>EnvironmentSatisfaction</th>\n",
       "      <th>MonthlyIncome</th>\n",
       "      <th>DistanceFromHome</th>\n",
       "      <th>NumCompaniesWorked</th>\n",
       "      <th>JobSatisfaction</th>\n",
       "      <th>MaritalStatus_Single</th>\n",
       "      <th>WorkLifeBalance</th>\n",
       "    </tr>\n",
       "  </thead>\n",
       "  <tbody>\n",
       "    <tr>\n",
       "      <th>Age</th>\n",
       "      <td>1.000000</td>\n",
       "      <td>0.010146</td>\n",
       "      <td>0.497855</td>\n",
       "      <td>-0.001686</td>\n",
       "      <td>0.299635</td>\n",
       "      <td>-0.004892</td>\n",
       "      <td>-0.119185</td>\n",
       "      <td>-0.021490</td>\n",
       "    </tr>\n",
       "    <tr>\n",
       "      <th>EnvironmentSatisfaction</th>\n",
       "      <td>0.010146</td>\n",
       "      <td>1.000000</td>\n",
       "      <td>-0.006259</td>\n",
       "      <td>-0.016075</td>\n",
       "      <td>0.012594</td>\n",
       "      <td>-0.006784</td>\n",
       "      <td>0.009035</td>\n",
       "      <td>0.027627</td>\n",
       "    </tr>\n",
       "    <tr>\n",
       "      <th>MonthlyIncome</th>\n",
       "      <td>0.497855</td>\n",
       "      <td>-0.006259</td>\n",
       "      <td>1.000000</td>\n",
       "      <td>-0.017014</td>\n",
       "      <td>0.149515</td>\n",
       "      <td>-0.007157</td>\n",
       "      <td>-0.089361</td>\n",
       "      <td>0.030683</td>\n",
       "    </tr>\n",
       "    <tr>\n",
       "      <th>DistanceFromHome</th>\n",
       "      <td>-0.001686</td>\n",
       "      <td>-0.016075</td>\n",
       "      <td>-0.017014</td>\n",
       "      <td>1.000000</td>\n",
       "      <td>-0.029251</td>\n",
       "      <td>-0.003669</td>\n",
       "      <td>-0.027445</td>\n",
       "      <td>-0.026556</td>\n",
       "    </tr>\n",
       "    <tr>\n",
       "      <th>NumCompaniesWorked</th>\n",
       "      <td>0.299635</td>\n",
       "      <td>0.012594</td>\n",
       "      <td>0.149515</td>\n",
       "      <td>-0.029251</td>\n",
       "      <td>1.000000</td>\n",
       "      <td>-0.055699</td>\n",
       "      <td>-0.019161</td>\n",
       "      <td>-0.008366</td>\n",
       "    </tr>\n",
       "    <tr>\n",
       "      <th>JobSatisfaction</th>\n",
       "      <td>-0.004892</td>\n",
       "      <td>-0.006784</td>\n",
       "      <td>-0.007157</td>\n",
       "      <td>-0.003669</td>\n",
       "      <td>-0.055699</td>\n",
       "      <td>1.000000</td>\n",
       "      <td>0.024571</td>\n",
       "      <td>-0.019459</td>\n",
       "    </tr>\n",
       "    <tr>\n",
       "      <th>MaritalStatus_Single</th>\n",
       "      <td>-0.119185</td>\n",
       "      <td>0.009035</td>\n",
       "      <td>-0.089361</td>\n",
       "      <td>-0.027445</td>\n",
       "      <td>-0.019161</td>\n",
       "      <td>0.024571</td>\n",
       "      <td>1.000000</td>\n",
       "      <td>0.014921</td>\n",
       "    </tr>\n",
       "    <tr>\n",
       "      <th>WorkLifeBalance</th>\n",
       "      <td>-0.021490</td>\n",
       "      <td>0.027627</td>\n",
       "      <td>0.030683</td>\n",
       "      <td>-0.026556</td>\n",
       "      <td>-0.008366</td>\n",
       "      <td>-0.019459</td>\n",
       "      <td>0.014921</td>\n",
       "      <td>1.000000</td>\n",
       "    </tr>\n",
       "  </tbody>\n",
       "</table>\n",
       "</div>"
      ],
      "text/plain": [
       "                              Age  EnvironmentSatisfaction  MonthlyIncome  \\\n",
       "Age                      1.000000                 0.010146       0.497855   \n",
       "EnvironmentSatisfaction  0.010146                 1.000000      -0.006259   \n",
       "MonthlyIncome            0.497855                -0.006259       1.000000   \n",
       "DistanceFromHome        -0.001686                -0.016075      -0.017014   \n",
       "NumCompaniesWorked       0.299635                 0.012594       0.149515   \n",
       "JobSatisfaction         -0.004892                -0.006784      -0.007157   \n",
       "MaritalStatus_Single    -0.119185                 0.009035      -0.089361   \n",
       "WorkLifeBalance         -0.021490                 0.027627       0.030683   \n",
       "\n",
       "                         DistanceFromHome  NumCompaniesWorked  \\\n",
       "Age                             -0.001686            0.299635   \n",
       "EnvironmentSatisfaction         -0.016075            0.012594   \n",
       "MonthlyIncome                   -0.017014            0.149515   \n",
       "DistanceFromHome                 1.000000           -0.029251   \n",
       "NumCompaniesWorked              -0.029251            1.000000   \n",
       "JobSatisfaction                 -0.003669           -0.055699   \n",
       "MaritalStatus_Single            -0.027445           -0.019161   \n",
       "WorkLifeBalance                 -0.026556           -0.008366   \n",
       "\n",
       "                         JobSatisfaction  MaritalStatus_Single  \\\n",
       "Age                            -0.004892             -0.119185   \n",
       "EnvironmentSatisfaction        -0.006784              0.009035   \n",
       "MonthlyIncome                  -0.007157             -0.089361   \n",
       "DistanceFromHome               -0.003669             -0.027445   \n",
       "NumCompaniesWorked             -0.055699             -0.019161   \n",
       "JobSatisfaction                 1.000000              0.024571   \n",
       "MaritalStatus_Single            0.024571              1.000000   \n",
       "WorkLifeBalance                -0.019459              0.014921   \n",
       "\n",
       "                         WorkLifeBalance  \n",
       "Age                            -0.021490  \n",
       "EnvironmentSatisfaction         0.027627  \n",
       "MonthlyIncome                   0.030683  \n",
       "DistanceFromHome               -0.026556  \n",
       "NumCompaniesWorked             -0.008366  \n",
       "JobSatisfaction                -0.019459  \n",
       "MaritalStatus_Single            0.014921  \n",
       "WorkLifeBalance                 1.000000  "
      ]
     },
     "execution_count": 154,
     "metadata": {},
     "output_type": "execute_result"
    }
   ],
   "source": [
    "Plot = X.corr()\n",
    "Plot"
   ]
  },
  {
   "cell_type": "code",
   "execution_count": 155,
   "metadata": {},
   "outputs": [
    {
     "data": {
      "image/png": "[encoded data removed]",
      "text/plain": [
       "<Figure size 432x504 with 2 Axes>"
      ]
     },
     "metadata": {
      "needs_background": "light"
     },
     "output_type": "display_data"
    }
   ],
   "source": [
    "# Plot the heatmap for features with moore than 4\n",
    "plt.figure( figsize = (6,7) )\n",
    "sns.heatmap(Plot, annot = True );\n",
    "plt.title( \"Figure 4.5 - Heatmap depicting correlation between features\");"
   ]
  },
  {
   "cell_type": "markdown",
   "metadata": {},
   "source": [
    "# Train Test Split"
   ]
  },
  {
   "cell_type": "code",
   "execution_count": 156,
   "metadata": {},
   "outputs": [],
   "source": [
    "## we split the data into training and testing sets\n",
    "## Importing library of train & test data from sklearn\n",
    "from sklearn.model_selection import train_test_split"
   ]
  },
  {
   "cell_type": "code",
   "execution_count": 157,
   "metadata": {},
   "outputs": [
    {
     "name": "stdout",
     "output_type": "stream",
     "text": [
      "(1029, 8)\n",
      "(441, 8)\n",
      "(1029,)\n",
      "(441,)\n"
     ]
    }
   ],
   "source": [
    "## Spliting data in 70:30 ratio\n",
    "X_train, X_test, Y_train, Y_test = train_test_split(X, y, test_size = 0.3, random_state=5)\n",
    "print(X_train.shape)\n",
    "print(X_test.shape)\n",
    "print(Y_train.shape)\n",
    "print(Y_test.shape)"
   ]
  },
  {
   "cell_type": "markdown",
   "metadata": {},
   "source": [
    "# Training and Predicting"
   ]
  },
  {
   "cell_type": "code",
   "execution_count": 158,
   "metadata": {},
   "outputs": [],
   "source": [
    "## Importing logistic regression library\n",
    "from sklearn.linear_model import LogisticRegression\n",
    "from sklearn.metrics import accuracy_score \n",
    "from sklearn.metrics import confusion_matrix"
   ]
  },
  {
   "cell_type": "code",
   "execution_count": 159,
   "metadata": {},
   "outputs": [
    {
     "data": {
      "text/plain": [
       "LogisticRegression(C=1.0, class_weight=None, dual=False, fit_intercept=True,\n",
       "          intercept_scaling=1, max_iter=100, multi_class='warn',\n",
       "          n_jobs=None, penalty='l2', random_state=None, solver='lbfgs',\n",
       "          tol=0.0001, verbose=0, warm_start=False)"
      ]
     },
     "execution_count": 159,
     "metadata": {},
     "output_type": "execute_result"
    }
   ],
   "source": [
    "## Bulding the LogR model \n",
    "## lbfgs is used to ignore future warnings\n",
    "##Typically, the warning message itself will instruct you on the nature of the change and \n",
    "##how to change your code to address the warning.\n",
    "model_lr = LogisticRegression(solver='lbfgs')\n",
    "model_lr.fit(X_train, Y_train)"
   ]
  },
  {
   "cell_type": "markdown",
   "metadata": {},
   "source": [
    "# Evaluation"
   ]
  },
  {
   "cell_type": "code",
   "execution_count": 160,
   "metadata": {},
   "outputs": [
    {
     "name": "stdout",
     "output_type": "stream",
     "text": [
      "Coefficients of the Logistic regression model\n",
      "Coef:  [[-3.76379800e-02 -1.83723027e-01 -6.06134124e-05  4.44468947e-02\n",
      "   1.17631279e-01 -2.07163923e-01  8.05088696e-01 -6.11825760e-02]]\n",
      "Intercept:  [0.11288584]\n"
     ]
    }
   ],
   "source": [
    "## To minimize the residual sum of squares between the observed targets in the dataset.\n",
    "print(\"Coefficients of the Logistic regression model\")\n",
    "coef = model_lr.coef_\n",
    "intercept = model_lr.intercept_\n",
    "print(\"Coef: \", coef)\n",
    "print(\"Intercept: \", intercept)"
   ]
  },
  {
   "cell_type": "code",
   "execution_count": 161,
   "metadata": {},
   "outputs": [],
   "source": [
    "## Predicting train set to calculate acuracy of LR model\n",
    "predicted_classes_lr = model_lr.predict(X_train)"
   ]
  },
  {
   "cell_type": "code",
   "execution_count": 162,
   "metadata": {},
   "outputs": [
    {
     "name": "stdout",
     "output_type": "stream",
     "text": [
      "Confusion Matrix for LR model::\n",
      "[[864   4]\n",
      " [155   6]]\n"
     ]
    },
    {
     "data": {
      "image/png": "[encoded data removed]",
      "text/plain": [
       "<Figure size 432x288 with 2 Axes>"
      ]
     },
     "metadata": {
      "needs_background": "light"
     },
     "output_type": "display_data"
    }
   ],
   "source": [
    "print(\"Confusion Matrix for LR model::\")\n",
    "conf_mat_lr = confusion_matrix(Y_train.tolist(),predicted_classes_lr)\n",
    "print(conf_mat_lr)\n",
    "sns.heatmap(conf_mat_lr,annot = True,fmt=\"d\",linewidths=.5) \n",
    "plt.xlabel('Predicted classes')\n",
    "plt.ylabel('Actual classes')\n",
    "plt.show()"
   ]
  },
  {
   "cell_type": "code",
   "execution_count": 163,
   "metadata": {},
   "outputs": [
    {
     "name": "stdout",
     "output_type": "stream",
     "text": [
      "accuracy score (train) for LR model:: 0.8454810495626822\n"
     ]
    }
   ],
   "source": [
    "# calculate accuracy scores for train sets\n",
    "accuracy_lr = accuracy_score(Y_train,predicted_classes_lr)\n",
    "print(\"accuracy score (train) for LR model::\", accuracy_lr)"
   ]
  },
  {
   "cell_type": "code",
   "execution_count": 164,
   "metadata": {},
   "outputs": [],
   "source": [
    "## Test SET\n",
    "predicted_test_classes_lr = model_lr.predict(X_test)"
   ]
  },
  {
   "cell_type": "code",
   "execution_count": 165,
   "metadata": {},
   "outputs": [
    {
     "name": "stdout",
     "output_type": "stream",
     "text": [
      "Confusion Matrix (Test set) for LR model::\n",
      "[[364   1]\n",
      " [ 74   2]]\n"
     ]
    }
   ],
   "source": [
    "## Confusion Matrix\n",
    "print(\"Confusion Matrix (Test set) for LR model::\")\n",
    "conf_mat_test_lr = confusion_matrix(Y_test.tolist(),predicted_test_classes_lr)\n",
    "print(conf_mat_test_lr)"
   ]
  },
  {
   "cell_type": "code",
   "execution_count": 166,
   "metadata": {},
   "outputs": [
    {
     "name": "stdout",
     "output_type": "stream",
     "text": [
      "accuracy score - Log Reg (Test set):: 0.8299319727891157\n"
     ]
    }
   ],
   "source": [
    "accuracy_test_lr = accuracy_score(Y_test,predicted_test_classes_lr)\n",
    "print(\"accuracy score - Log Reg (Test set)::\", accuracy_test_lr)"
   ]
  },
  {
   "cell_type": "code",
   "execution_count": 167,
   "metadata": {},
   "outputs": [
    {
     "data": {
      "image/png": "[encoded data removed]",
      "text/plain": [
       "<Figure size 432x288 with 1 Axes>"
      ]
     },
     "metadata": {
      "needs_background": "light"
     },
     "output_type": "display_data"
    }
   ],
   "source": [
    "## ROC AUC\n",
    "from sklearn.metrics import roc_auc_score\n",
    "from sklearn.metrics import roc_curve\n",
    "\n",
    "plt.figure()\n",
    "logit_roc_auc = roc_auc_score(Y_test, model_lr.predict_proba(X_test)[:,1])\n",
    "fpr, tpr, thresholds = roc_curve(Y_test, model_lr.predict_proba(X_test)[:,1], drop_intermediate=False)\n",
    "#, drop_intermediate=False\n",
    "plt.plot(fpr, tpr, 'b--', label='Logistic Regression (area = %0.3f)' % logit_roc_auc)\n",
    "plt.plot([0, 1], [0, 1], color='orange', linestyle='--')\n",
    "plt.xlabel('False Positive Rate')\n",
    "plt.ylabel('True Positive Rate')\n",
    "plt.title('Receiver Operating Characteristic (ROC) Curve')\n",
    "plt.legend()\n",
    "plt.show()"
   ]
  },
  {
   "cell_type": "markdown",
   "metadata": {},
   "source": [
    "# --------------------------------------------------------------------------------------------------------------"
   ]
  },
  {
   "cell_type": "markdown",
   "metadata": {},
   "source": [
    "# K Nearest Neighbors with Python"
   ]
  },
  {
   "cell_type": "markdown",
   "metadata": {},
   "source": [
    "## Import Libraries\n"
   ]
  },
  {
   "cell_type": "code",
   "execution_count": 87,
   "metadata": {},
   "outputs": [],
   "source": [
    "# importing Libraries\n",
    "import numpy as np\n",
    "import matplotlib.pyplot as plt\n",
    "%matplotlib inline\n",
    "import seaborn as sns\n",
    "import pandas as pd"
   ]
  },
  {
   "cell_type": "markdown",
   "metadata": {},
   "source": [
    "## Get the Data"
   ]
  },
  {
   "cell_type": "code",
   "execution_count": 88,
   "metadata": {},
   "outputs": [],
   "source": [
    "## Importing Dataset\n",
    "dataframe=pd.read_csv(r\"C:\\Users\\Prachi Gopalani\\Desktop\\Phyton programming course\\Advanced\\IBM Attrition Data.csv\")"
   ]
  },
  {
   "cell_type": "code",
   "execution_count": 89,
   "metadata": {},
   "outputs": [
    {
     "data": {
      "text/html": [
       "<div>\n",
       "<style scoped>\n",
       "    .dataframe tbody tr th:only-of-type {\n",
       "        vertical-align: middle;\n",
       "    }\n",
       "\n",
       "    .dataframe tbody tr th {\n",
       "        vertical-align: top;\n",
       "    }\n",
       "\n",
       "    .dataframe thead th {\n",
       "        text-align: right;\n",
       "    }\n",
       "</style>\n",
       "<table border=\"1\" class=\"dataframe\">\n",
       "  <thead>\n",
       "    <tr style=\"text-align: right;\">\n",
       "      <th></th>\n",
       "      <th>Age</th>\n",
       "      <th>Attrition</th>\n",
       "      <th>Department</th>\n",
       "      <th>DistanceFromHome</th>\n",
       "      <th>Education</th>\n",
       "      <th>EducationField</th>\n",
       "      <th>EnvironmentSatisfaction</th>\n",
       "      <th>JobSatisfaction</th>\n",
       "      <th>MaritalStatus</th>\n",
       "      <th>MonthlyIncome</th>\n",
       "      <th>NumCompaniesWorked</th>\n",
       "      <th>WorkLifeBalance</th>\n",
       "      <th>YearsAtCompany</th>\n",
       "    </tr>\n",
       "  </thead>\n",
       "  <tbody>\n",
       "    <tr>\n",
       "      <th>0</th>\n",
       "      <td>41</td>\n",
       "      <td>Yes</td>\n",
       "      <td>Sales</td>\n",
       "      <td>1</td>\n",
       "      <td>2</td>\n",
       "      <td>Life Sciences</td>\n",
       "      <td>2</td>\n",
       "      <td>4</td>\n",
       "      <td>Single</td>\n",
       "      <td>5993</td>\n",
       "      <td>8</td>\n",
       "      <td>1</td>\n",
       "      <td>6</td>\n",
       "    </tr>\n",
       "    <tr>\n",
       "      <th>1</th>\n",
       "      <td>49</td>\n",
       "      <td>No</td>\n",
       "      <td>Research &amp; Development</td>\n",
       "      <td>8</td>\n",
       "      <td>1</td>\n",
       "      <td>Life Sciences</td>\n",
       "      <td>3</td>\n",
       "      <td>2</td>\n",
       "      <td>Married</td>\n",
       "      <td>5130</td>\n",
       "      <td>1</td>\n",
       "      <td>3</td>\n",
       "      <td>10</td>\n",
       "    </tr>\n",
       "    <tr>\n",
       "      <th>2</th>\n",
       "      <td>37</td>\n",
       "      <td>Yes</td>\n",
       "      <td>Research &amp; Development</td>\n",
       "      <td>2</td>\n",
       "      <td>2</td>\n",
       "      <td>Other</td>\n",
       "      <td>4</td>\n",
       "      <td>3</td>\n",
       "      <td>Single</td>\n",
       "      <td>2090</td>\n",
       "      <td>6</td>\n",
       "      <td>3</td>\n",
       "      <td>0</td>\n",
       "    </tr>\n",
       "    <tr>\n",
       "      <th>3</th>\n",
       "      <td>33</td>\n",
       "      <td>No</td>\n",
       "      <td>Research &amp; Development</td>\n",
       "      <td>3</td>\n",
       "      <td>4</td>\n",
       "      <td>Life Sciences</td>\n",
       "      <td>4</td>\n",
       "      <td>3</td>\n",
       "      <td>Married</td>\n",
       "      <td>2909</td>\n",
       "      <td>1</td>\n",
       "      <td>3</td>\n",
       "      <td>8</td>\n",
       "    </tr>\n",
       "    <tr>\n",
       "      <th>4</th>\n",
       "      <td>27</td>\n",
       "      <td>No</td>\n",
       "      <td>Research &amp; Development</td>\n",
       "      <td>2</td>\n",
       "      <td>1</td>\n",
       "      <td>Medical</td>\n",
       "      <td>1</td>\n",
       "      <td>2</td>\n",
       "      <td>Married</td>\n",
       "      <td>3468</td>\n",
       "      <td>9</td>\n",
       "      <td>3</td>\n",
       "      <td>2</td>\n",
       "    </tr>\n",
       "  </tbody>\n",
       "</table>\n",
       "</div>"
      ],
      "text/plain": [
       "   Age Attrition              Department  DistanceFromHome  Education  \\\n",
       "0   41       Yes                   Sales                 1          2   \n",
       "1   49        No  Research & Development                 8          1   \n",
       "2   37       Yes  Research & Development                 2          2   \n",
       "3   33        No  Research & Development                 3          4   \n",
       "4   27        No  Research & Development                 2          1   \n",
       "\n",
       "  EducationField  EnvironmentSatisfaction  JobSatisfaction MaritalStatus  \\\n",
       "0  Life Sciences                        2                4        Single   \n",
       "1  Life Sciences                        3                2       Married   \n",
       "2          Other                        4                3        Single   \n",
       "3  Life Sciences                        4                3       Married   \n",
       "4        Medical                        1                2       Married   \n",
       "\n",
       "   MonthlyIncome  NumCompaniesWorked  WorkLifeBalance  YearsAtCompany  \n",
       "0           5993                   8                1               6  \n",
       "1           5130                   1                3              10  \n",
       "2           2090                   6                3               0  \n",
       "3           2909                   1                3               8  \n",
       "4           3468                   9                3               2  "
      ]
     },
     "execution_count": 89,
     "metadata": {},
     "output_type": "execute_result"
    }
   ],
   "source": [
    "##Top 5 rows\n",
    "dataframe.head()"
   ]
  },
  {
   "cell_type": "markdown",
   "metadata": {},
   "source": [
    "## Dummy Varibles"
   ]
  },
  {
   "cell_type": "code",
   "execution_count": 90,
   "metadata": {},
   "outputs": [
    {
     "data": {
      "text/html": [
       "<div>\n",
       "<style scoped>\n",
       "    .dataframe tbody tr th:only-of-type {\n",
       "        vertical-align: middle;\n",
       "    }\n",
       "\n",
       "    .dataframe tbody tr th {\n",
       "        vertical-align: top;\n",
       "    }\n",
       "\n",
       "    .dataframe thead th {\n",
       "        text-align: right;\n",
       "    }\n",
       "</style>\n",
       "<table border=\"1\" class=\"dataframe\">\n",
       "  <thead>\n",
       "    <tr style=\"text-align: right;\">\n",
       "      <th></th>\n",
       "      <th>Age</th>\n",
       "      <th>DistanceFromHome</th>\n",
       "      <th>Education</th>\n",
       "      <th>EnvironmentSatisfaction</th>\n",
       "      <th>JobSatisfaction</th>\n",
       "      <th>MonthlyIncome</th>\n",
       "      <th>NumCompaniesWorked</th>\n",
       "      <th>WorkLifeBalance</th>\n",
       "      <th>YearsAtCompany</th>\n",
       "      <th>Attrition_Yes</th>\n",
       "      <th>EducationField_Life Sciences</th>\n",
       "      <th>EducationField_Marketing</th>\n",
       "      <th>EducationField_Medical</th>\n",
       "      <th>EducationField_Other</th>\n",
       "      <th>EducationField_Technical Degree</th>\n",
       "      <th>Department_Research &amp; Development</th>\n",
       "      <th>Department_Sales</th>\n",
       "      <th>MaritalStatus_Married</th>\n",
       "      <th>MaritalStatus_Single</th>\n",
       "    </tr>\n",
       "  </thead>\n",
       "  <tbody>\n",
       "    <tr>\n",
       "      <th>0</th>\n",
       "      <td>41</td>\n",
       "      <td>1</td>\n",
       "      <td>2</td>\n",
       "      <td>2</td>\n",
       "      <td>4</td>\n",
       "      <td>5993</td>\n",
       "      <td>8</td>\n",
       "      <td>1</td>\n",
       "      <td>6</td>\n",
       "      <td>1</td>\n",
       "      <td>1</td>\n",
       "      <td>0</td>\n",
       "      <td>0</td>\n",
       "      <td>0</td>\n",
       "      <td>0</td>\n",
       "      <td>0</td>\n",
       "      <td>1</td>\n",
       "      <td>0</td>\n",
       "      <td>1</td>\n",
       "    </tr>\n",
       "    <tr>\n",
       "      <th>1</th>\n",
       "      <td>49</td>\n",
       "      <td>8</td>\n",
       "      <td>1</td>\n",
       "      <td>3</td>\n",
       "      <td>2</td>\n",
       "      <td>5130</td>\n",
       "      <td>1</td>\n",
       "      <td>3</td>\n",
       "      <td>10</td>\n",
       "      <td>0</td>\n",
       "      <td>1</td>\n",
       "      <td>0</td>\n",
       "      <td>0</td>\n",
       "      <td>0</td>\n",
       "      <td>0</td>\n",
       "      <td>1</td>\n",
       "      <td>0</td>\n",
       "      <td>1</td>\n",
       "      <td>0</td>\n",
       "    </tr>\n",
       "    <tr>\n",
       "      <th>2</th>\n",
       "      <td>37</td>\n",
       "      <td>2</td>\n",
       "      <td>2</td>\n",
       "      <td>4</td>\n",
       "      <td>3</td>\n",
       "      <td>2090</td>\n",
       "      <td>6</td>\n",
       "      <td>3</td>\n",
       "      <td>0</td>\n",
       "      <td>1</td>\n",
       "      <td>0</td>\n",
       "      <td>0</td>\n",
       "      <td>0</td>\n",
       "      <td>1</td>\n",
       "      <td>0</td>\n",
       "      <td>1</td>\n",
       "      <td>0</td>\n",
       "      <td>0</td>\n",
       "      <td>1</td>\n",
       "    </tr>\n",
       "    <tr>\n",
       "      <th>3</th>\n",
       "      <td>33</td>\n",
       "      <td>3</td>\n",
       "      <td>4</td>\n",
       "      <td>4</td>\n",
       "      <td>3</td>\n",
       "      <td>2909</td>\n",
       "      <td>1</td>\n",
       "      <td>3</td>\n",
       "      <td>8</td>\n",
       "      <td>0</td>\n",
       "      <td>1</td>\n",
       "      <td>0</td>\n",
       "      <td>0</td>\n",
       "      <td>0</td>\n",
       "      <td>0</td>\n",
       "      <td>1</td>\n",
       "      <td>0</td>\n",
       "      <td>1</td>\n",
       "      <td>0</td>\n",
       "    </tr>\n",
       "    <tr>\n",
       "      <th>4</th>\n",
       "      <td>27</td>\n",
       "      <td>2</td>\n",
       "      <td>1</td>\n",
       "      <td>1</td>\n",
       "      <td>2</td>\n",
       "      <td>3468</td>\n",
       "      <td>9</td>\n",
       "      <td>3</td>\n",
       "      <td>2</td>\n",
       "      <td>0</td>\n",
       "      <td>0</td>\n",
       "      <td>0</td>\n",
       "      <td>1</td>\n",
       "      <td>0</td>\n",
       "      <td>0</td>\n",
       "      <td>1</td>\n",
       "      <td>0</td>\n",
       "      <td>1</td>\n",
       "      <td>0</td>\n",
       "    </tr>\n",
       "  </tbody>\n",
       "</table>\n",
       "</div>"
      ],
      "text/plain": [
       "   Age  DistanceFromHome  Education  EnvironmentSatisfaction  JobSatisfaction  \\\n",
       "0   41                 1          2                        2                4   \n",
       "1   49                 8          1                        3                2   \n",
       "2   37                 2          2                        4                3   \n",
       "3   33                 3          4                        4                3   \n",
       "4   27                 2          1                        1                2   \n",
       "\n",
       "   MonthlyIncome  NumCompaniesWorked  WorkLifeBalance  YearsAtCompany  \\\n",
       "0           5993                   8                1               6   \n",
       "1           5130                   1                3              10   \n",
       "2           2090                   6                3               0   \n",
       "3           2909                   1                3               8   \n",
       "4           3468                   9                3               2   \n",
       "\n",
       "   Attrition_Yes  EducationField_Life Sciences  EducationField_Marketing  \\\n",
       "0              1                             1                         0   \n",
       "1              0                             1                         0   \n",
       "2              1                             0                         0   \n",
       "3              0                             1                         0   \n",
       "4              0                             0                         0   \n",
       "\n",
       "   EducationField_Medical  EducationField_Other  \\\n",
       "0                       0                     0   \n",
       "1                       0                     0   \n",
       "2                       0                     1   \n",
       "3                       0                     0   \n",
       "4                       1                     0   \n",
       "\n",
       "   EducationField_Technical Degree  Department_Research & Development  \\\n",
       "0                                0                                  0   \n",
       "1                                0                                  1   \n",
       "2                                0                                  1   \n",
       "3                                0                                  1   \n",
       "4                                0                                  1   \n",
       "\n",
       "   Department_Sales  MaritalStatus_Married  MaritalStatus_Single  \n",
       "0                 1                      0                     1  \n",
       "1                 0                      1                     0  \n",
       "2                 0                      0                     1  \n",
       "3                 0                      1                     0  \n",
       "4                 0                      1                     0  "
      ]
     },
     "execution_count": 90,
     "metadata": {},
     "output_type": "execute_result"
    }
   ],
   "source": [
    "dataframe = pd.get_dummies(dataframe, columns=['Attrition','EducationField','Department','MaritalStatus'], drop_first=True)\n",
    "dataframe.head()"
   ]
  },
  {
   "cell_type": "markdown",
   "metadata": {},
   "source": [
    "## Relevant Features"
   ]
  },
  {
   "cell_type": "code",
   "execution_count": 91,
   "metadata": {},
   "outputs": [],
   "source": [
    "## Chosen features after checking Significance level\n",
    "feature_cols = ['Age','EnvironmentSatisfaction','MonthlyIncome','DistanceFromHome','NumCompaniesWorked','JobSatisfaction',\n",
    "               'MaritalStatus_Single','WorkLifeBalance']\n",
    "X = dataframe[feature_cols] # Features\n",
    "y = dataframe.Attrition_Yes # Target variable"
   ]
  },
  {
   "cell_type": "code",
   "execution_count": 92,
   "metadata": {},
   "outputs": [
    {
     "name": "stdout",
     "output_type": "stream",
     "text": [
      "X matrix dimensionality: (1470, 8)\n",
      "Y vector dimensionality: (1470,)\n"
     ]
    }
   ],
   "source": [
    "# create X (features) and y (response)\n",
    "print('X matrix dimensionality:', X.shape)\n",
    "print('Y vector dimensionality:', y.shape)"
   ]
  },
  {
   "cell_type": "markdown",
   "metadata": {},
   "source": [
    "## Standardize the Variables\n",
    "\n",
    "Because the KNN classifier predicts the class of a given test observation by identifying the observations that are nearest to it, the scale of the variables matters. Any variables that are on a large scale will have a much larger effect on the distance between the observations, and hence on the KNN classifier, than variables that are on a small scale."
   ]
  },
  {
   "cell_type": "code",
   "execution_count": 93,
   "metadata": {},
   "outputs": [],
   "source": [
    "from sklearn.preprocessing import StandardScaler"
   ]
  },
  {
   "cell_type": "code",
   "execution_count": 63,
   "metadata": {},
   "outputs": [],
   "source": [
    "scaler = StandardScaler()"
   ]
  },
  {
   "cell_type": "code",
   "execution_count": 64,
   "metadata": {},
   "outputs": [
    {
     "data": {
      "text/plain": [
       "StandardScaler(copy=True, with_mean=True, with_std=True)"
      ]
     },
     "execution_count": 64,
     "metadata": {},
     "output_type": "execute_result"
    }
   ],
   "source": [
    "scaler.fit(dataframe.drop('Attrition_Yes',axis=1))"
   ]
  },
  {
   "cell_type": "code",
   "execution_count": 65,
   "metadata": {},
   "outputs": [],
   "source": [
    "scaled_features = scaler.transform(dataframe.drop('Attrition_Yes',axis=1))"
   ]
  },
  {
   "cell_type": "code",
   "execution_count": 66,
   "metadata": {},
   "outputs": [
    {
     "data": {
      "text/html": [
       "<div>\n",
       "<style scoped>\n",
       "    .dataframe tbody tr th:only-of-type {\n",
       "        vertical-align: middle;\n",
       "    }\n",
       "\n",
       "    .dataframe tbody tr th {\n",
       "        vertical-align: top;\n",
       "    }\n",
       "\n",
       "    .dataframe thead th {\n",
       "        text-align: right;\n",
       "    }\n",
       "</style>\n",
       "<table border=\"1\" class=\"dataframe\">\n",
       "  <thead>\n",
       "    <tr style=\"text-align: right;\">\n",
       "      <th></th>\n",
       "      <th>Age</th>\n",
       "      <th>DistanceFromHome</th>\n",
       "      <th>Education</th>\n",
       "      <th>EnvironmentSatisfaction</th>\n",
       "      <th>JobSatisfaction</th>\n",
       "      <th>MonthlyIncome</th>\n",
       "      <th>NumCompaniesWorked</th>\n",
       "      <th>WorkLifeBalance</th>\n",
       "      <th>YearsAtCompany</th>\n",
       "      <th>Attrition_Yes</th>\n",
       "      <th>EducationField_Life Sciences</th>\n",
       "      <th>EducationField_Marketing</th>\n",
       "      <th>EducationField_Medical</th>\n",
       "      <th>EducationField_Other</th>\n",
       "      <th>EducationField_Technical Degree</th>\n",
       "      <th>Department_Research &amp; Development</th>\n",
       "      <th>Department_Sales</th>\n",
       "      <th>MaritalStatus_Married</th>\n",
       "    </tr>\n",
       "  </thead>\n",
       "  <tbody>\n",
       "    <tr>\n",
       "      <th>0</th>\n",
       "      <td>0.446350</td>\n",
       "      <td>-1.010909</td>\n",
       "      <td>-0.891688</td>\n",
       "      <td>-0.660531</td>\n",
       "      <td>1.153254</td>\n",
       "      <td>-0.108350</td>\n",
       "      <td>2.125136</td>\n",
       "      <td>-2.493820</td>\n",
       "      <td>-0.164613</td>\n",
       "      <td>1.194045</td>\n",
       "      <td>-0.348255</td>\n",
       "      <td>-0.679141</td>\n",
       "      <td>-0.243059</td>\n",
       "      <td>-0.314093</td>\n",
       "      <td>-1.374051</td>\n",
       "      <td>1.515244</td>\n",
       "      <td>-0.918921</td>\n",
       "      <td>1.458650</td>\n",
       "    </tr>\n",
       "    <tr>\n",
       "      <th>1</th>\n",
       "      <td>1.322365</td>\n",
       "      <td>-0.147150</td>\n",
       "      <td>-1.868426</td>\n",
       "      <td>0.254625</td>\n",
       "      <td>-0.660853</td>\n",
       "      <td>-0.291719</td>\n",
       "      <td>-0.678049</td>\n",
       "      <td>0.338096</td>\n",
       "      <td>0.488508</td>\n",
       "      <td>1.194045</td>\n",
       "      <td>-0.348255</td>\n",
       "      <td>-0.679141</td>\n",
       "      <td>-0.243059</td>\n",
       "      <td>-0.314093</td>\n",
       "      <td>0.727775</td>\n",
       "      <td>-0.659960</td>\n",
       "      <td>1.088232</td>\n",
       "      <td>-0.685565</td>\n",
       "    </tr>\n",
       "    <tr>\n",
       "      <th>2</th>\n",
       "      <td>0.008343</td>\n",
       "      <td>-0.887515</td>\n",
       "      <td>-0.891688</td>\n",
       "      <td>1.169781</td>\n",
       "      <td>0.246200</td>\n",
       "      <td>-0.937654</td>\n",
       "      <td>1.324226</td>\n",
       "      <td>0.338096</td>\n",
       "      <td>-1.144294</td>\n",
       "      <td>-0.837490</td>\n",
       "      <td>-0.348255</td>\n",
       "      <td>-0.679141</td>\n",
       "      <td>4.114223</td>\n",
       "      <td>-0.314093</td>\n",
       "      <td>0.727775</td>\n",
       "      <td>-0.659960</td>\n",
       "      <td>-0.918921</td>\n",
       "      <td>1.458650</td>\n",
       "    </tr>\n",
       "    <tr>\n",
       "      <th>3</th>\n",
       "      <td>-0.429664</td>\n",
       "      <td>-0.764121</td>\n",
       "      <td>1.061787</td>\n",
       "      <td>1.169781</td>\n",
       "      <td>0.246200</td>\n",
       "      <td>-0.763634</td>\n",
       "      <td>-0.678049</td>\n",
       "      <td>0.338096</td>\n",
       "      <td>0.161947</td>\n",
       "      <td>1.194045</td>\n",
       "      <td>-0.348255</td>\n",
       "      <td>-0.679141</td>\n",
       "      <td>-0.243059</td>\n",
       "      <td>-0.314093</td>\n",
       "      <td>0.727775</td>\n",
       "      <td>-0.659960</td>\n",
       "      <td>1.088232</td>\n",
       "      <td>-0.685565</td>\n",
       "    </tr>\n",
       "    <tr>\n",
       "      <th>4</th>\n",
       "      <td>-1.086676</td>\n",
       "      <td>-0.887515</td>\n",
       "      <td>-1.868426</td>\n",
       "      <td>-1.575686</td>\n",
       "      <td>-0.660853</td>\n",
       "      <td>-0.644858</td>\n",
       "      <td>2.525591</td>\n",
       "      <td>0.338096</td>\n",
       "      <td>-0.817734</td>\n",
       "      <td>-0.837490</td>\n",
       "      <td>-0.348255</td>\n",
       "      <td>1.472448</td>\n",
       "      <td>-0.243059</td>\n",
       "      <td>-0.314093</td>\n",
       "      <td>0.727775</td>\n",
       "      <td>-0.659960</td>\n",
       "      <td>1.088232</td>\n",
       "      <td>-0.685565</td>\n",
       "    </tr>\n",
       "  </tbody>\n",
       "</table>\n",
       "</div>"
      ],
      "text/plain": [
       "        Age  DistanceFromHome  Education  EnvironmentSatisfaction  \\\n",
       "0  0.446350         -1.010909  -0.891688                -0.660531   \n",
       "1  1.322365         -0.147150  -1.868426                 0.254625   \n",
       "2  0.008343         -0.887515  -0.891688                 1.169781   \n",
       "3 -0.429664         -0.764121   1.061787                 1.169781   \n",
       "4 -1.086676         -0.887515  -1.868426                -1.575686   \n",
       "\n",
       "   JobSatisfaction  MonthlyIncome  NumCompaniesWorked  WorkLifeBalance  \\\n",
       "0         1.153254      -0.108350            2.125136        -2.493820   \n",
       "1        -0.660853      -0.291719           -0.678049         0.338096   \n",
       "2         0.246200      -0.937654            1.324226         0.338096   \n",
       "3         0.246200      -0.763634           -0.678049         0.338096   \n",
       "4        -0.660853      -0.644858            2.525591         0.338096   \n",
       "\n",
       "   YearsAtCompany  Attrition_Yes  EducationField_Life Sciences  \\\n",
       "0       -0.164613       1.194045                     -0.348255   \n",
       "1        0.488508       1.194045                     -0.348255   \n",
       "2       -1.144294      -0.837490                     -0.348255   \n",
       "3        0.161947       1.194045                     -0.348255   \n",
       "4       -0.817734      -0.837490                     -0.348255   \n",
       "\n",
       "   EducationField_Marketing  EducationField_Medical  EducationField_Other  \\\n",
       "0                 -0.679141               -0.243059             -0.314093   \n",
       "1                 -0.679141               -0.243059             -0.314093   \n",
       "2                 -0.679141                4.114223             -0.314093   \n",
       "3                 -0.679141               -0.243059             -0.314093   \n",
       "4                  1.472448               -0.243059             -0.314093   \n",
       "\n",
       "   EducationField_Technical Degree  Department_Research & Development  \\\n",
       "0                        -1.374051                           1.515244   \n",
       "1                         0.727775                          -0.659960   \n",
       "2                         0.727775                          -0.659960   \n",
       "3                         0.727775                          -0.659960   \n",
       "4                         0.727775                          -0.659960   \n",
       "\n",
       "   Department_Sales  MaritalStatus_Married  \n",
       "0         -0.918921               1.458650  \n",
       "1          1.088232              -0.685565  \n",
       "2         -0.918921               1.458650  \n",
       "3          1.088232              -0.685565  \n",
       "4          1.088232              -0.685565  "
      ]
     },
     "execution_count": 66,
     "metadata": {},
     "output_type": "execute_result"
    }
   ],
   "source": [
    "dataframe = pd.DataFrame(scaled_features,columns=dataframe.columns[:-1])\n",
    "dataframe.head()"
   ]
  },
  {
   "cell_type": "markdown",
   "metadata": {},
   "source": [
    "## Train Test Split"
   ]
  },
  {
   "cell_type": "code",
   "execution_count": 94,
   "metadata": {},
   "outputs": [],
   "source": [
    "## Importing library for training and testing\n",
    "from sklearn.model_selection import train_test_split"
   ]
  },
  {
   "cell_type": "code",
   "execution_count": 95,
   "metadata": {},
   "outputs": [],
   "source": [
    "## Taking 70:30 Ratio of Training and testing\n",
    "X_train, X_test, y_train, y_test = train_test_split(X,dataframe['Attrition_Yes'],test_size=0.30)"
   ]
  },
  {
   "cell_type": "markdown",
   "metadata": {},
   "source": [
    "## Using KNN\n",
    "\n",
    "Remember that we are trying to come up with a model to predict whether someone will Attritionor not. We'll start with k=1."
   ]
  },
  {
   "cell_type": "code",
   "execution_count": 96,
   "metadata": {},
   "outputs": [],
   "source": [
    "## Importing K-nearest Neighbors classifier\n",
    "from sklearn.neighbors import KNeighborsClassifier"
   ]
  },
  {
   "cell_type": "code",
   "execution_count": 97,
   "metadata": {},
   "outputs": [],
   "source": [
    "## Taking value of K = 1\n",
    "knn = KNeighborsClassifier(n_neighbors=1)"
   ]
  },
  {
   "cell_type": "code",
   "execution_count": 98,
   "metadata": {},
   "outputs": [
    {
     "data": {
      "text/plain": [
       "KNeighborsClassifier(algorithm='auto', leaf_size=30, metric='minkowski',\n",
       "           metric_params=None, n_jobs=None, n_neighbors=1, p=2,\n",
       "           weights='uniform')"
      ]
     },
     "execution_count": 98,
     "metadata": {},
     "output_type": "execute_result"
    }
   ],
   "source": [
    "knn.fit(X_train,y_train)"
   ]
  },
  {
   "cell_type": "code",
   "execution_count": 99,
   "metadata": {},
   "outputs": [],
   "source": [
    "pred = knn.predict(X_test)"
   ]
  },
  {
   "cell_type": "markdown",
   "metadata": {},
   "source": [
    "## Predictions and Evaluations\n",
    "\n",
    "Let's evaluate our KNN model!"
   ]
  },
  {
   "cell_type": "code",
   "execution_count": 100,
   "metadata": {},
   "outputs": [],
   "source": [
    "## Importing For confusion matrix and classification report\n",
    "from sklearn.metrics import classification_report,confusion_matrix"
   ]
  },
  {
   "cell_type": "code",
   "execution_count": 101,
   "metadata": {},
   "outputs": [
    {
     "name": "stdout",
     "output_type": "stream",
     "text": [
      "Confusion Matrix::\n",
      "[[314  48]\n",
      " [ 65  14]]\n"
     ]
    },
    {
     "data": {
      "image/png": "[encoded data removed]",
      "text/plain": [
       "<Figure size 432x288 with 2 Axes>"
      ]
     },
     "metadata": {
      "needs_background": "light"
     },
     "output_type": "display_data"
    }
   ],
   "source": [
    "## Confusion Matrix\n",
    "print(\"Confusion Matrix::\")\n",
    "conf_mat_lr = confusion_matrix(y_test,pred)\n",
    "print(conf_mat_lr)\n",
    "sns.heatmap(conf_mat_lr,annot = True,fmt=\"d\",linewidths=.5) \n",
    "plt.xlabel('Predicted classes')\n",
    "plt.ylabel('Actual classes')\n",
    "plt.show()"
   ]
  },
  {
   "cell_type": "code",
   "execution_count": 102,
   "metadata": {},
   "outputs": [
    {
     "name": "stdout",
     "output_type": "stream",
     "text": [
      "Classification Report:  \n",
      "               precision    recall  f1-score   support\n",
      "\n",
      "           0       0.83      0.87      0.85       362\n",
      "           1       0.23      0.18      0.20        79\n",
      "\n",
      "   micro avg       0.74      0.74      0.74       441\n",
      "   macro avg       0.53      0.52      0.52       441\n",
      "weighted avg       0.72      0.74      0.73       441\n",
      "\n"
     ]
    }
   ],
   "source": [
    "## Classification Report\n",
    "print(\"Classification Report: \",\"\\n\",classification_report(y_test,pred))"
   ]
  },
  {
   "cell_type": "markdown",
   "metadata": {},
   "source": [
    "## Choosing a K Value\n",
    "\n",
    "Let's go ahead and use the elbow method to pick a good K Value:"
   ]
  },
  {
   "cell_type": "code",
   "execution_count": 103,
   "metadata": {},
   "outputs": [],
   "source": [
    "error_rate = []\n",
    "\n",
    "# Will take some time\n",
    "for i in range(1,40):\n",
    "    \n",
    "    knn = KNeighborsClassifier(n_neighbors=i)\n",
    "    knn.fit(X_train,y_train)\n",
    "    pred_i = knn.predict(X_test)\n",
    "    error_rate.append(np.mean(pred_i != y_test))"
   ]
  },
  {
   "cell_type": "code",
   "execution_count": 104,
   "metadata": {},
   "outputs": [
    {
     "data": {
      "text/plain": [
       "Text(0, 0.5, 'Error Rate')"
      ]
     },
     "execution_count": 104,
     "metadata": {},
     "output_type": "execute_result"
    },
    {
     "data": {
      "image/png": "[encoded data removed]",
      "text/plain": [
       "<Figure size 720x432 with 1 Axes>"
      ]
     },
     "metadata": {
      "needs_background": "light"
     },
     "output_type": "display_data"
    }
   ],
   "source": [
    "plt.figure(figsize=(10,6))\n",
    "plt.plot(range(1,40),error_rate,color='blue', linestyle='dashed', marker='o',\n",
    "         markerfacecolor='red', markersize=10)\n",
    "plt.title('Error Rate vs. K Value')\n",
    "plt.xlabel('K')\n",
    "plt.ylabel('Error Rate')"
   ]
  },
  {
   "cell_type": "markdown",
   "metadata": {},
   "source": [
    "Here we can see that that after arouns K>5 the error rate just tends to hover around 0.18-016 Let's retrain the model with that and check the classification report!"
   ]
  },
  {
   "cell_type": "code",
   "execution_count": 108,
   "metadata": {},
   "outputs": [
    {
     "name": "stdout",
     "output_type": "stream",
     "text": [
      "WITH K=1\n",
      "[[314  48]\n",
      " [ 65  14]]\n"
     ]
    },
    {
     "data": {
      "image/png": "[encoded data removed]",
      "text/plain": [
       "<Figure size 432x288 with 2 Axes>"
      ]
     },
     "metadata": {
      "needs_background": "light"
     },
     "output_type": "display_data"
    }
   ],
   "source": [
    "# FIRST A QUICK COMPARISON TO OUR ORIGINAL K=1\n",
    "knn = KNeighborsClassifier(n_neighbors=1)\n",
    "\n",
    "knn.fit(X_train,y_train)\n",
    "pred = knn.predict(X_test)\n",
    "\n",
    "print('WITH K=1')\n",
    "print(confusion_matrix(y_test,pred))\n",
    "sns.heatmap(conf_mat_lr,annot = True,fmt=\"d\",linewidths=.5) \n",
    "plt.xlabel('Predicted classes')\n",
    "plt.ylabel('Actual classes')\n",
    "plt.show()"
   ]
  },
  {
   "cell_type": "code",
   "execution_count": 111,
   "metadata": {},
   "outputs": [
    {
     "name": "stdout",
     "output_type": "stream",
     "text": [
      "WITH K=5\n",
      "\n",
      "\n",
      "[[352  10]\n",
      " [ 73   6]]\n"
     ]
    },
    {
     "data": {
      "image/png": "[encoded data removed]",
      "text/plain": [
       "<Figure size 432x288 with 2 Axes>"
      ]
     },
     "metadata": {
      "needs_background": "light"
     },
     "output_type": "display_data"
    }
   ],
   "source": [
    "# NOW WITH K=5\n",
    "knn = KNeighborsClassifier(n_neighbors=5)\n",
    "\n",
    "knn.fit(X_train,y_train)\n",
    "pred = knn.predict(X_test)\n",
    "\n",
    "print('WITH K=5')\n",
    "print('\\n')\n",
    "print(confusion_matrix(y_test,pred))\n",
    "sns.heatmap(conf_mat_lr,annot = True,fmt=\"d\",linewidths=.5) \n",
    "plt.xlabel('Predicted classes')\n",
    "plt.ylabel('Actual classes')\n",
    "plt.show()"
   ]
  },
  {
   "cell_type": "markdown",
   "metadata": {},
   "source": [
    "# --------------------------------------------------------------------------------------------------------------"
   ]
  },
  {
   "cell_type": "markdown",
   "metadata": {},
   "source": [
    "# Naive Bayes with Python"
   ]
  },
  {
   "cell_type": "markdown",
   "metadata": {},
   "source": [
    "## Import Libraries"
   ]
  },
  {
   "cell_type": "code",
   "execution_count": 85,
   "metadata": {},
   "outputs": [],
   "source": [
    "# importing Library\n",
    "import numpy as np\n",
    "import matplotlib.pyplot as plt\n",
    "%matplotlib inline\n",
    "import seaborn as sns\n",
    "import pandas as pd"
   ]
  },
  {
   "cell_type": "code",
   "execution_count": 86,
   "metadata": {},
   "outputs": [],
   "source": [
    "# Importing Dataset\n",
    "dataframe=dataframe=pd.read_csv(r\"C:\\Users\\Prachi Gopalani\\Desktop\\Phyton programming course\\Advanced\\IBM Attrition Data.csv\")"
   ]
  },
  {
   "cell_type": "code",
   "execution_count": 87,
   "metadata": {},
   "outputs": [
    {
     "data": {
      "text/html": [
       "<div>\n",
       "<style scoped>\n",
       "    .dataframe tbody tr th:only-of-type {\n",
       "        vertical-align: middle;\n",
       "    }\n",
       "\n",
       "    .dataframe tbody tr th {\n",
       "        vertical-align: top;\n",
       "    }\n",
       "\n",
       "    .dataframe thead th {\n",
       "        text-align: right;\n",
       "    }\n",
       "</style>\n",
       "<table border=\"1\" class=\"dataframe\">\n",
       "  <thead>\n",
       "    <tr style=\"text-align: right;\">\n",
       "      <th></th>\n",
       "      <th>Age</th>\n",
       "      <th>Attrition</th>\n",
       "      <th>Department</th>\n",
       "      <th>DistanceFromHome</th>\n",
       "      <th>Education</th>\n",
       "      <th>EducationField</th>\n",
       "      <th>EnvironmentSatisfaction</th>\n",
       "      <th>JobSatisfaction</th>\n",
       "      <th>MaritalStatus</th>\n",
       "      <th>MonthlyIncome</th>\n",
       "      <th>NumCompaniesWorked</th>\n",
       "      <th>WorkLifeBalance</th>\n",
       "      <th>YearsAtCompany</th>\n",
       "    </tr>\n",
       "  </thead>\n",
       "  <tbody>\n",
       "    <tr>\n",
       "      <th>0</th>\n",
       "      <td>41</td>\n",
       "      <td>Yes</td>\n",
       "      <td>Sales</td>\n",
       "      <td>1</td>\n",
       "      <td>2</td>\n",
       "      <td>Life Sciences</td>\n",
       "      <td>2</td>\n",
       "      <td>4</td>\n",
       "      <td>Single</td>\n",
       "      <td>5993</td>\n",
       "      <td>8</td>\n",
       "      <td>1</td>\n",
       "      <td>6</td>\n",
       "    </tr>\n",
       "    <tr>\n",
       "      <th>1</th>\n",
       "      <td>49</td>\n",
       "      <td>No</td>\n",
       "      <td>Research &amp; Development</td>\n",
       "      <td>8</td>\n",
       "      <td>1</td>\n",
       "      <td>Life Sciences</td>\n",
       "      <td>3</td>\n",
       "      <td>2</td>\n",
       "      <td>Married</td>\n",
       "      <td>5130</td>\n",
       "      <td>1</td>\n",
       "      <td>3</td>\n",
       "      <td>10</td>\n",
       "    </tr>\n",
       "    <tr>\n",
       "      <th>2</th>\n",
       "      <td>37</td>\n",
       "      <td>Yes</td>\n",
       "      <td>Research &amp; Development</td>\n",
       "      <td>2</td>\n",
       "      <td>2</td>\n",
       "      <td>Other</td>\n",
       "      <td>4</td>\n",
       "      <td>3</td>\n",
       "      <td>Single</td>\n",
       "      <td>2090</td>\n",
       "      <td>6</td>\n",
       "      <td>3</td>\n",
       "      <td>0</td>\n",
       "    </tr>\n",
       "    <tr>\n",
       "      <th>3</th>\n",
       "      <td>33</td>\n",
       "      <td>No</td>\n",
       "      <td>Research &amp; Development</td>\n",
       "      <td>3</td>\n",
       "      <td>4</td>\n",
       "      <td>Life Sciences</td>\n",
       "      <td>4</td>\n",
       "      <td>3</td>\n",
       "      <td>Married</td>\n",
       "      <td>2909</td>\n",
       "      <td>1</td>\n",
       "      <td>3</td>\n",
       "      <td>8</td>\n",
       "    </tr>\n",
       "    <tr>\n",
       "      <th>4</th>\n",
       "      <td>27</td>\n",
       "      <td>No</td>\n",
       "      <td>Research &amp; Development</td>\n",
       "      <td>2</td>\n",
       "      <td>1</td>\n",
       "      <td>Medical</td>\n",
       "      <td>1</td>\n",
       "      <td>2</td>\n",
       "      <td>Married</td>\n",
       "      <td>3468</td>\n",
       "      <td>9</td>\n",
       "      <td>3</td>\n",
       "      <td>2</td>\n",
       "    </tr>\n",
       "  </tbody>\n",
       "</table>\n",
       "</div>"
      ],
      "text/plain": [
       "   Age Attrition              Department  DistanceFromHome  Education  \\\n",
       "0   41       Yes                   Sales                 1          2   \n",
       "1   49        No  Research & Development                 8          1   \n",
       "2   37       Yes  Research & Development                 2          2   \n",
       "3   33        No  Research & Development                 3          4   \n",
       "4   27        No  Research & Development                 2          1   \n",
       "\n",
       "  EducationField  EnvironmentSatisfaction  JobSatisfaction MaritalStatus  \\\n",
       "0  Life Sciences                        2                4        Single   \n",
       "1  Life Sciences                        3                2       Married   \n",
       "2          Other                        4                3        Single   \n",
       "3  Life Sciences                        4                3       Married   \n",
       "4        Medical                        1                2       Married   \n",
       "\n",
       "   MonthlyIncome  NumCompaniesWorked  WorkLifeBalance  YearsAtCompany  \n",
       "0           5993                   8                1               6  \n",
       "1           5130                   1                3              10  \n",
       "2           2090                   6                3               0  \n",
       "3           2909                   1                3               8  \n",
       "4           3468                   9                3               2  "
      ]
     },
     "execution_count": 87,
     "metadata": {},
     "output_type": "execute_result"
    }
   ],
   "source": [
    "# Top 5 Rows\n",
    "dataframe.head()"
   ]
  },
  {
   "cell_type": "markdown",
   "metadata": {},
   "source": [
    "## Dummy Variables"
   ]
  },
  {
   "cell_type": "code",
   "execution_count": 88,
   "metadata": {},
   "outputs": [
    {
     "data": {
      "text/html": [
       "<div>\n",
       "<style scoped>\n",
       "    .dataframe tbody tr th:only-of-type {\n",
       "        vertical-align: middle;\n",
       "    }\n",
       "\n",
       "    .dataframe tbody tr th {\n",
       "        vertical-align: top;\n",
       "    }\n",
       "\n",
       "    .dataframe thead th {\n",
       "        text-align: right;\n",
       "    }\n",
       "</style>\n",
       "<table border=\"1\" class=\"dataframe\">\n",
       "  <thead>\n",
       "    <tr style=\"text-align: right;\">\n",
       "      <th></th>\n",
       "      <th>Age</th>\n",
       "      <th>DistanceFromHome</th>\n",
       "      <th>Education</th>\n",
       "      <th>EnvironmentSatisfaction</th>\n",
       "      <th>JobSatisfaction</th>\n",
       "      <th>MonthlyIncome</th>\n",
       "      <th>NumCompaniesWorked</th>\n",
       "      <th>WorkLifeBalance</th>\n",
       "      <th>YearsAtCompany</th>\n",
       "      <th>Attrition_Yes</th>\n",
       "      <th>EducationField_Life Sciences</th>\n",
       "      <th>EducationField_Marketing</th>\n",
       "      <th>EducationField_Medical</th>\n",
       "      <th>EducationField_Other</th>\n",
       "      <th>EducationField_Technical Degree</th>\n",
       "      <th>Department_Research &amp; Development</th>\n",
       "      <th>Department_Sales</th>\n",
       "      <th>MaritalStatus_Married</th>\n",
       "      <th>MaritalStatus_Single</th>\n",
       "    </tr>\n",
       "  </thead>\n",
       "  <tbody>\n",
       "    <tr>\n",
       "      <th>0</th>\n",
       "      <td>41</td>\n",
       "      <td>1</td>\n",
       "      <td>2</td>\n",
       "      <td>2</td>\n",
       "      <td>4</td>\n",
       "      <td>5993</td>\n",
       "      <td>8</td>\n",
       "      <td>1</td>\n",
       "      <td>6</td>\n",
       "      <td>1</td>\n",
       "      <td>1</td>\n",
       "      <td>0</td>\n",
       "      <td>0</td>\n",
       "      <td>0</td>\n",
       "      <td>0</td>\n",
       "      <td>0</td>\n",
       "      <td>1</td>\n",
       "      <td>0</td>\n",
       "      <td>1</td>\n",
       "    </tr>\n",
       "    <tr>\n",
       "      <th>1</th>\n",
       "      <td>49</td>\n",
       "      <td>8</td>\n",
       "      <td>1</td>\n",
       "      <td>3</td>\n",
       "      <td>2</td>\n",
       "      <td>5130</td>\n",
       "      <td>1</td>\n",
       "      <td>3</td>\n",
       "      <td>10</td>\n",
       "      <td>0</td>\n",
       "      <td>1</td>\n",
       "      <td>0</td>\n",
       "      <td>0</td>\n",
       "      <td>0</td>\n",
       "      <td>0</td>\n",
       "      <td>1</td>\n",
       "      <td>0</td>\n",
       "      <td>1</td>\n",
       "      <td>0</td>\n",
       "    </tr>\n",
       "    <tr>\n",
       "      <th>2</th>\n",
       "      <td>37</td>\n",
       "      <td>2</td>\n",
       "      <td>2</td>\n",
       "      <td>4</td>\n",
       "      <td>3</td>\n",
       "      <td>2090</td>\n",
       "      <td>6</td>\n",
       "      <td>3</td>\n",
       "      <td>0</td>\n",
       "      <td>1</td>\n",
       "      <td>0</td>\n",
       "      <td>0</td>\n",
       "      <td>0</td>\n",
       "      <td>1</td>\n",
       "      <td>0</td>\n",
       "      <td>1</td>\n",
       "      <td>0</td>\n",
       "      <td>0</td>\n",
       "      <td>1</td>\n",
       "    </tr>\n",
       "    <tr>\n",
       "      <th>3</th>\n",
       "      <td>33</td>\n",
       "      <td>3</td>\n",
       "      <td>4</td>\n",
       "      <td>4</td>\n",
       "      <td>3</td>\n",
       "      <td>2909</td>\n",
       "      <td>1</td>\n",
       "      <td>3</td>\n",
       "      <td>8</td>\n",
       "      <td>0</td>\n",
       "      <td>1</td>\n",
       "      <td>0</td>\n",
       "      <td>0</td>\n",
       "      <td>0</td>\n",
       "      <td>0</td>\n",
       "      <td>1</td>\n",
       "      <td>0</td>\n",
       "      <td>1</td>\n",
       "      <td>0</td>\n",
       "    </tr>\n",
       "    <tr>\n",
       "      <th>4</th>\n",
       "      <td>27</td>\n",
       "      <td>2</td>\n",
       "      <td>1</td>\n",
       "      <td>1</td>\n",
       "      <td>2</td>\n",
       "      <td>3468</td>\n",
       "      <td>9</td>\n",
       "      <td>3</td>\n",
       "      <td>2</td>\n",
       "      <td>0</td>\n",
       "      <td>0</td>\n",
       "      <td>0</td>\n",
       "      <td>1</td>\n",
       "      <td>0</td>\n",
       "      <td>0</td>\n",
       "      <td>1</td>\n",
       "      <td>0</td>\n",
       "      <td>1</td>\n",
       "      <td>0</td>\n",
       "    </tr>\n",
       "  </tbody>\n",
       "</table>\n",
       "</div>"
      ],
      "text/plain": [
       "   Age  DistanceFromHome  Education  EnvironmentSatisfaction  JobSatisfaction  \\\n",
       "0   41                 1          2                        2                4   \n",
       "1   49                 8          1                        3                2   \n",
       "2   37                 2          2                        4                3   \n",
       "3   33                 3          4                        4                3   \n",
       "4   27                 2          1                        1                2   \n",
       "\n",
       "   MonthlyIncome  NumCompaniesWorked  WorkLifeBalance  YearsAtCompany  \\\n",
       "0           5993                   8                1               6   \n",
       "1           5130                   1                3              10   \n",
       "2           2090                   6                3               0   \n",
       "3           2909                   1                3               8   \n",
       "4           3468                   9                3               2   \n",
       "\n",
       "   Attrition_Yes  EducationField_Life Sciences  EducationField_Marketing  \\\n",
       "0              1                             1                         0   \n",
       "1              0                             1                         0   \n",
       "2              1                             0                         0   \n",
       "3              0                             1                         0   \n",
       "4              0                             0                         0   \n",
       "\n",
       "   EducationField_Medical  EducationField_Other  \\\n",
       "0                       0                     0   \n",
       "1                       0                     0   \n",
       "2                       0                     1   \n",
       "3                       0                     0   \n",
       "4                       1                     0   \n",
       "\n",
       "   EducationField_Technical Degree  Department_Research & Development  \\\n",
       "0                                0                                  0   \n",
       "1                                0                                  1   \n",
       "2                                0                                  1   \n",
       "3                                0                                  1   \n",
       "4                                0                                  1   \n",
       "\n",
       "   Department_Sales  MaritalStatus_Married  MaritalStatus_Single  \n",
       "0                 1                      0                     1  \n",
       "1                 0                      1                     0  \n",
       "2                 0                      0                     1  \n",
       "3                 0                      1                     0  \n",
       "4                 0                      1                     0  "
      ]
     },
     "execution_count": 88,
     "metadata": {},
     "output_type": "execute_result"
    }
   ],
   "source": [
    "dataframe = pd.get_dummies(dataframe, columns=['Attrition','EducationField','Department','MaritalStatus'], drop_first=True)\n",
    "dataframe.head()"
   ]
  },
  {
   "cell_type": "markdown",
   "metadata": {},
   "source": [
    "## Scaled Features"
   ]
  },
  {
   "cell_type": "code",
   "execution_count": 89,
   "metadata": {},
   "outputs": [],
   "source": [
    "## Chosen features after checking Significance level\n",
    "feature_cols = ['Age','EnvironmentSatisfaction','MonthlyIncome','DistanceFromHome','NumCompaniesWorked','JobSatisfaction',\n",
    "               'MaritalStatus_Single','WorkLifeBalance']\n",
    "X = dataframe[feature_cols] # Features\n",
    "y = dataframe.Attrition_Yes # Target variable"
   ]
  },
  {
   "cell_type": "markdown",
   "metadata": {},
   "source": [
    "## Train Test Split"
   ]
  },
  {
   "cell_type": "code",
   "execution_count": 90,
   "metadata": {},
   "outputs": [],
   "source": [
    "## Importing library for training and testing\n",
    "from sklearn.model_selection import train_test_split"
   ]
  },
  {
   "cell_type": "code",
   "execution_count": 91,
   "metadata": {},
   "outputs": [],
   "source": [
    "## Taking 70:30 Ratio of Training and testing\n",
    "X_train, X_test, Y_train, Y_test = train_test_split(X, y, test_size = 0.3, random_state=5)"
   ]
  },
  {
   "cell_type": "code",
   "execution_count": 92,
   "metadata": {},
   "outputs": [
    {
     "name": "stdout",
     "output_type": "stream",
     "text": [
      "(1029, 8)\n",
      "(441, 8)\n",
      "(1029,)\n",
      "(441,)\n"
     ]
    }
   ],
   "source": [
    "print(X_train.shape)\n",
    "print(X_test.shape)\n",
    "print(Y_train.shape)\n",
    "print(Y_test.shape)"
   ]
  },
  {
   "cell_type": "code",
   "execution_count": 93,
   "metadata": {},
   "outputs": [],
   "source": [
    "#Import Gaussian Naive Bayes model\n",
    "from sklearn.naive_bayes import GaussianNB\n",
    "\n",
    "#Create a Gaussian Classifier\n",
    "gnb = GaussianNB()\n",
    "\n",
    "#Train the model using the training sets\n",
    "gnb.fit(X_train, Y_train)\n",
    "\n",
    "#Predict the response for test dataset\n",
    "y_pred = gnb.predict(X_test)"
   ]
  },
  {
   "cell_type": "code",
   "execution_count": 94,
   "metadata": {},
   "outputs": [],
   "source": [
    "## Importing library for Confusion Matrix and Acuuracy Score\n",
    "from sklearn.metrics import accuracy_score \n",
    "from sklearn.metrics import confusion_matrix"
   ]
  },
  {
   "cell_type": "code",
   "execution_count": 95,
   "metadata": {},
   "outputs": [
    {
     "data": {
      "text/plain": [
       "GaussianNB(priors=None, var_smoothing=1e-09)"
      ]
     },
     "execution_count": 95,
     "metadata": {},
     "output_type": "execute_result"
    }
   ],
   "source": [
    "# bulding the NB model\n",
    "model_nb = GaussianNB()\n",
    "model_nb.fit(X_train, Y_train)"
   ]
  },
  {
   "cell_type": "code",
   "execution_count": 96,
   "metadata": {},
   "outputs": [],
   "source": [
    "# predicting train set to calculate acuracy of NB model\n",
    "predicted_classes_nb = model_nb.predict(X_train)"
   ]
  },
  {
   "cell_type": "code",
   "execution_count": 97,
   "metadata": {},
   "outputs": [
    {
     "name": "stdout",
     "output_type": "stream",
     "text": [
      "Confusion Matrix for NB model::\n",
      "[[854  14]\n",
      " [134  27]]\n"
     ]
    }
   ],
   "source": [
    "print(\"Confusion Matrix for NB model::\")\n",
    "conf_mat_nb = confusion_matrix(Y_train.tolist(),predicted_classes_nb)\n",
    "print(conf_mat_nb)"
   ]
  },
  {
   "cell_type": "code",
   "execution_count": 98,
   "metadata": {},
   "outputs": [
    {
     "data": {
      "image/png": "[encoded data removed]",
      "text/plain": [
       "<Figure size 432x288 with 2 Axes>"
      ]
     },
     "metadata": {
      "needs_background": "light"
     },
     "output_type": "display_data"
    }
   ],
   "source": [
    "sns.heatmap(conf_mat_nb,annot = True,fmt=\"d\") \n",
    "plt.xlabel('Predicted classes')\n",
    "plt.ylabel('Actual classes')\n",
    "plt.show()"
   ]
  },
  {
   "cell_type": "code",
   "execution_count": 99,
   "metadata": {},
   "outputs": [
    {
     "name": "stdout",
     "output_type": "stream",
     "text": [
      "accuracy score (train) for NB model:: 0.8561710398445093\n"
     ]
    }
   ],
   "source": [
    "accuracy_nb = accuracy_score(Y_train,predicted_classes_nb)\n",
    "print(\"accuracy score (train) for NB model::\", accuracy_nb)"
   ]
  },
  {
   "cell_type": "code",
   "execution_count": 100,
   "metadata": {},
   "outputs": [],
   "source": [
    "### Test SET\n",
    "predicted_test_classes_nb = model_nb.predict(X_test)"
   ]
  },
  {
   "cell_type": "code",
   "execution_count": 101,
   "metadata": {},
   "outputs": [
    {
     "name": "stdout",
     "output_type": "stream",
     "text": [
      "Confusion Matrix (Test set) for NB model::\n",
      "[[359   6]\n",
      " [ 64  12]]\n"
     ]
    },
    {
     "data": {
      "image/png": "[encoded data removed]",
      "text/plain": [
       "<Figure size 432x288 with 2 Axes>"
      ]
     },
     "metadata": {
      "needs_background": "light"
     },
     "output_type": "display_data"
    }
   ],
   "source": [
    "print(\"Confusion Matrix (Test set) for NB model::\")\n",
    "conf_mat_test_nb = confusion_matrix(Y_test.tolist(),predicted_test_classes_nb)\n",
    "print(conf_mat_test_nb)\n",
    "sns.heatmap(conf_mat_test_nb,annot = True,fmt=\"d\") \n",
    "plt.xlabel('Predicted classes')\n",
    "plt.ylabel('Actual classes')\n",
    "plt.show()"
   ]
  },
  {
   "cell_type": "code",
   "execution_count": 102,
   "metadata": {},
   "outputs": [
    {
     "name": "stdout",
     "output_type": "stream",
     "text": [
      "accuracy score - Naive Bayes (Test set):: 0.8412698412698413\n"
     ]
    }
   ],
   "source": [
    "accuracy_test_nb = accuracy_score(Y_test,predicted_test_classes_nb)\n",
    "print(\"accuracy score - Naive Bayes (Test set)::\", accuracy_test_nb)"
   ]
  },
  {
   "cell_type": "markdown",
   "metadata": {},
   "source": [
    "# --------------------------------------------------------------------------------------------------------------"
   ]
  },
  {
   "cell_type": "markdown",
   "metadata": {},
   "source": [
    "# SVM with Python"
   ]
  },
  {
   "cell_type": "markdown",
   "metadata": {},
   "source": [
    "## Importing Library"
   ]
  },
  {
   "cell_type": "code",
   "execution_count": 18,
   "metadata": {},
   "outputs": [],
   "source": [
    "##Importing libraries\n",
    "import pandas as pd\n",
    "import numpy as np\n",
    "import matplotlib.pyplot as plt\n",
    "%matplotlib inline\n",
    "from sklearn import metrics"
   ]
  },
  {
   "cell_type": "code",
   "execution_count": 19,
   "metadata": {},
   "outputs": [],
   "source": [
    "# Importing the datasets\n",
    "dataframe = pd.read_csv(r\"C:\\Users\\Prachi Gopalani\\Desktop\\Phyton programming course\\Advanced\\IBM Attrition Data.csv\")"
   ]
  },
  {
   "cell_type": "code",
   "execution_count": 20,
   "metadata": {},
   "outputs": [
    {
     "data": {
      "text/plain": [
       "(1470, 13)"
      ]
     },
     "execution_count": 20,
     "metadata": {},
     "output_type": "execute_result"
    }
   ],
   "source": [
    "## Matrix Shape\n",
    "dataframe.shape"
   ]
  },
  {
   "cell_type": "code",
   "execution_count": 21,
   "metadata": {},
   "outputs": [
    {
     "data": {
      "text/html": [
       "<div>\n",
       "<style scoped>\n",
       "    .dataframe tbody tr th:only-of-type {\n",
       "        vertical-align: middle;\n",
       "    }\n",
       "\n",
       "    .dataframe tbody tr th {\n",
       "        vertical-align: top;\n",
       "    }\n",
       "\n",
       "    .dataframe thead th {\n",
       "        text-align: right;\n",
       "    }\n",
       "</style>\n",
       "<table border=\"1\" class=\"dataframe\">\n",
       "  <thead>\n",
       "    <tr style=\"text-align: right;\">\n",
       "      <th></th>\n",
       "      <th>Age</th>\n",
       "      <th>Attrition</th>\n",
       "      <th>Department</th>\n",
       "      <th>DistanceFromHome</th>\n",
       "      <th>Education</th>\n",
       "      <th>EducationField</th>\n",
       "      <th>EnvironmentSatisfaction</th>\n",
       "      <th>JobSatisfaction</th>\n",
       "      <th>MaritalStatus</th>\n",
       "      <th>MonthlyIncome</th>\n",
       "      <th>NumCompaniesWorked</th>\n",
       "      <th>WorkLifeBalance</th>\n",
       "      <th>YearsAtCompany</th>\n",
       "    </tr>\n",
       "  </thead>\n",
       "  <tbody>\n",
       "    <tr>\n",
       "      <th>0</th>\n",
       "      <td>41</td>\n",
       "      <td>Yes</td>\n",
       "      <td>Sales</td>\n",
       "      <td>1</td>\n",
       "      <td>2</td>\n",
       "      <td>Life Sciences</td>\n",
       "      <td>2</td>\n",
       "      <td>4</td>\n",
       "      <td>Single</td>\n",
       "      <td>5993</td>\n",
       "      <td>8</td>\n",
       "      <td>1</td>\n",
       "      <td>6</td>\n",
       "    </tr>\n",
       "    <tr>\n",
       "      <th>1</th>\n",
       "      <td>49</td>\n",
       "      <td>No</td>\n",
       "      <td>Research &amp; Development</td>\n",
       "      <td>8</td>\n",
       "      <td>1</td>\n",
       "      <td>Life Sciences</td>\n",
       "      <td>3</td>\n",
       "      <td>2</td>\n",
       "      <td>Married</td>\n",
       "      <td>5130</td>\n",
       "      <td>1</td>\n",
       "      <td>3</td>\n",
       "      <td>10</td>\n",
       "    </tr>\n",
       "    <tr>\n",
       "      <th>2</th>\n",
       "      <td>37</td>\n",
       "      <td>Yes</td>\n",
       "      <td>Research &amp; Development</td>\n",
       "      <td>2</td>\n",
       "      <td>2</td>\n",
       "      <td>Other</td>\n",
       "      <td>4</td>\n",
       "      <td>3</td>\n",
       "      <td>Single</td>\n",
       "      <td>2090</td>\n",
       "      <td>6</td>\n",
       "      <td>3</td>\n",
       "      <td>0</td>\n",
       "    </tr>\n",
       "    <tr>\n",
       "      <th>3</th>\n",
       "      <td>33</td>\n",
       "      <td>No</td>\n",
       "      <td>Research &amp; Development</td>\n",
       "      <td>3</td>\n",
       "      <td>4</td>\n",
       "      <td>Life Sciences</td>\n",
       "      <td>4</td>\n",
       "      <td>3</td>\n",
       "      <td>Married</td>\n",
       "      <td>2909</td>\n",
       "      <td>1</td>\n",
       "      <td>3</td>\n",
       "      <td>8</td>\n",
       "    </tr>\n",
       "    <tr>\n",
       "      <th>4</th>\n",
       "      <td>27</td>\n",
       "      <td>No</td>\n",
       "      <td>Research &amp; Development</td>\n",
       "      <td>2</td>\n",
       "      <td>1</td>\n",
       "      <td>Medical</td>\n",
       "      <td>1</td>\n",
       "      <td>2</td>\n",
       "      <td>Married</td>\n",
       "      <td>3468</td>\n",
       "      <td>9</td>\n",
       "      <td>3</td>\n",
       "      <td>2</td>\n",
       "    </tr>\n",
       "  </tbody>\n",
       "</table>\n",
       "</div>"
      ],
      "text/plain": [
       "   Age Attrition              Department  DistanceFromHome  Education  \\\n",
       "0   41       Yes                   Sales                 1          2   \n",
       "1   49        No  Research & Development                 8          1   \n",
       "2   37       Yes  Research & Development                 2          2   \n",
       "3   33        No  Research & Development                 3          4   \n",
       "4   27        No  Research & Development                 2          1   \n",
       "\n",
       "  EducationField  EnvironmentSatisfaction  JobSatisfaction MaritalStatus  \\\n",
       "0  Life Sciences                        2                4        Single   \n",
       "1  Life Sciences                        3                2       Married   \n",
       "2          Other                        4                3        Single   \n",
       "3  Life Sciences                        4                3       Married   \n",
       "4        Medical                        1                2       Married   \n",
       "\n",
       "   MonthlyIncome  NumCompaniesWorked  WorkLifeBalance  YearsAtCompany  \n",
       "0           5993                   8                1               6  \n",
       "1           5130                   1                3              10  \n",
       "2           2090                   6                3               0  \n",
       "3           2909                   1                3               8  \n",
       "4           3468                   9                3               2  "
      ]
     },
     "execution_count": 21,
     "metadata": {},
     "output_type": "execute_result"
    }
   ],
   "source": [
    "#Top 5 rows\n",
    "dataframe.head()"
   ]
  },
  {
   "cell_type": "markdown",
   "metadata": {},
   "source": [
    "## Dummy Varibales"
   ]
  },
  {
   "cell_type": "code",
   "execution_count": 22,
   "metadata": {},
   "outputs": [
    {
     "data": {
      "text/html": [
       "<div>\n",
       "<style scoped>\n",
       "    .dataframe tbody tr th:only-of-type {\n",
       "        vertical-align: middle;\n",
       "    }\n",
       "\n",
       "    .dataframe tbody tr th {\n",
       "        vertical-align: top;\n",
       "    }\n",
       "\n",
       "    .dataframe thead th {\n",
       "        text-align: right;\n",
       "    }\n",
       "</style>\n",
       "<table border=\"1\" class=\"dataframe\">\n",
       "  <thead>\n",
       "    <tr style=\"text-align: right;\">\n",
       "      <th></th>\n",
       "      <th>Age</th>\n",
       "      <th>DistanceFromHome</th>\n",
       "      <th>Education</th>\n",
       "      <th>EnvironmentSatisfaction</th>\n",
       "      <th>JobSatisfaction</th>\n",
       "      <th>MonthlyIncome</th>\n",
       "      <th>NumCompaniesWorked</th>\n",
       "      <th>WorkLifeBalance</th>\n",
       "      <th>YearsAtCompany</th>\n",
       "      <th>Attrition_Yes</th>\n",
       "      <th>EducationField_Life Sciences</th>\n",
       "      <th>EducationField_Marketing</th>\n",
       "      <th>EducationField_Medical</th>\n",
       "      <th>EducationField_Other</th>\n",
       "      <th>EducationField_Technical Degree</th>\n",
       "      <th>Department_Research &amp; Development</th>\n",
       "      <th>Department_Sales</th>\n",
       "      <th>MaritalStatus_Married</th>\n",
       "      <th>MaritalStatus_Single</th>\n",
       "    </tr>\n",
       "  </thead>\n",
       "  <tbody>\n",
       "    <tr>\n",
       "      <th>0</th>\n",
       "      <td>41</td>\n",
       "      <td>1</td>\n",
       "      <td>2</td>\n",
       "      <td>2</td>\n",
       "      <td>4</td>\n",
       "      <td>5993</td>\n",
       "      <td>8</td>\n",
       "      <td>1</td>\n",
       "      <td>6</td>\n",
       "      <td>1</td>\n",
       "      <td>1</td>\n",
       "      <td>0</td>\n",
       "      <td>0</td>\n",
       "      <td>0</td>\n",
       "      <td>0</td>\n",
       "      <td>0</td>\n",
       "      <td>1</td>\n",
       "      <td>0</td>\n",
       "      <td>1</td>\n",
       "    </tr>\n",
       "    <tr>\n",
       "      <th>1</th>\n",
       "      <td>49</td>\n",
       "      <td>8</td>\n",
       "      <td>1</td>\n",
       "      <td>3</td>\n",
       "      <td>2</td>\n",
       "      <td>5130</td>\n",
       "      <td>1</td>\n",
       "      <td>3</td>\n",
       "      <td>10</td>\n",
       "      <td>0</td>\n",
       "      <td>1</td>\n",
       "      <td>0</td>\n",
       "      <td>0</td>\n",
       "      <td>0</td>\n",
       "      <td>0</td>\n",
       "      <td>1</td>\n",
       "      <td>0</td>\n",
       "      <td>1</td>\n",
       "      <td>0</td>\n",
       "    </tr>\n",
       "    <tr>\n",
       "      <th>2</th>\n",
       "      <td>37</td>\n",
       "      <td>2</td>\n",
       "      <td>2</td>\n",
       "      <td>4</td>\n",
       "      <td>3</td>\n",
       "      <td>2090</td>\n",
       "      <td>6</td>\n",
       "      <td>3</td>\n",
       "      <td>0</td>\n",
       "      <td>1</td>\n",
       "      <td>0</td>\n",
       "      <td>0</td>\n",
       "      <td>0</td>\n",
       "      <td>1</td>\n",
       "      <td>0</td>\n",
       "      <td>1</td>\n",
       "      <td>0</td>\n",
       "      <td>0</td>\n",
       "      <td>1</td>\n",
       "    </tr>\n",
       "    <tr>\n",
       "      <th>3</th>\n",
       "      <td>33</td>\n",
       "      <td>3</td>\n",
       "      <td>4</td>\n",
       "      <td>4</td>\n",
       "      <td>3</td>\n",
       "      <td>2909</td>\n",
       "      <td>1</td>\n",
       "      <td>3</td>\n",
       "      <td>8</td>\n",
       "      <td>0</td>\n",
       "      <td>1</td>\n",
       "      <td>0</td>\n",
       "      <td>0</td>\n",
       "      <td>0</td>\n",
       "      <td>0</td>\n",
       "      <td>1</td>\n",
       "      <td>0</td>\n",
       "      <td>1</td>\n",
       "      <td>0</td>\n",
       "    </tr>\n",
       "    <tr>\n",
       "      <th>4</th>\n",
       "      <td>27</td>\n",
       "      <td>2</td>\n",
       "      <td>1</td>\n",
       "      <td>1</td>\n",
       "      <td>2</td>\n",
       "      <td>3468</td>\n",
       "      <td>9</td>\n",
       "      <td>3</td>\n",
       "      <td>2</td>\n",
       "      <td>0</td>\n",
       "      <td>0</td>\n",
       "      <td>0</td>\n",
       "      <td>1</td>\n",
       "      <td>0</td>\n",
       "      <td>0</td>\n",
       "      <td>1</td>\n",
       "      <td>0</td>\n",
       "      <td>1</td>\n",
       "      <td>0</td>\n",
       "    </tr>\n",
       "  </tbody>\n",
       "</table>\n",
       "</div>"
      ],
      "text/plain": [
       "   Age  DistanceFromHome  Education  EnvironmentSatisfaction  JobSatisfaction  \\\n",
       "0   41                 1          2                        2                4   \n",
       "1   49                 8          1                        3                2   \n",
       "2   37                 2          2                        4                3   \n",
       "3   33                 3          4                        4                3   \n",
       "4   27                 2          1                        1                2   \n",
       "\n",
       "   MonthlyIncome  NumCompaniesWorked  WorkLifeBalance  YearsAtCompany  \\\n",
       "0           5993                   8                1               6   \n",
       "1           5130                   1                3              10   \n",
       "2           2090                   6                3               0   \n",
       "3           2909                   1                3               8   \n",
       "4           3468                   9                3               2   \n",
       "\n",
       "   Attrition_Yes  EducationField_Life Sciences  EducationField_Marketing  \\\n",
       "0              1                             1                         0   \n",
       "1              0                             1                         0   \n",
       "2              1                             0                         0   \n",
       "3              0                             1                         0   \n",
       "4              0                             0                         0   \n",
       "\n",
       "   EducationField_Medical  EducationField_Other  \\\n",
       "0                       0                     0   \n",
       "1                       0                     0   \n",
       "2                       0                     1   \n",
       "3                       0                     0   \n",
       "4                       1                     0   \n",
       "\n",
       "   EducationField_Technical Degree  Department_Research & Development  \\\n",
       "0                                0                                  0   \n",
       "1                                0                                  1   \n",
       "2                                0                                  1   \n",
       "3                                0                                  1   \n",
       "4                                0                                  1   \n",
       "\n",
       "   Department_Sales  MaritalStatus_Married  MaritalStatus_Single  \n",
       "0                 1                      0                     1  \n",
       "1                 0                      1                     0  \n",
       "2                 0                      0                     1  \n",
       "3                 0                      1                     0  \n",
       "4                 0                      1                     0  "
      ]
     },
     "execution_count": 22,
     "metadata": {},
     "output_type": "execute_result"
    }
   ],
   "source": [
    "dataframe = pd.get_dummies(dataframe, columns=['Attrition','EducationField','Department','MaritalStatus'], drop_first=True)\n",
    "dataframe.head()"
   ]
  },
  {
   "cell_type": "markdown",
   "metadata": {},
   "source": [
    "## Relevent Features"
   ]
  },
  {
   "cell_type": "code",
   "execution_count": 23,
   "metadata": {},
   "outputs": [],
   "source": [
    "feature_cols = ['Age','EnvironmentSatisfaction','MonthlyIncome','DistanceFromHome','NumCompaniesWorked','JobSatisfaction',\n",
    "               'MaritalStatus_Single','WorkLifeBalance']\n",
    "X = dataframe[feature_cols] # Features\n",
    "y = dataframe.Attrition_Yes # Target variable"
   ]
  },
  {
   "cell_type": "markdown",
   "metadata": {},
   "source": [
    "## Train Test split"
   ]
  },
  {
   "cell_type": "code",
   "execution_count": 24,
   "metadata": {},
   "outputs": [],
   "source": [
    "## Splitting the data in 70:30 ratio\n",
    "from sklearn.model_selection import train_test_split\n",
    "X_train, X_test, y_train, y_test = train_test_split(X, y, test_size = 0.30)"
   ]
  },
  {
   "cell_type": "code",
   "execution_count": 25,
   "metadata": {},
   "outputs": [
    {
     "data": {
      "text/plain": [
       "SVC(C=1.0, cache_size=200, class_weight=None, coef0=0.0,\n",
       "  decision_function_shape='ovr', degree=3, gamma='auto_deprecated',\n",
       "  kernel='linear', max_iter=-1, probability=False, random_state=None,\n",
       "  shrinking=True, tol=0.001, verbose=False)"
      ]
     },
     "execution_count": 25,
     "metadata": {},
     "output_type": "execute_result"
    }
   ],
   "source": [
    "## Training the Algorithm\n",
    "from sklearn.svm import SVC\n",
    "svclassifier = SVC(kernel='linear')\n",
    "svclassifier.fit(X_train, y_train)"
   ]
  },
  {
   "cell_type": "markdown",
   "metadata": {},
   "source": [
    "## Predictions and Evaluations\n",
    "\n",
    "Now let's predict using the trained model."
   ]
  },
  {
   "cell_type": "code",
   "execution_count": 26,
   "metadata": {},
   "outputs": [],
   "source": [
    "## Making Predictions\n",
    "y_pred = svclassifier.predict(X_test)"
   ]
  },
  {
   "cell_type": "code",
   "execution_count": 27,
   "metadata": {},
   "outputs": [
    {
     "name": "stdout",
     "output_type": "stream",
     "text": [
      "Accuracy: 0.8390022675736961\n",
      "Classification Report:  \n",
      "               precision    recall  f1-score   support\n",
      "\n",
      "           0       0.86      0.97      0.91       368\n",
      "           1       0.54      0.18      0.27        73\n",
      "\n",
      "   micro avg       0.84      0.84      0.84       441\n",
      "   macro avg       0.70      0.57      0.59       441\n",
      "weighted avg       0.80      0.84      0.80       441\n",
      "\n"
     ]
    }
   ],
   "source": [
    "## Evaluating th Alogrithm\n",
    "from sklearn.metrics import classification_report, confusion_matrix\n",
    "print(\"Accuracy:\",metrics.accuracy_score(y_test, y_pred))\n",
    "print(\"Classification Report: \",\"\\n\",classification_report(y_test,y_pred))"
   ]
  },
  {
   "cell_type": "code",
   "execution_count": 28,
   "metadata": {},
   "outputs": [
    {
     "name": "stdout",
     "output_type": "stream",
     "text": [
      "Confusion Matrix (Test set) model::\n",
      "[[357  11]\n",
      " [ 60  13]]\n"
     ]
    },
    {
     "data": {
      "image/png": "[encoded data removed]",
      "text/plain": [
       "<Figure size 432x288 with 2 Axes>"
      ]
     },
     "metadata": {
      "needs_background": "light"
     },
     "output_type": "display_data"
    }
   ],
   "source": [
    "print(\"Confusion Matrix (Test set) model::\")\n",
    "conf_mat_test_nb = confusion_matrix(y_test,y_pred)\n",
    "print(conf_mat_test_nb)\n",
    "sns.heatmap(conf_mat_test_nb,annot = True,fmt=\"d\") \n",
    "plt.xlabel('Predicted classes')\n",
    "plt.ylabel('Actual classes')\n",
    "plt.show()"
   ]
  },
  {
   "cell_type": "markdown",
   "metadata": {},
   "source": [
    "# --------------------------------------------------------------------------------------------------------------"
   ]
  },
  {
   "cell_type": "markdown",
   "metadata": {},
   "source": [
    "# Decision Tree"
   ]
  },
  {
   "cell_type": "code",
   "execution_count": 29,
   "metadata": {},
   "outputs": [],
   "source": [
    "import numpy as np\n",
    "import pandas as pd\n",
    "from sklearn.tree import DecisionTreeClassifier # Import Decision Tree Classifier\n",
    "from sklearn.model_selection import train_test_split # Import train_test_split function\n",
    "from sklearn import metrics #Import scikit-learn metrics module for accuracy calculation"
   ]
  },
  {
   "cell_type": "code",
   "execution_count": 30,
   "metadata": {},
   "outputs": [],
   "source": [
    "dataframe=pd.read_csv(\"C://Users//Prachi Gopalani//Desktop//Phyton programming course//IBM Attrition Data.csv\")"
   ]
  },
  {
   "cell_type": "code",
   "execution_count": 31,
   "metadata": {},
   "outputs": [
    {
     "data": {
      "text/html": [
       "<div>\n",
       "<style scoped>\n",
       "    .dataframe tbody tr th:only-of-type {\n",
       "        vertical-align: middle;\n",
       "    }\n",
       "\n",
       "    .dataframe tbody tr th {\n",
       "        vertical-align: top;\n",
       "    }\n",
       "\n",
       "    .dataframe thead th {\n",
       "        text-align: right;\n",
       "    }\n",
       "</style>\n",
       "<table border=\"1\" class=\"dataframe\">\n",
       "  <thead>\n",
       "    <tr style=\"text-align: right;\">\n",
       "      <th></th>\n",
       "      <th>Age</th>\n",
       "      <th>DistanceFromHome</th>\n",
       "      <th>Education</th>\n",
       "      <th>EnvironmentSatisfaction</th>\n",
       "      <th>JobSatisfaction</th>\n",
       "      <th>MonthlyIncome</th>\n",
       "      <th>NumCompaniesWorked</th>\n",
       "      <th>WorkLifeBalance</th>\n",
       "      <th>YearsAtCompany</th>\n",
       "    </tr>\n",
       "  </thead>\n",
       "  <tbody>\n",
       "    <tr>\n",
       "      <th>count</th>\n",
       "      <td>1470.000000</td>\n",
       "      <td>1470.000000</td>\n",
       "      <td>1470.000000</td>\n",
       "      <td>1470.000000</td>\n",
       "      <td>1470.000000</td>\n",
       "      <td>1470.000000</td>\n",
       "      <td>1470.000000</td>\n",
       "      <td>1470.000000</td>\n",
       "      <td>1470.000000</td>\n",
       "    </tr>\n",
       "    <tr>\n",
       "      <th>mean</th>\n",
       "      <td>36.923810</td>\n",
       "      <td>9.192517</td>\n",
       "      <td>2.912925</td>\n",
       "      <td>2.721769</td>\n",
       "      <td>2.728571</td>\n",
       "      <td>6502.931293</td>\n",
       "      <td>2.693197</td>\n",
       "      <td>2.761224</td>\n",
       "      <td>7.008163</td>\n",
       "    </tr>\n",
       "    <tr>\n",
       "      <th>std</th>\n",
       "      <td>9.135373</td>\n",
       "      <td>8.106864</td>\n",
       "      <td>1.024165</td>\n",
       "      <td>1.093082</td>\n",
       "      <td>1.102846</td>\n",
       "      <td>4707.956783</td>\n",
       "      <td>2.498009</td>\n",
       "      <td>0.706476</td>\n",
       "      <td>6.126525</td>\n",
       "    </tr>\n",
       "    <tr>\n",
       "      <th>min</th>\n",
       "      <td>18.000000</td>\n",
       "      <td>1.000000</td>\n",
       "      <td>1.000000</td>\n",
       "      <td>1.000000</td>\n",
       "      <td>1.000000</td>\n",
       "      <td>1009.000000</td>\n",
       "      <td>0.000000</td>\n",
       "      <td>1.000000</td>\n",
       "      <td>0.000000</td>\n",
       "    </tr>\n",
       "    <tr>\n",
       "      <th>25%</th>\n",
       "      <td>30.000000</td>\n",
       "      <td>2.000000</td>\n",
       "      <td>2.000000</td>\n",
       "      <td>2.000000</td>\n",
       "      <td>2.000000</td>\n",
       "      <td>2911.000000</td>\n",
       "      <td>1.000000</td>\n",
       "      <td>2.000000</td>\n",
       "      <td>3.000000</td>\n",
       "    </tr>\n",
       "    <tr>\n",
       "      <th>50%</th>\n",
       "      <td>36.000000</td>\n",
       "      <td>7.000000</td>\n",
       "      <td>3.000000</td>\n",
       "      <td>3.000000</td>\n",
       "      <td>3.000000</td>\n",
       "      <td>4919.000000</td>\n",
       "      <td>2.000000</td>\n",
       "      <td>3.000000</td>\n",
       "      <td>5.000000</td>\n",
       "    </tr>\n",
       "    <tr>\n",
       "      <th>75%</th>\n",
       "      <td>43.000000</td>\n",
       "      <td>14.000000</td>\n",
       "      <td>4.000000</td>\n",
       "      <td>4.000000</td>\n",
       "      <td>4.000000</td>\n",
       "      <td>8379.000000</td>\n",
       "      <td>4.000000</td>\n",
       "      <td>3.000000</td>\n",
       "      <td>9.000000</td>\n",
       "    </tr>\n",
       "    <tr>\n",
       "      <th>max</th>\n",
       "      <td>60.000000</td>\n",
       "      <td>29.000000</td>\n",
       "      <td>5.000000</td>\n",
       "      <td>4.000000</td>\n",
       "      <td>4.000000</td>\n",
       "      <td>19999.000000</td>\n",
       "      <td>9.000000</td>\n",
       "      <td>4.000000</td>\n",
       "      <td>40.000000</td>\n",
       "    </tr>\n",
       "  </tbody>\n",
       "</table>\n",
       "</div>"
      ],
      "text/plain": [
       "               Age  DistanceFromHome    Education  EnvironmentSatisfaction  \\\n",
       "count  1470.000000       1470.000000  1470.000000              1470.000000   \n",
       "mean     36.923810          9.192517     2.912925                 2.721769   \n",
       "std       9.135373          8.106864     1.024165                 1.093082   \n",
       "min      18.000000          1.000000     1.000000                 1.000000   \n",
       "25%      30.000000          2.000000     2.000000                 2.000000   \n",
       "50%      36.000000          7.000000     3.000000                 3.000000   \n",
       "75%      43.000000         14.000000     4.000000                 4.000000   \n",
       "max      60.000000         29.000000     5.000000                 4.000000   \n",
       "\n",
       "       JobSatisfaction  MonthlyIncome  NumCompaniesWorked  WorkLifeBalance  \\\n",
       "count      1470.000000    1470.000000         1470.000000      1470.000000   \n",
       "mean          2.728571    6502.931293            2.693197         2.761224   \n",
       "std           1.102846    4707.956783            2.498009         0.706476   \n",
       "min           1.000000    1009.000000            0.000000         1.000000   \n",
       "25%           2.000000    2911.000000            1.000000         2.000000   \n",
       "50%           3.000000    4919.000000            2.000000         3.000000   \n",
       "75%           4.000000    8379.000000            4.000000         3.000000   \n",
       "max           4.000000   19999.000000            9.000000         4.000000   \n",
       "\n",
       "       YearsAtCompany  \n",
       "count     1470.000000  \n",
       "mean         7.008163  \n",
       "std          6.126525  \n",
       "min          0.000000  \n",
       "25%          3.000000  \n",
       "50%          5.000000  \n",
       "75%          9.000000  \n",
       "max         40.000000  "
      ]
     },
     "execution_count": 31,
     "metadata": {},
     "output_type": "execute_result"
    }
   ],
   "source": [
    "dataframe.describe()"
   ]
  },
  {
   "cell_type": "code",
   "execution_count": 32,
   "metadata": {},
   "outputs": [
    {
     "data": {
      "text/html": [
       "<div>\n",
       "<style scoped>\n",
       "    .dataframe tbody tr th:only-of-type {\n",
       "        vertical-align: middle;\n",
       "    }\n",
       "\n",
       "    .dataframe tbody tr th {\n",
       "        vertical-align: top;\n",
       "    }\n",
       "\n",
       "    .dataframe thead th {\n",
       "        text-align: right;\n",
       "    }\n",
       "</style>\n",
       "<table border=\"1\" class=\"dataframe\">\n",
       "  <thead>\n",
       "    <tr style=\"text-align: right;\">\n",
       "      <th></th>\n",
       "      <th>Age</th>\n",
       "      <th>DistanceFromHome</th>\n",
       "      <th>Education</th>\n",
       "      <th>EnvironmentSatisfaction</th>\n",
       "      <th>JobSatisfaction</th>\n",
       "      <th>MonthlyIncome</th>\n",
       "      <th>NumCompaniesWorked</th>\n",
       "      <th>WorkLifeBalance</th>\n",
       "      <th>YearsAtCompany</th>\n",
       "      <th>Attrition_Yes</th>\n",
       "      <th>EducationField_Life Sciences</th>\n",
       "      <th>EducationField_Marketing</th>\n",
       "      <th>EducationField_Medical</th>\n",
       "      <th>EducationField_Other</th>\n",
       "      <th>EducationField_Technical Degree</th>\n",
       "      <th>Department_Research &amp; Development</th>\n",
       "      <th>Department_Sales</th>\n",
       "      <th>MaritalStatus_Married</th>\n",
       "      <th>MaritalStatus_Single</th>\n",
       "    </tr>\n",
       "  </thead>\n",
       "  <tbody>\n",
       "    <tr>\n",
       "      <th>0</th>\n",
       "      <td>41</td>\n",
       "      <td>1</td>\n",
       "      <td>2</td>\n",
       "      <td>2</td>\n",
       "      <td>4</td>\n",
       "      <td>5993</td>\n",
       "      <td>8</td>\n",
       "      <td>1</td>\n",
       "      <td>6</td>\n",
       "      <td>1</td>\n",
       "      <td>1</td>\n",
       "      <td>0</td>\n",
       "      <td>0</td>\n",
       "      <td>0</td>\n",
       "      <td>0</td>\n",
       "      <td>0</td>\n",
       "      <td>1</td>\n",
       "      <td>0</td>\n",
       "      <td>1</td>\n",
       "    </tr>\n",
       "    <tr>\n",
       "      <th>1</th>\n",
       "      <td>49</td>\n",
       "      <td>8</td>\n",
       "      <td>1</td>\n",
       "      <td>3</td>\n",
       "      <td>2</td>\n",
       "      <td>5130</td>\n",
       "      <td>1</td>\n",
       "      <td>3</td>\n",
       "      <td>10</td>\n",
       "      <td>0</td>\n",
       "      <td>1</td>\n",
       "      <td>0</td>\n",
       "      <td>0</td>\n",
       "      <td>0</td>\n",
       "      <td>0</td>\n",
       "      <td>1</td>\n",
       "      <td>0</td>\n",
       "      <td>1</td>\n",
       "      <td>0</td>\n",
       "    </tr>\n",
       "    <tr>\n",
       "      <th>2</th>\n",
       "      <td>37</td>\n",
       "      <td>2</td>\n",
       "      <td>2</td>\n",
       "      <td>4</td>\n",
       "      <td>3</td>\n",
       "      <td>2090</td>\n",
       "      <td>6</td>\n",
       "      <td>3</td>\n",
       "      <td>0</td>\n",
       "      <td>1</td>\n",
       "      <td>0</td>\n",
       "      <td>0</td>\n",
       "      <td>0</td>\n",
       "      <td>1</td>\n",
       "      <td>0</td>\n",
       "      <td>1</td>\n",
       "      <td>0</td>\n",
       "      <td>0</td>\n",
       "      <td>1</td>\n",
       "    </tr>\n",
       "    <tr>\n",
       "      <th>3</th>\n",
       "      <td>33</td>\n",
       "      <td>3</td>\n",
       "      <td>4</td>\n",
       "      <td>4</td>\n",
       "      <td>3</td>\n",
       "      <td>2909</td>\n",
       "      <td>1</td>\n",
       "      <td>3</td>\n",
       "      <td>8</td>\n",
       "      <td>0</td>\n",
       "      <td>1</td>\n",
       "      <td>0</td>\n",
       "      <td>0</td>\n",
       "      <td>0</td>\n",
       "      <td>0</td>\n",
       "      <td>1</td>\n",
       "      <td>0</td>\n",
       "      <td>1</td>\n",
       "      <td>0</td>\n",
       "    </tr>\n",
       "    <tr>\n",
       "      <th>4</th>\n",
       "      <td>27</td>\n",
       "      <td>2</td>\n",
       "      <td>1</td>\n",
       "      <td>1</td>\n",
       "      <td>2</td>\n",
       "      <td>3468</td>\n",
       "      <td>9</td>\n",
       "      <td>3</td>\n",
       "      <td>2</td>\n",
       "      <td>0</td>\n",
       "      <td>0</td>\n",
       "      <td>0</td>\n",
       "      <td>1</td>\n",
       "      <td>0</td>\n",
       "      <td>0</td>\n",
       "      <td>1</td>\n",
       "      <td>0</td>\n",
       "      <td>1</td>\n",
       "      <td>0</td>\n",
       "    </tr>\n",
       "  </tbody>\n",
       "</table>\n",
       "</div>"
      ],
      "text/plain": [
       "   Age  DistanceFromHome  Education  EnvironmentSatisfaction  JobSatisfaction  \\\n",
       "0   41                 1          2                        2                4   \n",
       "1   49                 8          1                        3                2   \n",
       "2   37                 2          2                        4                3   \n",
       "3   33                 3          4                        4                3   \n",
       "4   27                 2          1                        1                2   \n",
       "\n",
       "   MonthlyIncome  NumCompaniesWorked  WorkLifeBalance  YearsAtCompany  \\\n",
       "0           5993                   8                1               6   \n",
       "1           5130                   1                3              10   \n",
       "2           2090                   6                3               0   \n",
       "3           2909                   1                3               8   \n",
       "4           3468                   9                3               2   \n",
       "\n",
       "   Attrition_Yes  EducationField_Life Sciences  EducationField_Marketing  \\\n",
       "0              1                             1                         0   \n",
       "1              0                             1                         0   \n",
       "2              1                             0                         0   \n",
       "3              0                             1                         0   \n",
       "4              0                             0                         0   \n",
       "\n",
       "   EducationField_Medical  EducationField_Other  \\\n",
       "0                       0                     0   \n",
       "1                       0                     0   \n",
       "2                       0                     1   \n",
       "3                       0                     0   \n",
       "4                       1                     0   \n",
       "\n",
       "   EducationField_Technical Degree  Department_Research & Development  \\\n",
       "0                                0                                  0   \n",
       "1                                0                                  1   \n",
       "2                                0                                  1   \n",
       "3                                0                                  1   \n",
       "4                                0                                  1   \n",
       "\n",
       "   Department_Sales  MaritalStatus_Married  MaritalStatus_Single  \n",
       "0                 1                      0                     1  \n",
       "1                 0                      1                     0  \n",
       "2                 0                      0                     1  \n",
       "3                 0                      1                     0  \n",
       "4                 0                      1                     0  "
      ]
     },
     "execution_count": 32,
     "metadata": {},
     "output_type": "execute_result"
    }
   ],
   "source": [
    "dataframe = pd.get_dummies(dataframe, columns=['Attrition','EducationField','Department','MaritalStatus'], drop_first=True)\n",
    "dataframe.head()"
   ]
  },
  {
   "cell_type": "code",
   "execution_count": 33,
   "metadata": {},
   "outputs": [],
   "source": [
    "feature_cols = ['Age','EnvironmentSatisfaction','MonthlyIncome','DistanceFromHome','NumCompaniesWorked','JobSatisfaction',\n",
    "               'MaritalStatus_Single','WorkLifeBalance']\n",
    "X = dataframe[feature_cols] # Features\n",
    "y = dataframe.Attrition_Yes # Target variable"
   ]
  },
  {
   "cell_type": "markdown",
   "metadata": {},
   "source": [
    "## Train Test Split\n",
    "\n",
    "Let's split up the data into a training set and a test set!"
   ]
  },
  {
   "cell_type": "code",
   "execution_count": 34,
   "metadata": {},
   "outputs": [],
   "source": [
    "from sklearn.model_selection import train_test_split"
   ]
  },
  {
   "cell_type": "code",
   "execution_count": 35,
   "metadata": {},
   "outputs": [],
   "source": [
    "X_train, X_test, y_train, y_test = train_test_split(X, y, test_size=0.30)"
   ]
  },
  {
   "cell_type": "markdown",
   "metadata": {},
   "source": [
    "## Decision Tree Classifier\n",
    "\n",
    "We'll start just by training a single decision tree."
   ]
  },
  {
   "cell_type": "code",
   "execution_count": 36,
   "metadata": {},
   "outputs": [],
   "source": [
    "from sklearn.tree import DecisionTreeClassifier"
   ]
  },
  {
   "cell_type": "code",
   "execution_count": 68,
   "metadata": {},
   "outputs": [],
   "source": [
    "dtree = DecisionTreeClassifier(criterion=\"entropy\", max_depth=2)"
   ]
  },
  {
   "cell_type": "code",
   "execution_count": 69,
   "metadata": {},
   "outputs": [
    {
     "data": {
      "text/plain": [
       "DecisionTreeClassifier(class_weight=None, criterion='entropy', max_depth=2,\n",
       "            max_features=None, max_leaf_nodes=None,\n",
       "            min_impurity_decrease=0.0, min_impurity_split=None,\n",
       "            min_samples_leaf=1, min_samples_split=2,\n",
       "            min_weight_fraction_leaf=0.0, presort=False, random_state=None,\n",
       "            splitter='best')"
      ]
     },
     "execution_count": 69,
     "metadata": {},
     "output_type": "execute_result"
    }
   ],
   "source": [
    "dtree.fit(X_train,y_train)"
   ]
  },
  {
   "cell_type": "markdown",
   "metadata": {},
   "source": [
    "## Prediction and Evaluation \n",
    "\n",
    "Let's evaluate our decision tree."
   ]
  },
  {
   "cell_type": "code",
   "execution_count": 70,
   "metadata": {},
   "outputs": [],
   "source": [
    "predictions = dtree.predict(X_test)"
   ]
  },
  {
   "cell_type": "code",
   "execution_count": 71,
   "metadata": {},
   "outputs": [],
   "source": [
    "from sklearn.metrics import classification_report,confusion_matrix"
   ]
  },
  {
   "cell_type": "code",
   "execution_count": 72,
   "metadata": {},
   "outputs": [
    {
     "name": "stdout",
     "output_type": "stream",
     "text": [
      "              precision    recall  f1-score   support\n",
      "\n",
      "           0       0.82      1.00      0.90       361\n",
      "           1       0.00      0.00      0.00        80\n",
      "\n",
      "   micro avg       0.82      0.82      0.82       441\n",
      "   macro avg       0.41      0.50      0.45       441\n",
      "weighted avg       0.67      0.82      0.74       441\n",
      "\n"
     ]
    },
    {
     "name": "stderr",
     "output_type": "stream",
     "text": [
      "C:\\Users\\Prachi Gopalani\\Anaconda3\\lib\\site-packages\\sklearn\\metrics\\classification.py:1143: UndefinedMetricWarning: Precision and F-score are ill-defined and being set to 0.0 in labels with no predicted samples.\n",
      "  'precision', 'predicted', average, warn_for)\n",
      "C:\\Users\\Prachi Gopalani\\Anaconda3\\lib\\site-packages\\sklearn\\metrics\\classification.py:1143: UndefinedMetricWarning: Precision and F-score are ill-defined and being set to 0.0 in labels with no predicted samples.\n",
      "  'precision', 'predicted', average, warn_for)\n",
      "C:\\Users\\Prachi Gopalani\\Anaconda3\\lib\\site-packages\\sklearn\\metrics\\classification.py:1143: UndefinedMetricWarning: Precision and F-score are ill-defined and being set to 0.0 in labels with no predicted samples.\n",
      "  'precision', 'predicted', average, warn_for)\n"
     ]
    }
   ],
   "source": [
    "print(classification_report(y_test,predictions))"
   ]
  },
  {
   "cell_type": "code",
   "execution_count": 73,
   "metadata": {},
   "outputs": [
    {
     "name": "stdout",
     "output_type": "stream",
     "text": [
      "[[361   0]\n",
      " [ 80   0]]\n"
     ]
    }
   ],
   "source": [
    "print(confusion_matrix(y_test,predictions))"
   ]
  },
  {
   "cell_type": "markdown",
   "metadata": {},
   "source": [
    "## Tree Visualization\n",
    "\n",
    "Scikit learn actually has some built-in visualization capabilities for decision trees, you won't use this often and it requires you to install the pydot library, but here is an example of what it looks like and the code to execute this:"
   ]
  },
  {
   "cell_type": "code",
   "execution_count": 74,
   "metadata": {
    "scrolled": true
   },
   "outputs": [
    {
     "data": {
      "text/plain": [
       "['Age',\n",
       " 'EnvironmentSatisfaction',\n",
       " 'MonthlyIncome',\n",
       " 'DistanceFromHome',\n",
       " 'NumCompaniesWorked',\n",
       " 'JobSatisfaction',\n",
       " 'MaritalStatus_Single',\n",
       " 'WorkLifeBalance']"
      ]
     },
     "execution_count": 74,
     "metadata": {},
     "output_type": "execute_result"
    }
   ],
   "source": [
    "from IPython.display import Image  \n",
    "from sklearn.externals.six import StringIO  \n",
    "from sklearn.tree import export_graphviz\n",
    "import pydot \n",
    "\n",
    "features = list(X.columns[0:])\n",
    "features\n"
   ]
  },
  {
   "cell_type": "code",
   "execution_count": 75,
   "metadata": {},
   "outputs": [],
   "source": [
    "import os\n",
    "os.environ[\"PATH\"] += os.pathsep + 'C:/Users/Prachi Gopalani/Anaconda3/Library/bin/graphviz'"
   ]
  },
  {
   "cell_type": "code",
   "execution_count": 76,
   "metadata": {},
   "outputs": [
    {
     "data": {
      "image/svg+xml": [
       "<?xml version=\"1.0\" encoding=\"UTF-8\" standalone=\"no\"?>\r\n",
       "<!DOCTYPE svg PUBLIC \"-//W3C//DTD SVG 1.1//EN\"\r\n",
       " \"http://www.w3.org/Graphics/SVG/1.1/DTD/svg11.dtd\">\r\n",
       "<!-- Generated by graphviz version 2.38.0 (20140413.2041)\r\n",
       " -->\r\n",
       "<!-- Title: Tree Pages: 1 -->\r\n",
       "<svg width=\"561pt\" height=\"269pt\"\r\n",
       " viewBox=\"0.00 0.00 561.00 269.00\" xmlns=\"http://www.w3.org/2000/svg\" xmlns:xlink=\"http://www.w3.org/1999/xlink\">\r\n",
       "<g id=\"graph0\" class=\"graph\" transform=\"scale(1 1) rotate(0) translate(4 265)\">\r\n",
       "<title>Tree</title>\r\n",
       "<polygon fill=\"white\" stroke=\"none\" points=\"-4,4 -4,-265 557,-265 557,4 -4,4\"/>\r\n",
       "<!-- 0 -->\r\n",
       "<g id=\"node1\" class=\"node\"><title>0</title>\r\n",
       "<path fill=\"#e58139\" fill-opacity=\"0.819608\" stroke=\"black\" d=\"M352,-261C352,-261 194,-261 194,-261 188,-261 182,-255 182,-249 182,-249 182,-205 182,-205 182,-199 188,-193 194,-193 194,-193 352,-193 352,-193 358,-193 364,-199 364,-205 364,-205 364,-249 364,-249 364,-255 358,-261 352,-261\"/>\r\n",
       "<text text-anchor=\"middle\" x=\"273\" y=\"-245.8\" font-family=\"Helvetica,sans-Serif\" font-size=\"14.00\">MonthlyIncome &lt;= 2974.5</text>\r\n",
       "<text text-anchor=\"middle\" x=\"273\" y=\"-230.8\" font-family=\"Helvetica,sans-Serif\" font-size=\"14.00\">entropy = 0.616</text>\r\n",
       "<text text-anchor=\"middle\" x=\"273\" y=\"-215.8\" font-family=\"Helvetica,sans-Serif\" font-size=\"14.00\">samples = 1029</text>\r\n",
       "<text text-anchor=\"middle\" x=\"273\" y=\"-200.8\" font-family=\"Helvetica,sans-Serif\" font-size=\"14.00\">value = [872, 157]</text>\r\n",
       "</g>\r\n",
       "<!-- 1 -->\r\n",
       "<g id=\"node2\" class=\"node\"><title>1</title>\r\n",
       "<path fill=\"#e58139\" fill-opacity=\"0.600000\" stroke=\"black\" d=\"M235,-157C235,-157 137,-157 137,-157 131,-157 125,-151 125,-145 125,-145 125,-101 125,-101 125,-95 131,-89 137,-89 137,-89 235,-89 235,-89 241,-89 247,-95 247,-101 247,-101 247,-145 247,-145 247,-151 241,-157 235,-157\"/>\r\n",
       "<text text-anchor=\"middle\" x=\"186\" y=\"-141.8\" font-family=\"Helvetica,sans-Serif\" font-size=\"14.00\">Age &lt;= 31.5</text>\r\n",
       "<text text-anchor=\"middle\" x=\"186\" y=\"-126.8\" font-family=\"Helvetica,sans-Serif\" font-size=\"14.00\">entropy = 0.862</text>\r\n",
       "<text text-anchor=\"middle\" x=\"186\" y=\"-111.8\" font-family=\"Helvetica,sans-Serif\" font-size=\"14.00\">samples = 277</text>\r\n",
       "<text text-anchor=\"middle\" x=\"186\" y=\"-96.8\" font-family=\"Helvetica,sans-Serif\" font-size=\"14.00\">value = [198, 79]</text>\r\n",
       "</g>\r\n",
       "<!-- 0&#45;&gt;1 -->\r\n",
       "<g id=\"edge1\" class=\"edge\"><title>0&#45;&gt;1</title>\r\n",
       "<path fill=\"none\" stroke=\"black\" d=\"M244.754,-192.884C237.156,-183.976 228.848,-174.235 220.934,-164.957\"/>\r\n",
       "<polygon fill=\"black\" stroke=\"black\" points=\"223.555,-162.636 214.402,-157.299 218.229,-167.179 223.555,-162.636\"/>\r\n",
       "<text text-anchor=\"middle\" x=\"212.424\" y=\"-178.521\" font-family=\"Helvetica,sans-Serif\" font-size=\"14.00\">True</text>\r\n",
       "</g>\r\n",
       "<!-- 4 -->\r\n",
       "<g id=\"node5\" class=\"node\"><title>4</title>\r\n",
       "<path fill=\"#e58139\" fill-opacity=\"0.882353\" stroke=\"black\" d=\"M442.5,-157C442.5,-157 277.5,-157 277.5,-157 271.5,-157 265.5,-151 265.5,-145 265.5,-145 265.5,-101 265.5,-101 265.5,-95 271.5,-89 277.5,-89 277.5,-89 442.5,-89 442.5,-89 448.5,-89 454.5,-95 454.5,-101 454.5,-101 454.5,-145 454.5,-145 454.5,-151 448.5,-157 442.5,-157\"/>\r\n",
       "<text text-anchor=\"middle\" x=\"360\" y=\"-141.8\" font-family=\"Helvetica,sans-Serif\" font-size=\"14.00\">MaritalStatus_Single &lt;= 0.5</text>\r\n",
       "<text text-anchor=\"middle\" x=\"360\" y=\"-126.8\" font-family=\"Helvetica,sans-Serif\" font-size=\"14.00\">entropy = 0.481</text>\r\n",
       "<text text-anchor=\"middle\" x=\"360\" y=\"-111.8\" font-family=\"Helvetica,sans-Serif\" font-size=\"14.00\">samples = 752</text>\r\n",
       "<text text-anchor=\"middle\" x=\"360\" y=\"-96.8\" font-family=\"Helvetica,sans-Serif\" font-size=\"14.00\">value = [674, 78]</text>\r\n",
       "</g>\r\n",
       "<!-- 0&#45;&gt;4 -->\r\n",
       "<g id=\"edge4\" class=\"edge\"><title>0&#45;&gt;4</title>\r\n",
       "<path fill=\"none\" stroke=\"black\" d=\"M301.246,-192.884C308.844,-183.976 317.152,-174.235 325.066,-164.957\"/>\r\n",
       "<polygon fill=\"black\" stroke=\"black\" points=\"327.771,-167.179 331.598,-157.299 322.445,-162.636 327.771,-167.179\"/>\r\n",
       "<text text-anchor=\"middle\" x=\"333.576\" y=\"-178.521\" font-family=\"Helvetica,sans-Serif\" font-size=\"14.00\">False</text>\r\n",
       "</g>\r\n",
       "<!-- 2 -->\r\n",
       "<g id=\"node3\" class=\"node\"><title>2</title>\r\n",
       "<path fill=\"#e58139\" fill-opacity=\"0.317647\" stroke=\"black\" d=\"M104,-53C104,-53 12,-53 12,-53 6,-53 0,-47 0,-41 0,-41 0,-12 0,-12 0,-6 6,-0 12,-0 12,-0 104,-0 104,-0 110,-0 116,-6 116,-12 116,-12 116,-41 116,-41 116,-47 110,-53 104,-53\"/>\r\n",
       "<text text-anchor=\"middle\" x=\"58\" y=\"-37.8\" font-family=\"Helvetica,sans-Serif\" font-size=\"14.00\">entropy = 0.974</text>\r\n",
       "<text text-anchor=\"middle\" x=\"58\" y=\"-22.8\" font-family=\"Helvetica,sans-Serif\" font-size=\"14.00\">samples = 143</text>\r\n",
       "<text text-anchor=\"middle\" x=\"58\" y=\"-7.8\" font-family=\"Helvetica,sans-Serif\" font-size=\"14.00\">value = [85, 58]</text>\r\n",
       "</g>\r\n",
       "<!-- 1&#45;&gt;2 -->\r\n",
       "<g id=\"edge2\" class=\"edge\"><title>1&#45;&gt;2</title>\r\n",
       "<path fill=\"none\" stroke=\"black\" d=\"M141.232,-88.9485C128.221,-79.3431 114.042,-68.8747 101.134,-59.345\"/>\r\n",
       "<polygon fill=\"black\" stroke=\"black\" points=\"102.984,-56.3605 92.8603,-53.2367 98.8265,-61.992 102.984,-56.3605\"/>\r\n",
       "</g>\r\n",
       "<!-- 3 -->\r\n",
       "<g id=\"node4\" class=\"node\"><title>3</title>\r\n",
       "<path fill=\"#e58139\" fill-opacity=\"0.815686\" stroke=\"black\" d=\"M244,-53C244,-53 146,-53 146,-53 140,-53 134,-47 134,-41 134,-41 134,-12 134,-12 134,-6 140,-0 146,-0 146,-0 244,-0 244,-0 250,-0 256,-6 256,-12 256,-12 256,-41 256,-41 256,-47 250,-53 244,-53\"/>\r\n",
       "<text text-anchor=\"middle\" x=\"195\" y=\"-37.8\" font-family=\"Helvetica,sans-Serif\" font-size=\"14.00\">entropy = 0.626</text>\r\n",
       "<text text-anchor=\"middle\" x=\"195\" y=\"-22.8\" font-family=\"Helvetica,sans-Serif\" font-size=\"14.00\">samples = 134</text>\r\n",
       "<text text-anchor=\"middle\" x=\"195\" y=\"-7.8\" font-family=\"Helvetica,sans-Serif\" font-size=\"14.00\">value = [113, 21]</text>\r\n",
       "</g>\r\n",
       "<!-- 1&#45;&gt;3 -->\r\n",
       "<g id=\"edge3\" class=\"edge\"><title>1&#45;&gt;3</title>\r\n",
       "<path fill=\"none\" stroke=\"black\" d=\"M189.148,-88.9485C189.941,-80.6238 190.795,-71.6509 191.6,-63.2027\"/>\r\n",
       "<polygon fill=\"black\" stroke=\"black\" points=\"195.085,-63.5235 192.549,-53.2367 188.116,-62.8598 195.085,-63.5235\"/>\r\n",
       "</g>\r\n",
       "<!-- 5 -->\r\n",
       "<g id=\"node6\" class=\"node\"><title>5</title>\r\n",
       "<path fill=\"#e58139\" fill-opacity=\"0.917647\" stroke=\"black\" d=\"M401,-53C401,-53 303,-53 303,-53 297,-53 291,-47 291,-41 291,-41 291,-12 291,-12 291,-6 297,-0 303,-0 303,-0 401,-0 401,-0 407,-0 413,-6 413,-12 413,-12 413,-41 413,-41 413,-47 407,-53 401,-53\"/>\r\n",
       "<text text-anchor=\"middle\" x=\"352\" y=\"-37.8\" font-family=\"Helvetica,sans-Serif\" font-size=\"14.00\">entropy = 0.386</text>\r\n",
       "<text text-anchor=\"middle\" x=\"352\" y=\"-22.8\" font-family=\"Helvetica,sans-Serif\" font-size=\"14.00\">samples = 516</text>\r\n",
       "<text text-anchor=\"middle\" x=\"352\" y=\"-7.8\" font-family=\"Helvetica,sans-Serif\" font-size=\"14.00\">value = [477, 39]</text>\r\n",
       "</g>\r\n",
       "<!-- 4&#45;&gt;5 -->\r\n",
       "<g id=\"edge5\" class=\"edge\"><title>4&#45;&gt;5</title>\r\n",
       "<path fill=\"none\" stroke=\"black\" d=\"M357.202,-88.9485C356.497,-80.6238 355.738,-71.6509 355.022,-63.2027\"/>\r\n",
       "<polygon fill=\"black\" stroke=\"black\" points=\"358.51,-62.9058 354.179,-53.2367 351.535,-63.4963 358.51,-62.9058\"/>\r\n",
       "</g>\r\n",
       "<!-- 6 -->\r\n",
       "<g id=\"node7\" class=\"node\"><title>6</title>\r\n",
       "<path fill=\"#e58139\" fill-opacity=\"0.803922\" stroke=\"black\" d=\"M541,-53C541,-53 443,-53 443,-53 437,-53 431,-47 431,-41 431,-41 431,-12 431,-12 431,-6 437,-0 443,-0 443,-0 541,-0 541,-0 547,-0 553,-6 553,-12 553,-12 553,-41 553,-41 553,-47 547,-53 541,-53\"/>\r\n",
       "<text text-anchor=\"middle\" x=\"492\" y=\"-37.8\" font-family=\"Helvetica,sans-Serif\" font-size=\"14.00\">entropy = 0.647</text>\r\n",
       "<text text-anchor=\"middle\" x=\"492\" y=\"-22.8\" font-family=\"Helvetica,sans-Serif\" font-size=\"14.00\">samples = 236</text>\r\n",
       "<text text-anchor=\"middle\" x=\"492\" y=\"-7.8\" font-family=\"Helvetica,sans-Serif\" font-size=\"14.00\">value = [197, 39]</text>\r\n",
       "</g>\r\n",
       "<!-- 4&#45;&gt;6 -->\r\n",
       "<g id=\"edge6\" class=\"edge\"><title>4&#45;&gt;6</title>\r\n",
       "<path fill=\"none\" stroke=\"black\" d=\"M406.167,-88.9485C419.712,-79.2516 434.485,-68.6752 447.898,-59.073\"/>\r\n",
       "<polygon fill=\"black\" stroke=\"black\" points=\"449.957,-61.9038 456.05,-53.2367 445.882,-56.212 449.957,-61.9038\"/>\r\n",
       "</g>\r\n",
       "</g>\r\n",
       "</svg>\r\n"
      ],
      "text/plain": [
       "<graphviz.files.Source at 0x2953b8f23c8>"
      ]
     },
     "execution_count": 76,
     "metadata": {},
     "output_type": "execute_result"
    }
   ],
   "source": [
    "from sklearn.tree import export_graphviz\n",
    "import graphviz\n",
    "import pydot\n",
    "\n",
    "export_graphviz(dtree, out_file=\"mytree.dot\",feature_names=features,filled=True,rounded=True)\n",
    "\n",
    "with open(\"mytree.dot\") as f:\n",
    "    dot_graph = f.read()\n",
    "graphviz.Source(dot_graph)\n"
   ]
  },
  {
   "cell_type": "markdown",
   "metadata": {},
   "source": [
    "# --------------------------------------------------------------------------------------------------------------"
   ]
  },
  {
   "cell_type": "markdown",
   "metadata": {},
   "source": [
    "## Random Forests\n",
    "\n",
    "Now let's compare the decision tree model to a random forest."
   ]
  },
  {
   "cell_type": "code",
   "execution_count": 112,
   "metadata": {},
   "outputs": [
    {
     "data": {
      "text/plain": [
       "RandomForestClassifier(bootstrap=True, class_weight=None, criterion='gini',\n",
       "            max_depth=None, max_features='auto', max_leaf_nodes=None,\n",
       "            min_impurity_decrease=0.0, min_impurity_split=None,\n",
       "            min_samples_leaf=1, min_samples_split=2,\n",
       "            min_weight_fraction_leaf=0.0, n_estimators=100, n_jobs=None,\n",
       "            oob_score=False, random_state=None, verbose=0,\n",
       "            warm_start=False)"
      ]
     },
     "execution_count": 112,
     "metadata": {},
     "output_type": "execute_result"
    }
   ],
   "source": [
    "from sklearn.ensemble import RandomForestClassifier\n",
    "rfc = RandomForestClassifier(n_estimators=100)\n",
    "rfc.fit(X_train, y_train)"
   ]
  },
  {
   "cell_type": "code",
   "execution_count": 113,
   "metadata": {},
   "outputs": [],
   "source": [
    "rfc_pred = rfc.predict(X_test)"
   ]
  },
  {
   "cell_type": "code",
   "execution_count": 116,
   "metadata": {},
   "outputs": [
    {
     "name": "stdout",
     "output_type": "stream",
     "text": [
      "[[353   9]\n",
      " [ 71   8]]\n"
     ]
    },
    {
     "data": {
      "image/png": "[encoded data removed]",
      "text/plain": [
       "<Figure size 432x288 with 2 Axes>"
      ]
     },
     "metadata": {
      "needs_background": "light"
     },
     "output_type": "display_data"
    },
    {
     "name": "stdout",
     "output_type": "stream",
     "text": [
      "Accuracy: 0.7981859410430839\n"
     ]
    }
   ],
   "source": [
    "\n",
    "print(confusion_matrix(y_test,rfc_pred))\n",
    "sns.heatmap(conf_mat_test_nb,annot = True,fmt=\"d\") \n",
    "plt.xlabel('Predicted classes')\n",
    "plt.ylabel('Actual classes')\n",
    "plt.show()\n",
    "\n",
    "print(\"Accuracy:\",metrics.accuracy_score(y_test, y_pred))"
   ]
  },
  {
   "cell_type": "code",
   "execution_count": 49,
   "metadata": {},
   "outputs": [
    {
     "name": "stdout",
     "output_type": "stream",
     "text": [
      "              precision    recall  f1-score   support\n",
      "\n",
      "           0       0.83      0.98      0.90       361\n",
      "           1       0.50      0.09      0.15        80\n",
      "\n",
      "   micro avg       0.82      0.82      0.82       441\n",
      "   macro avg       0.66      0.53      0.52       441\n",
      "weighted avg       0.77      0.82      0.76       441\n",
      "\n"
     ]
    }
   ],
   "source": [
    "print(classification_report(y_test,rfc_pred))"
   ]
  },
  {
   "cell_type": "markdown",
   "metadata": {},
   "source": [
    "# --------------------------------------------------------------------------------------------------------------"
   ]
  }
 ],
 "metadata": {
  "kernelspec": {
   "display_name": "Python 3",
   "language": "python",
   "name": "python3"
  },
  "language_info": {
   "codemirror_mode": {
    "name": "ipython",
    "version": 3
   },
   "file_extension": ".py",
   "mimetype": "text/x-python",
   "name": "python",
   "nbconvert_exporter": "python",
   "pygments_lexer": "ipython3",
   "version": "3.7.3"
  }
 },
 "nbformat": 4,
 "nbformat_minor": 2
}
